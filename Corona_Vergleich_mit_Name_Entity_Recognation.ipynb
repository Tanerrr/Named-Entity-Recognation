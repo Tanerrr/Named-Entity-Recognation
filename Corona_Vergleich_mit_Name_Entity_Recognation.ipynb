{
 "cells": [
  {
   "cell_type": "markdown",
   "metadata": {},
   "source": [
    "# Named Entity Recognition ( Vergleich zwei Coronawellen )"
   ]
  },
  {
   "cell_type": "markdown",
   "metadata": {},
   "source": [
    "Named Entities, auf Deutsch benannte Entitäten, sind Sachen, die in einem Text genannt werden und einen Namen haben. Beispiele für Dinge, die einem Namen haben, sind Personen, Orte und Organisationen. Oft sind gerade die Dinge die mit einem Namen genannt werden, interessant. Aus diesem Grund ist die Extraktion oder die Erkennung von Named Entities wichtig."
   ]
  },
  {
   "cell_type": "markdown",
   "metadata": {},
   "source": [
    "In diesem kleinen Projekt habe ich die Nachtichten über Corona von April 2020 und von November 2020 vergleicht. "
   ]
  },
  {
   "cell_type": "code",
   "execution_count": 1,
   "metadata": {},
   "outputs": [],
   "source": [
    "#Benötige Bibliotheken und Funktionen vorgesetzt werden.\n",
    "# !pip install spacy\n",
    "# !python -m spacy download en_core_web_sm\n",
    "# !python -m spacy download de_core_news_sm"
   ]
  },
  {
   "cell_type": "code",
   "execution_count": 2,
   "metadata": {
    "scrolled": false
   },
   "outputs": [],
   "source": [
    "import glob\n",
    "import codecs\n",
    "import spacy"
   ]
  },
  {
   "cell_type": "markdown",
   "metadata": {},
   "source": [
    "> ### Nachrichten von 1.Welle"
   ]
  },
  {
   "cell_type": "code",
   "execution_count": 3,
   "metadata": {},
   "outputs": [
    {
     "name": "stdout",
     "output_type": "stream",
     "text": [
      "Corona-Live-Ticker ---  PER\n",
      "Europa\n",
      " ---  ORG\n",
      "Europa ---  LOC\n",
      "New York ---  LOC\n",
      "Deutschland ---  LOC\n",
      "Live-Blog ---  MISC\n",
      "Europa ---  LOC\n",
      "Europa\n",
      " ---  MISC\n",
      "USA ---  LOC\n",
      "Kanada ---  LOC\n",
      "Türkei ---  LOC\n",
      "Iran ---  LOC\n",
      "Die Meldungen im Einzelnen ---  MISC\n",
      "MESZ\n",
      "\n",
      "21.03 Uhr ---  MISC\n",
      "Europa ---  LOC\n",
      "AFP ---  ORG\n",
      "europäischen ---  MISC\n",
      "Europa ---  LOC\n",
      "Corona-Infektionsfälle ---  LOC\n",
      "Spaniens ---  LOC\n",
      "Pedro Sanchez ---  PER\n",
      "dänische Regierung ---  MISC\n",
      "Kronen ---  MISC\n",
      "Steuer-Zahlungen ---  MISC\n",
      "Kronen ---  MISC\n",
      "Deutschland ---  LOC\n",
      "Robert-Koch-Instituts ---  ORG\n",
      "RKI ---  ORG\n",
      "RKI ---  ORG\n",
      "Florida ---  LOC\n",
      "Corona-Krise ---  LOC\n",
      "Stadt ---  LOC\n",
      "Jacksonville Bürger ---  LOC\n",
      "Florida ---  LOC\n",
      "Johns-Hopkins-Universität ---  ORG\n",
      "SARS-CoV-2 ---  ORG\n",
      "Die Zahl der Infizierten ---  MISC\n",
      "Türkei ---  LOC\n",
      "iranischen ---  MISC\n",
      "Türkei ---  LOC\n",
      "Balat-Viertel\n",
      " ---  PER\n",
      "Istanbul ---  LOC\n",
      "Coronavirus ---  PER\n",
      "Griechenland ---  LOC\n",
      "ägäischen Inseln ---  LOC\n",
      "Lagern ---  LOC\n",
      "Wohnungen ---  LOC\n",
      "Hotels ---  LOC\n",
      "Flüchtlingslagern ---  LOC\n",
      "griechischen Inseln ---  LOC\n",
      "Camps ---  LOC\n",
      "Marokko ---  LOC\n",
      "Corona-Neuinfektionen ---  MISC\n",
      "COVID-19 ---  MISC\n",
      "Ausgangssperre ---  PER\n",
      "Virus-Toten ---  LOC\n",
      "Italien ---  LOC\n",
      "Virus ---  MISC\n",
      "Virus-Folgen ---  LOC\n",
      "Portugal ---  LOC\n",
      "Coronavirus-Pandemie ---  ORG\n",
      "sozialistische ---  MISC\n",
      "António Costa ---  PER\n",
      "Expresso ---  LOC\n",
      "Costa ---  PER\n",
      "Ausnahmezustands ---  LOC\n",
      "Friseurläden ---  LOC\n",
      "Kindergärten ---  LOC\n",
      "Restaurants ---  LOC\n",
      "Cafés ---  PER\n",
      "Kroatien ---  LOC\n",
      "EU-Mitgliedstaat ---  ORG\n",
      "Die Zahl der Virus-Toten ---  MISC\n",
      "New York ---  LOC\n",
      "Andrew Cuomo ---  PER\n",
      "Cuomo ---  PER\n",
      "New York ---  LOC\n",
      "Washington ---  LOC\n",
      "New York Pfleger Leichenabtransport Coronakrise\n",
      " ---  LOC\n",
      "New York ---  LOC\n",
      "Coronavirus ---  MISC\n",
      "USA ---  LOC\n",
      "Kanada ---  LOC\n",
      "Grenze ---  MISC\n",
      "kanadische ---  MISC\n",
      "Justin Trudeau ---  PER\n",
      "USA ---  LOC\n",
      "Kanada ---  LOC\n",
      "US-Präsident ---  LOC\n",
      "Donald Trump ---  PER\n",
      "Kanada ---  LOC\n",
      "norditalienischen ---  MISC\n",
      "Stadt ---  LOC\n",
      "Bergamo ---  LOC\n",
      "Corona-Pandemie ---  LOC\n",
      "Giorgio Gori ---  PER\n",
      "Kurzbotschaftendienst Twitter ---  LOC\n",
      "Pandemie betroffene Stadt Italiens ---  LOC\n",
      "Corona-Toten ---  ORG\n",
      "Armee ---  ORG\n",
      "Norditalien ---  LOC\n",
      "kanadischen ---  MISC\n",
      "Virus ---  MISC\n",
      "Dorval ---  LOC\n",
      "Montréal ---  LOC\n",
      "Provinz Quebec ---  LOC\n",
      "Francois Legault ---  PER\n",
      "kanadischen ---  MISC\n",
      "Horror-Altenheim ---  LOC\n",
      "Dorval ---  LOC\n",
      "Corona-Krise ---  LOC\n",
      "Kanada ---  LOC\n",
      "Langzeit-Pflegeheimen ---  LOC\n",
      "Corona-Pandemie Dorval ---  PER\n",
      "Corona ---  LOC\n",
      "Herron-Residenz ---  MISC\n",
      "Dorval\n",
      "\n",
      " ---  PER\n",
      "Bundesverfassungsgerichts ---  LOC\n",
      "Stuttgart ---  LOC\n",
      "Stadt ---  LOC\n",
      "Corona-Krise ---  LOC\n",
      "Bayerns ---  PER\n",
      "Melanie Huml ---  PER\n",
      "COVID-19-Patienten ---  MISC\n",
      "Der Gemeinsame Bundesausschuss ---  MISC\n",
      "G-BA ---  MISC\n",
      "Pjöngjang ---  LOC\n",
      "Nordkorea ---  LOC\n",
      "Radio Free Asia ---  MISC\n",
      "Mitteilungen ---  LOC\n",
      "COVID-19-Fällen ---  LOC\n"
     ]
    }
   ],
   "source": [
    "spacy_engine_de = spacy.load('de_core_news_sm')\n",
    "\n",
    "filelist = glob.glob(\"1.welle/*.txt\")\n",
    "f = filelist[0]\n",
    "datei = codecs.open(f,'r','utf8')\n",
    "text = datei.read()\n",
    "datei.close()\n",
    "    \n",
    "f_doc = spacy_engine_de(text)\n",
    "for entity in f_doc.ents:\n",
    "    print(entity.text,'--- ',entity.label_)"
   ]
  },
  {
   "cell_type": "markdown",
   "metadata": {},
   "source": [
    "> ### Nachrichten von 2.Welle "
   ]
  },
  {
   "cell_type": "code",
   "execution_count": 4,
   "metadata": {},
   "outputs": [
    {
     "name": "stdout",
     "output_type": "stream",
     "text": [
      "Anne Frank ---  PER\n",
      "Sophie Scholl ---  PER\n",
      "Corona-Leugner\n",
      " ---  ORG\n",
      "COVID-Leugner ---  ORG\n",
      "Martin Muno ---  PER\n",
      "Leipzig ---  LOC\n",
      "AfD ---  ORG\n",
      "Ermächtigungsgesetz ---  MISC\n",
      "Adolf Hitler ---  PER\n",
      "deutschen ---  MISC\n",
      "AfD ---  ORG\n",
      "Nazi-Gewaltherrschaft ---  MISC\n",
      "ahistorischer ---  MISC\n",
      "Corona-Gegner ---  MISC\n",
      "deutschen ---  MISC\n",
      "Straße ---  LOC\n",
      "Rednerinnen ---  PER\n",
      "Anne Frank ---  PER\n",
      "Karlsruhe ---  MISC\n",
      "Sophie Scholl ---  PER\n",
      "Kassel ---  LOC\n",
      "Corona-Schutzverordnungen ---  MISC\n",
      "jüdischen ---  MISC\n",
      "Corona-Leugner ---  MISC\n",
      "Martin Muno\n",
      " ---  PER\n",
      "Martin Muno\n",
      " ---  PER\n",
      "Oppositionellen ---  LOC\n",
      "jüdischen ---  MISC\n",
      "DDR ---  ORG\n",
      "Alexander Lukaschenko ---  PER\n",
      "China-hörige Führung ---  ORG\n",
      "Hongkong ---  LOC\n",
      "Weißen Haus ---  LOC\n",
      "Donald Trump ---  PER\n",
      "US-Präsident ---  LOC\n",
      "Twitter ---  LOC\n",
      "Jana ---  MISC\n",
      "Kassel ---  LOC\n",
      "Trumps Bemühen ---  PER\n",
      "Tag zu Tag ---  PER\n",
      "Deutschland ---  LOC\n",
      "USA ---  LOC\n"
     ]
    }
   ],
   "source": [
    "spacy_engine_de2 = spacy.load('de_core_news_sm')\n",
    "\n",
    "filelist2 = glob.glob(\"2.welle/*.txt\")\n",
    "f2 = filelist2[0]\n",
    "datei = codecs.open(f2,'r','utf8')\n",
    "text2 = datei.read()\n",
    "datei.close()\n",
    "    \n",
    "f_doc2 = spacy_engine_de2(text2)\n",
    "for entity2 in f_doc2.ents:\n",
    "    print(entity2.text,'--- ',entity2.label_)"
   ]
  },
  {
   "cell_type": "code",
   "execution_count": 5,
   "metadata": {
    "scrolled": false
   },
   "outputs": [],
   "source": [
    "from spacy import displacy"
   ]
  },
  {
   "cell_type": "code",
   "execution_count": 6,
   "metadata": {},
   "outputs": [
    {
     "data": {
      "text/html": [
       "<span class=\"tex2jax_ignore\"><div class=\"entities\" style=\"line-height: 2.5; direction: ltr\">\n",
       "<mark class=\"entity\" style=\"background: #ddd; padding: 0.45em 0.6em; margin: 0 0.25em; line-height: 1; border-radius: 0.35em;\">\n",
       "    Corona-Live-Ticker\n",
       "    <span style=\"font-size: 0.8em; font-weight: bold; line-height: 1; border-radius: 0.35em; text-transform: uppercase; vertical-align: middle; margin-left: 0.5rem\">PER</span>\n",
       "</mark>\n",
       " vom 18. April: Mehr als 100.000 Todesfälle in \n",
       "<mark class=\"entity\" style=\"background: #7aecec; padding: 0.45em 0.6em; margin: 0 0.25em; line-height: 1; border-radius: 0.35em;\">\n",
       "    Europa\n",
       "\n",
       "    <span style=\"font-size: 0.8em; font-weight: bold; line-height: 1; border-radius: 0.35em; text-transform: uppercase; vertical-align: middle; margin-left: 0.5rem\">ORG</span>\n",
       "</mark>\n",
       "\n",
       "<mark class=\"entity\" style=\"background: #ff9561; padding: 0.45em 0.6em; margin: 0 0.25em; line-height: 1; border-radius: 0.35em;\">\n",
       "    Europa\n",
       "    <span style=\"font-size: 0.8em; font-weight: bold; line-height: 1; border-radius: 0.35em; text-transform: uppercase; vertical-align: middle; margin-left: 0.5rem\">LOC</span>\n",
       "</mark>\n",
       " bleibt der am stärksten von der Pandemie betroffene Kontinent. In \n",
       "<mark class=\"entity\" style=\"background: #ff9561; padding: 0.45em 0.6em; margin: 0 0.25em; line-height: 1; border-radius: 0.35em;\">\n",
       "    New York\n",
       "    <span style=\"font-size: 0.8em; font-weight: bold; line-height: 1; border-radius: 0.35em; text-transform: uppercase; vertical-align: middle; margin-left: 0.5rem\">LOC</span>\n",
       "</mark>\n",
       " gibt es so wenig Virus-Tote wie zuletzt vor zwei Wochen. In \n",
       "<mark class=\"entity\" style=\"background: #ff9561; padding: 0.45em 0.6em; margin: 0 0.25em; line-height: 1; border-radius: 0.35em;\">\n",
       "    Deutschland\n",
       "    <span style=\"font-size: 0.8em; font-weight: bold; line-height: 1; border-radius: 0.35em; text-transform: uppercase; vertical-align: middle; margin-left: 0.5rem\">LOC</span>\n",
       "</mark>\n",
       " ist die Ansteckungsrate leicht gestiegen. Mehr im \n",
       "<mark class=\"entity\" style=\"background: #ddd; padding: 0.45em 0.6em; margin: 0 0.25em; line-height: 1; border-radius: 0.35em;\">\n",
       "    Live-Blog\n",
       "    <span style=\"font-size: 0.8em; font-weight: bold; line-height: 1; border-radius: 0.35em; text-transform: uppercase; vertical-align: middle; margin-left: 0.5rem\">MISC</span>\n",
       "</mark>\n",
       ".</br></br>Italien Corona-Pandemie | Fast 98.000 Corona-Todesfälle in \n",
       "<mark class=\"entity\" style=\"background: #ff9561; padding: 0.45em 0.6em; margin: 0 0.25em; line-height: 1; border-radius: 0.35em;\">\n",
       "    Europa\n",
       "    <span style=\"font-size: 0.8em; font-weight: bold; line-height: 1; border-radius: 0.35em; text-transform: uppercase; vertical-align: middle; margin-left: 0.5rem\">LOC</span>\n",
       "</mark>\n",
       "</br>Dieser Ticker ist nun geschlossen - hier noch einmal das Wichtigste in Kürze:</br></br>Rund zwei Drittel der weltweiten 2,3 Millionen Coronavirus-Infektionen entfällt auf \n",
       "<mark class=\"entity\" style=\"background: #ddd; padding: 0.45em 0.6em; margin: 0 0.25em; line-height: 1; border-radius: 0.35em;\">\n",
       "    Europa\n",
       "\n",
       "    <span style=\"font-size: 0.8em; font-weight: bold; line-height: 1; border-radius: 0.35em; text-transform: uppercase; vertical-align: middle; margin-left: 0.5rem\">MISC</span>\n",
       "</mark>\n",
       "Grenze zwischen den \n",
       "<mark class=\"entity\" style=\"background: #ff9561; padding: 0.45em 0.6em; margin: 0 0.25em; line-height: 1; border-radius: 0.35em;\">\n",
       "    USA\n",
       "    <span style=\"font-size: 0.8em; font-weight: bold; line-height: 1; border-radius: 0.35em; text-transform: uppercase; vertical-align: middle; margin-left: 0.5rem\">LOC</span>\n",
       "</mark>\n",
       " und \n",
       "<mark class=\"entity\" style=\"background: #ff9561; padding: 0.45em 0.6em; margin: 0 0.25em; line-height: 1; border-radius: 0.35em;\">\n",
       "    Kanada\n",
       "    <span style=\"font-size: 0.8em; font-weight: bold; line-height: 1; border-radius: 0.35em; text-transform: uppercase; vertical-align: middle; margin-left: 0.5rem\">LOC</span>\n",
       "</mark>\n",
       " bleibt für weitere 30 Tage geschlossen</br>In der \n",
       "<mark class=\"entity\" style=\"background: #ff9561; padding: 0.45em 0.6em; margin: 0 0.25em; line-height: 1; border-radius: 0.35em;\">\n",
       "    Türkei\n",
       "    <span style=\"font-size: 0.8em; font-weight: bold; line-height: 1; border-radius: 0.35em; text-transform: uppercase; vertical-align: middle; margin-left: 0.5rem\">LOC</span>\n",
       "</mark>\n",
       " sind inzwischen mehr Menschen mit dem Coronavirus infiziert als im \n",
       "<mark class=\"entity\" style=\"background: #ff9561; padding: 0.45em 0.6em; margin: 0 0.25em; line-height: 1; border-radius: 0.35em;\">\n",
       "    Iran\n",
       "    <span style=\"font-size: 0.8em; font-weight: bold; line-height: 1; border-radius: 0.35em; text-transform: uppercase; vertical-align: middle; margin-left: 0.5rem\">LOC</span>\n",
       "</mark>\n",
       "</br>\n",
       "<mark class=\"entity\" style=\"background: #ddd; padding: 0.45em 0.6em; margin: 0 0.25em; line-height: 1; border-radius: 0.35em;\">\n",
       "    Die Meldungen im Einzelnen\n",
       "    <span style=\"font-size: 0.8em; font-weight: bold; line-height: 1; border-radius: 0.35em; text-transform: uppercase; vertical-align: middle; margin-left: 0.5rem\">MISC</span>\n",
       "</mark>\n",
       " - alle Zeiten in \n",
       "<mark class=\"entity\" style=\"background: #ddd; padding: 0.45em 0.6em; margin: 0 0.25em; line-height: 1; border-radius: 0.35em;\">\n",
       "    MESZ\n",
       "\n",
       "21.03 Uhr\n",
       "    <span style=\"font-size: 0.8em; font-weight: bold; line-height: 1; border-radius: 0.35em; text-transform: uppercase; vertical-align: middle; margin-left: 0.5rem\">MISC</span>\n",
       "</mark>\n",
       " - In \n",
       "<mark class=\"entity\" style=\"background: #ff9561; padding: 0.45em 0.6em; margin: 0 0.25em; line-height: 1; border-radius: 0.35em;\">\n",
       "    Europa\n",
       "    <span style=\"font-size: 0.8em; font-weight: bold; line-height: 1; border-radius: 0.35em; text-transform: uppercase; vertical-align: middle; margin-left: 0.5rem\">LOC</span>\n",
       "</mark>\n",
       " sind inzwischen mehr als 100.000 Menschen nach einer Infektion mit dem neuartigen Coronavirus gestorben. Die Zahl der Todesopfer erhöhte sich am Samstagabend auf mindestens 100.501, wie eine Zählung der Nachrichtenagentur \n",
       "<mark class=\"entity\" style=\"background: #7aecec; padding: 0.45em 0.6em; margin: 0 0.25em; line-height: 1; border-radius: 0.35em;\">\n",
       "    AFP\n",
       "    <span style=\"font-size: 0.8em; font-weight: bold; line-height: 1; border-radius: 0.35em; text-transform: uppercase; vertical-align: middle; margin-left: 0.5rem\">ORG</span>\n",
       "</mark>\n",
       " auf Grundlage von Behördenangaben ergab. Das sind knapp zwei Drittel der weltweiten Corona-Todesfälle. Insgesamt wurden fast 1,14 Millionen Corona-Fälle in \n",
       "<mark class=\"entity\" style=\"background: #ddd; padding: 0.45em 0.6em; margin: 0 0.25em; line-height: 1; border-radius: 0.35em;\">\n",
       "    europäischen\n",
       "    <span style=\"font-size: 0.8em; font-weight: bold; line-height: 1; border-radius: 0.35em; text-transform: uppercase; vertical-align: middle; margin-left: 0.5rem\">MISC</span>\n",
       "</mark>\n",
       " Ländern registriert. \n",
       "<mark class=\"entity\" style=\"background: #ff9561; padding: 0.45em 0.6em; margin: 0 0.25em; line-height: 1; border-radius: 0.35em;\">\n",
       "    Europa\n",
       "    <span style=\"font-size: 0.8em; font-weight: bold; line-height: 1; border-radius: 0.35em; text-transform: uppercase; vertical-align: middle; margin-left: 0.5rem\">LOC</span>\n",
       "</mark>\n",
       " ist der am stärksten von der Pandemie betroffene Kontinent. Weltweit liegt die Zahl der bestätigen \n",
       "<mark class=\"entity\" style=\"background: #ff9561; padding: 0.45em 0.6em; margin: 0 0.25em; line-height: 1; border-radius: 0.35em;\">\n",
       "    Corona-Infektionsfälle\n",
       "    <span style=\"font-size: 0.8em; font-weight: bold; line-height: 1; border-radius: 0.35em; text-transform: uppercase; vertical-align: middle; margin-left: 0.5rem\">LOC</span>\n",
       "</mark>\n",
       " bei fast 2,3 Millionen.</br></br>20.45 Uhr - \n",
       "<mark class=\"entity\" style=\"background: #ff9561; padding: 0.45em 0.6em; margin: 0 0.25em; line-height: 1; border-radius: 0.35em;\">\n",
       "    Spaniens\n",
       "    <span style=\"font-size: 0.8em; font-weight: bold; line-height: 1; border-radius: 0.35em; text-transform: uppercase; vertical-align: middle; margin-left: 0.5rem\">LOC</span>\n",
       "</mark>\n",
       " Regierungschef \n",
       "<mark class=\"entity\" style=\"background: #ddd; padding: 0.45em 0.6em; margin: 0 0.25em; line-height: 1; border-radius: 0.35em;\">\n",
       "    Pedro Sanchez\n",
       "    <span style=\"font-size: 0.8em; font-weight: bold; line-height: 1; border-radius: 0.35em; text-transform: uppercase; vertical-align: middle; margin-left: 0.5rem\">PER</span>\n",
       "</mark>\n",
       " will die drastischen Einschränkungen im Land um weitere 15 Tage bis zum 9. Mai verlängern. Er werde eine entsprechende Bitte an das Parlament richten, erklärt der Ministerpräsident. Der &quot;Lockdown&quot; besteht bereits seit dem 14. März. Für Kinder sollten bestimmte Beschränkungen aber gelockert werden. Bedingung sei, dass Ansteckungen verhindert würden.</br></br>20.20 Uhr - Die \n",
       "<mark class=\"entity\" style=\"background: #ddd; padding: 0.45em 0.6em; margin: 0 0.25em; line-height: 1; border-radius: 0.35em;\">\n",
       "    dänische Regierung\n",
       "    <span style=\"font-size: 0.8em; font-weight: bold; line-height: 1; border-radius: 0.35em; text-transform: uppercase; vertical-align: middle; margin-left: 0.5rem\">MISC</span>\n",
       "</mark>\n",
       " unterstützt von der Krise betroffene Unternehmen mit weiteren knapp 13,5 Milliarden Euro (100 Milliarden \n",
       "<mark class=\"entity\" style=\"background: #ddd; padding: 0.45em 0.6em; margin: 0 0.25em; line-height: 1; border-radius: 0.35em;\">\n",
       "    Kronen\n",
       "    <span style=\"font-size: 0.8em; font-weight: bold; line-height: 1; border-radius: 0.35em; text-transform: uppercase; vertical-align: middle; margin-left: 0.5rem\">MISC</span>\n",
       "</mark>\n",
       "). Darin seien direkte Hilfen, Kredite und die Stundung von \n",
       "<mark class=\"entity\" style=\"background: #ddd; padding: 0.45em 0.6em; margin: 0 0.25em; line-height: 1; border-radius: 0.35em;\">\n",
       "    Steuer-Zahlungen\n",
       "    <span style=\"font-size: 0.8em; font-weight: bold; line-height: 1; border-radius: 0.35em; text-transform: uppercase; vertical-align: middle; margin-left: 0.5rem\">MISC</span>\n",
       "</mark>\n",
       " enthalten, teilt die Regierung mit. Die Summe kommt zu den umgerechnet rund 38,5 Milliarden Euro (287 Milliarden \n",
       "<mark class=\"entity\" style=\"background: #ddd; padding: 0.45em 0.6em; margin: 0 0.25em; line-height: 1; border-radius: 0.35em;\">\n",
       "    Kronen\n",
       "    <span style=\"font-size: 0.8em; font-weight: bold; line-height: 1; border-radius: 0.35em; text-transform: uppercase; vertical-align: middle; margin-left: 0.5rem\">MISC</span>\n",
       "</mark>\n",
       ") hinzu, die die Regierung bereits angekündigt hatte.</br></br>20.17 Uhr - Die Ansteckungsrate bei dem neuen Corona-Virus ist in \n",
       "<mark class=\"entity\" style=\"background: #ff9561; padding: 0.45em 0.6em; margin: 0 0.25em; line-height: 1; border-radius: 0.35em;\">\n",
       "    Deutschland\n",
       "    <span style=\"font-size: 0.8em; font-weight: bold; line-height: 1; border-radius: 0.35em; text-transform: uppercase; vertical-align: middle; margin-left: 0.5rem\">LOC</span>\n",
       "</mark>\n",
       " nach Angaben des \n",
       "<mark class=\"entity\" style=\"background: #7aecec; padding: 0.45em 0.6em; margin: 0 0.25em; line-height: 1; border-radius: 0.35em;\">\n",
       "    Robert-Koch-Instituts\n",
       "    <span style=\"font-size: 0.8em; font-weight: bold; line-height: 1; border-radius: 0.35em; text-transform: uppercase; vertical-align: middle; margin-left: 0.5rem\">ORG</span>\n",
       "</mark>\n",
       " (\n",
       "<mark class=\"entity\" style=\"background: #7aecec; padding: 0.45em 0.6em; margin: 0 0.25em; line-height: 1; border-radius: 0.35em;\">\n",
       "    RKI\n",
       "    <span style=\"font-size: 0.8em; font-weight: bold; line-height: 1; border-radius: 0.35em; text-transform: uppercase; vertical-align: middle; margin-left: 0.5rem\">ORG</span>\n",
       "</mark>\n",
       ") erstmals seit zwei Tagen wieder angestiegen - allerdings auf niedrigem Niveau. Die sogenannte Reproduktionsrate werde auf 0,8 geschätzt, hieß es im aktuellen Lagebericht des \n",
       "<mark class=\"entity\" style=\"background: #7aecec; padding: 0.45em 0.6em; margin: 0 0.25em; line-height: 1; border-radius: 0.35em;\">\n",
       "    RKI\n",
       "    <span style=\"font-size: 0.8em; font-weight: bold; line-height: 1; border-radius: 0.35em; text-transform: uppercase; vertical-align: middle; margin-left: 0.5rem\">ORG</span>\n",
       "</mark>\n",
       ". An den beiden vergangenen Tagen hatte sie bei 0,7 gelegen. Allerdings geht die Zahl der Neuerkrankungen damit dennoch weiter leicht zurück.</br></br>20.13 Uhr - Im Norden des US-Bundesstaates \n",
       "<mark class=\"entity\" style=\"background: #ff9561; padding: 0.45em 0.6em; margin: 0 0.25em; line-height: 1; border-radius: 0.35em;\">\n",
       "    Florida\n",
       "    <span style=\"font-size: 0.8em; font-weight: bold; line-height: 1; border-radius: 0.35em; text-transform: uppercase; vertical-align: middle; margin-left: 0.5rem\">LOC</span>\n",
       "</mark>\n",
       " sind einige Strände trotz der anhaltenden \n",
       "<mark class=\"entity\" style=\"background: #ff9561; padding: 0.45em 0.6em; margin: 0 0.25em; line-height: 1; border-radius: 0.35em;\">\n",
       "    Corona-Krise\n",
       "    <span style=\"font-size: 0.8em; font-weight: bold; line-height: 1; border-radius: 0.35em; text-transform: uppercase; vertical-align: middle; margin-left: 0.5rem\">LOC</span>\n",
       "</mark>\n",
       " unter verschärften Bedingungen wieder geöffnet worden. In einem Tweet rief die Behörde für Krisenmanagement der \n",
       "<mark class=\"entity\" style=\"background: #ff9561; padding: 0.45em 0.6em; margin: 0 0.25em; line-height: 1; border-radius: 0.35em;\">\n",
       "    Stadt\n",
       "    <span style=\"font-size: 0.8em; font-weight: bold; line-height: 1; border-radius: 0.35em; text-transform: uppercase; vertical-align: middle; margin-left: 0.5rem\">LOC</span>\n",
       "</mark>\n",
       " \n",
       "<mark class=\"entity\" style=\"background: #ff9561; padding: 0.45em 0.6em; margin: 0 0.25em; line-height: 1; border-radius: 0.35em;\">\n",
       "    Jacksonville Bürger\n",
       "    <span style=\"font-size: 0.8em; font-weight: bold; line-height: 1; border-radius: 0.35em; text-transform: uppercase; vertical-align: middle; margin-left: 0.5rem\">LOC</span>\n",
       "</mark>\n",
       " dazu auf, beim Strandbesuch einen Abstand von rund zwei Metern zu anderen Menschen einzuhalten. In \n",
       "<mark class=\"entity\" style=\"background: #ff9561; padding: 0.45em 0.6em; margin: 0 0.25em; line-height: 1; border-radius: 0.35em;\">\n",
       "    Florida\n",
       "    <span style=\"font-size: 0.8em; font-weight: bold; line-height: 1; border-radius: 0.35em; text-transform: uppercase; vertical-align: middle; margin-left: 0.5rem\">LOC</span>\n",
       "</mark>\n",
       " wurden nach Angaben der \n",
       "<mark class=\"entity\" style=\"background: #7aecec; padding: 0.45em 0.6em; margin: 0 0.25em; line-height: 1; border-radius: 0.35em;\">\n",
       "    Johns-Hopkins-Universität\n",
       "    <span style=\"font-size: 0.8em; font-weight: bold; line-height: 1; border-radius: 0.35em; text-transform: uppercase; vertical-align: middle; margin-left: 0.5rem\">ORG</span>\n",
       "</mark>\n",
       " mehr als 24.700 Infektionen mit dem Erreger \n",
       "<mark class=\"entity\" style=\"background: #7aecec; padding: 0.45em 0.6em; margin: 0 0.25em; line-height: 1; border-radius: 0.35em;\">\n",
       "    SARS-CoV-2\n",
       "    <span style=\"font-size: 0.8em; font-weight: bold; line-height: 1; border-radius: 0.35em; text-transform: uppercase; vertical-align: middle; margin-left: 0.5rem\">ORG</span>\n",
       "</mark>\n",
       " nachgewiesen.</br></br>19.54 Uhr - \n",
       "<mark class=\"entity\" style=\"background: #ddd; padding: 0.45em 0.6em; margin: 0 0.25em; line-height: 1; border-radius: 0.35em;\">\n",
       "    Die Zahl der Infizierten\n",
       "    <span style=\"font-size: 0.8em; font-weight: bold; line-height: 1; border-radius: 0.35em; text-transform: uppercase; vertical-align: middle; margin-left: 0.5rem\">MISC</span>\n",
       "</mark>\n",
       " in der \n",
       "<mark class=\"entity\" style=\"background: #ff9561; padding: 0.45em 0.6em; margin: 0 0.25em; line-height: 1; border-radius: 0.35em;\">\n",
       "    Türkei\n",
       "    <span style=\"font-size: 0.8em; font-weight: bold; line-height: 1; border-radius: 0.35em; text-transform: uppercase; vertical-align: middle; margin-left: 0.5rem\">LOC</span>\n",
       "</mark>\n",
       " steigt nach Angaben der Regierung um 3783 auf 82.329 und liegt damit erstmals über der, die die \n",
       "<mark class=\"entity\" style=\"background: #ddd; padding: 0.45em 0.6em; margin: 0 0.25em; line-height: 1; border-radius: 0.35em;\">\n",
       "    iranischen\n",
       "    <span style=\"font-size: 0.8em; font-weight: bold; line-height: 1; border-radius: 0.35em; text-transform: uppercase; vertical-align: middle; margin-left: 0.5rem\">MISC</span>\n",
       "</mark>\n",
       " Behörden für ihr Land nennen. Die Zahl der Toten in der \n",
       "<mark class=\"entity\" style=\"background: #ff9561; padding: 0.45em 0.6em; margin: 0 0.25em; line-height: 1; border-radius: 0.35em;\">\n",
       "    Türkei\n",
       "    <span style=\"font-size: 0.8em; font-weight: bold; line-height: 1; border-radius: 0.35em; text-transform: uppercase; vertical-align: middle; margin-left: 0.5rem\">LOC</span>\n",
       "</mark>\n",
       " steigt demnach binnen 24 Stunden um 121 auf 1890. Das Innenministerium kündigt an, die erlassenen Reisebeschränkungen zwischen 31 Städten würden um weitere 15 Tage verlängert.</br></br> Türkei Istanbul | Coronavirus &amp; Ausgangssperre | \n",
       "<mark class=\"entity\" style=\"background: #ddd; padding: 0.45em 0.6em; margin: 0 0.25em; line-height: 1; border-radius: 0.35em;\">\n",
       "    Balat-Viertel\n",
       "\n",
       "    <span style=\"font-size: 0.8em; font-weight: bold; line-height: 1; border-radius: 0.35em; text-transform: uppercase; vertical-align: middle; margin-left: 0.5rem\">PER</span>\n",
       "</mark>\n",
       "Städte wie hier in \n",
       "<mark class=\"entity\" style=\"background: #ff9561; padding: 0.45em 0.6em; margin: 0 0.25em; line-height: 1; border-radius: 0.35em;\">\n",
       "    Istanbul\n",
       "    <span style=\"font-size: 0.8em; font-weight: bold; line-height: 1; border-radius: 0.35em; text-transform: uppercase; vertical-align: middle; margin-left: 0.5rem\">LOC</span>\n",
       "</mark>\n",
       " werden auch die nächsten Wochen noch ausgestorben bleiben</br></br>19.45 Uhr - Zum Schutz vor dem neuartigen \n",
       "<mark class=\"entity\" style=\"background: #ddd; padding: 0.45em 0.6em; margin: 0 0.25em; line-height: 1; border-radius: 0.35em;\">\n",
       "    Coronavirus\n",
       "    <span style=\"font-size: 0.8em; font-weight: bold; line-height: 1; border-radius: 0.35em; text-transform: uppercase; vertical-align: middle; margin-left: 0.5rem\">PER</span>\n",
       "</mark>\n",
       " sollen in \n",
       "<mark class=\"entity\" style=\"background: #ff9561; padding: 0.45em 0.6em; margin: 0 0.25em; line-height: 1; border-radius: 0.35em;\">\n",
       "    Griechenland\n",
       "    <span style=\"font-size: 0.8em; font-weight: bold; line-height: 1; border-radius: 0.35em; text-transform: uppercase; vertical-align: middle; margin-left: 0.5rem\">LOC</span>\n",
       "</mark>\n",
       " ab Montag hunderte ältere und kranke Flüchtlinge aus den völlig überfüllten Lagern auf den \n",
       "<mark class=\"entity\" style=\"background: #ff9561; padding: 0.45em 0.6em; margin: 0 0.25em; line-height: 1; border-radius: 0.35em;\">\n",
       "    ägäischen Inseln\n",
       "    <span style=\"font-size: 0.8em; font-weight: bold; line-height: 1; border-radius: 0.35em; text-transform: uppercase; vertical-align: middle; margin-left: 0.5rem\">LOC</span>\n",
       "</mark>\n",
       " aufs Festland gebracht werden. Insgesamt geht es nach Angaben des Migrationsministeriums um rund 2380 &quot;gefährdete Menschen&quot;. Diese sollen innerhalb von zwei Wochen aus den \n",
       "<mark class=\"entity\" style=\"background: #ff9561; padding: 0.45em 0.6em; margin: 0 0.25em; line-height: 1; border-radius: 0.35em;\">\n",
       "    Lagern\n",
       "    <span style=\"font-size: 0.8em; font-weight: bold; line-height: 1; border-radius: 0.35em; text-transform: uppercase; vertical-align: middle; margin-left: 0.5rem\">LOC</span>\n",
       "</mark>\n",
       " auf den Inseln in \n",
       "<mark class=\"entity\" style=\"background: #ff9561; padding: 0.45em 0.6em; margin: 0 0.25em; line-height: 1; border-radius: 0.35em;\">\n",
       "    Wohnungen\n",
       "    <span style=\"font-size: 0.8em; font-weight: bold; line-height: 1; border-radius: 0.35em; text-transform: uppercase; vertical-align: middle; margin-left: 0.5rem\">LOC</span>\n",
       "</mark>\n",
       ", \n",
       "<mark class=\"entity\" style=\"background: #ff9561; padding: 0.45em 0.6em; margin: 0 0.25em; line-height: 1; border-radius: 0.35em;\">\n",
       "    Hotels\n",
       "    <span style=\"font-size: 0.8em; font-weight: bold; line-height: 1; border-radius: 0.35em; text-transform: uppercase; vertical-align: middle; margin-left: 0.5rem\">LOC</span>\n",
       "</mark>\n",
       " oder andere Lager auf dem Festland gebracht werden. Die Lage in den \n",
       "<mark class=\"entity\" style=\"background: #ff9561; padding: 0.45em 0.6em; margin: 0 0.25em; line-height: 1; border-radius: 0.35em;\">\n",
       "    Flüchtlingslagern\n",
       "    <span style=\"font-size: 0.8em; font-weight: bold; line-height: 1; border-radius: 0.35em; text-transform: uppercase; vertical-align: middle; margin-left: 0.5rem\">LOC</span>\n",
       "</mark>\n",
       " auf den \n",
       "<mark class=\"entity\" style=\"background: #ff9561; padding: 0.45em 0.6em; margin: 0 0.25em; line-height: 1; border-radius: 0.35em;\">\n",
       "    griechischen Inseln\n",
       "    <span style=\"font-size: 0.8em; font-weight: bold; line-height: 1; border-radius: 0.35em; text-transform: uppercase; vertical-align: middle; margin-left: 0.5rem\">LOC</span>\n",
       "</mark>\n",
       " gilt als katastrophal: Dort leben mehr als 36.000 Menschen in \n",
       "<mark class=\"entity\" style=\"background: #ff9561; padding: 0.45em 0.6em; margin: 0 0.25em; line-height: 1; border-radius: 0.35em;\">\n",
       "    Camps\n",
       "    <span style=\"font-size: 0.8em; font-weight: bold; line-height: 1; border-radius: 0.35em; text-transform: uppercase; vertical-align: middle; margin-left: 0.5rem\">LOC</span>\n",
       "</mark>\n",
       ", die eigentlich nur für etwas mehr als 6000 Menschen ausgelegt sind.</br></br>19.40 Uhr - \n",
       "<mark class=\"entity\" style=\"background: #ff9561; padding: 0.45em 0.6em; margin: 0 0.25em; line-height: 1; border-radius: 0.35em;\">\n",
       "    Marokko\n",
       "    <span style=\"font-size: 0.8em; font-weight: bold; line-height: 1; border-radius: 0.35em; text-transform: uppercase; vertical-align: middle; margin-left: 0.5rem\">LOC</span>\n",
       "</mark>\n",
       " verlängert seine Ausgangssperre bis zum 20.Mai. Das teilte die Regierung mit. Die Zahl der \n",
       "<mark class=\"entity\" style=\"background: #ddd; padding: 0.45em 0.6em; margin: 0 0.25em; line-height: 1; border-radius: 0.35em;\">\n",
       "    Corona-Neuinfektionen\n",
       "    <span style=\"font-size: 0.8em; font-weight: bold; line-height: 1; border-radius: 0.35em; text-transform: uppercase; vertical-align: middle; margin-left: 0.5rem\">MISC</span>\n",
       "</mark>\n",
       " stieg auf 2685, 137 Menschen starben an der \n",
       "<mark class=\"entity\" style=\"background: #ddd; padding: 0.45em 0.6em; margin: 0 0.25em; line-height: 1; border-radius: 0.35em;\">\n",
       "    COVID-19\n",
       "    <span style=\"font-size: 0.8em; font-weight: bold; line-height: 1; border-radius: 0.35em; text-transform: uppercase; vertical-align: middle; margin-left: 0.5rem\">MISC</span>\n",
       "</mark>\n",
       " Lungenkrankheit. Die bereits am 20. März verhängte \n",
       "<mark class=\"entity\" style=\"background: #ddd; padding: 0.45em 0.6em; margin: 0 0.25em; line-height: 1; border-radius: 0.35em;\">\n",
       "    Ausgangssperre\n",
       "    <span style=\"font-size: 0.8em; font-weight: bold; line-height: 1; border-radius: 0.35em; text-transform: uppercase; vertical-align: middle; margin-left: 0.5rem\">PER</span>\n",
       "</mark>\n",
       " bedeutet, dass die Menschen nur für den Lebensmittel- und Medikamenteneinkauf ihr Haus verlassen dürfen. Schulen und Moscheen sind geschlossen.</br></br>19.11 Uhr - Die Zahl der neuen \n",
       "<mark class=\"entity\" style=\"background: #ff9561; padding: 0.45em 0.6em; margin: 0 0.25em; line-height: 1; border-radius: 0.35em;\">\n",
       "    Virus-Toten\n",
       "    <span style=\"font-size: 0.8em; font-weight: bold; line-height: 1; border-radius: 0.35em; text-transform: uppercase; vertical-align: middle; margin-left: 0.5rem\">LOC</span>\n",
       "</mark>\n",
       " in \n",
       "<mark class=\"entity\" style=\"background: #ff9561; padding: 0.45em 0.6em; margin: 0 0.25em; line-height: 1; border-radius: 0.35em;\">\n",
       "    Italien\n",
       "    <span style=\"font-size: 0.8em; font-weight: bold; line-height: 1; border-radius: 0.35em; text-transform: uppercase; vertical-align: middle; margin-left: 0.5rem\">LOC</span>\n",
       "</mark>\n",
       " hat sich wieder verringert. Laut den Behörden starben binnen 24 Stunden 482 Personen an dem \n",
       "<mark class=\"entity\" style=\"background: #ddd; padding: 0.45em 0.6em; margin: 0 0.25em; line-height: 1; border-radius: 0.35em;\">\n",
       "    Virus\n",
       "    <span style=\"font-size: 0.8em; font-weight: bold; line-height: 1; border-radius: 0.35em; text-transform: uppercase; vertical-align: middle; margin-left: 0.5rem\">MISC</span>\n",
       "</mark>\n",
       ", nach 575 am Freitag und 525 am Donnerstag. Insgesamt sind damit 23.227 Menschen den \n",
       "<mark class=\"entity\" style=\"background: #ff9561; padding: 0.45em 0.6em; margin: 0 0.25em; line-height: 1; border-radius: 0.35em;\">\n",
       "    Virus-Folgen\n",
       "    <span style=\"font-size: 0.8em; font-weight: bold; line-height: 1; border-radius: 0.35em; text-transform: uppercase; vertical-align: middle; margin-left: 0.5rem\">LOC</span>\n",
       "</mark>\n",
       " erlegen. Die Zahl der Neuinfektionen steigt um 3491 auf 175.925.</br></br>18.43 Uhr -  \n",
       "<mark class=\"entity\" style=\"background: #ff9561; padding: 0.45em 0.6em; margin: 0 0.25em; line-height: 1; border-radius: 0.35em;\">\n",
       "    Portugal\n",
       "    <span style=\"font-size: 0.8em; font-weight: bold; line-height: 1; border-radius: 0.35em; text-transform: uppercase; vertical-align: middle; margin-left: 0.5rem\">LOC</span>\n",
       "</mark>\n",
       " will im Mai die zur Bekämpfung der \n",
       "<mark class=\"entity\" style=\"background: #7aecec; padding: 0.45em 0.6em; margin: 0 0.25em; line-height: 1; border-radius: 0.35em;\">\n",
       "    Coronavirus-Pandemie\n",
       "    <span style=\"font-size: 0.8em; font-weight: bold; line-height: 1; border-radius: 0.35em; text-transform: uppercase; vertical-align: middle; margin-left: 0.5rem\">ORG</span>\n",
       "</mark>\n",
       " verhängten Maßnahmen schrittweise lockern. Die neuen Regeln wolle er am 30. April bekanntgeben, sagte der \n",
       "<mark class=\"entity\" style=\"background: #ddd; padding: 0.45em 0.6em; margin: 0 0.25em; line-height: 1; border-radius: 0.35em;\">\n",
       "    sozialistische\n",
       "    <span style=\"font-size: 0.8em; font-weight: bold; line-height: 1; border-radius: 0.35em; text-transform: uppercase; vertical-align: middle; margin-left: 0.5rem\">MISC</span>\n",
       "</mark>\n",
       " Ministerpräsident \n",
       "<mark class=\"entity\" style=\"background: #ddd; padding: 0.45em 0.6em; margin: 0 0.25em; line-height: 1; border-radius: 0.35em;\">\n",
       "    António Costa\n",
       "    <span style=\"font-size: 0.8em; font-weight: bold; line-height: 1; border-radius: 0.35em; text-transform: uppercase; vertical-align: middle; margin-left: 0.5rem\">PER</span>\n",
       "</mark>\n",
       " im Interview der Wochenendzeitung &quot;\n",
       "<mark class=\"entity\" style=\"background: #ff9561; padding: 0.45em 0.6em; margin: 0 0.25em; line-height: 1; border-radius: 0.35em;\">\n",
       "    Expresso\n",
       "    <span style=\"font-size: 0.8em; font-weight: bold; line-height: 1; border-radius: 0.35em; text-transform: uppercase; vertical-align: middle; margin-left: 0.5rem\">LOC</span>\n",
       "</mark>\n",
       "&quot;. \n",
       "<mark class=\"entity\" style=\"background: #ddd; padding: 0.45em 0.6em; margin: 0 0.25em; line-height: 1; border-radius: 0.35em;\">\n",
       "    Costa\n",
       "    <span style=\"font-size: 0.8em; font-weight: bold; line-height: 1; border-radius: 0.35em; text-transform: uppercase; vertical-align: middle; margin-left: 0.5rem\">PER</span>\n",
       "</mark>\n",
       " hatte schon vorher durchblicken lassen, dass seine Regierung nach Ende des noch bis zum 2. Mai geltenden \n",
       "<mark class=\"entity\" style=\"background: #ff9561; padding: 0.45em 0.6em; margin: 0 0.25em; line-height: 1; border-radius: 0.35em;\">\n",
       "    Ausnahmezustands\n",
       "    <span style=\"font-size: 0.8em; font-weight: bold; line-height: 1; border-radius: 0.35em; text-transform: uppercase; vertical-align: middle; margin-left: 0.5rem\">LOC</span>\n",
       "</mark>\n",
       " unter anderem eine Öffnung des Einzelhandels, von \n",
       "<mark class=\"entity\" style=\"background: #ff9561; padding: 0.45em 0.6em; margin: 0 0.25em; line-height: 1; border-radius: 0.35em;\">\n",
       "    Friseurläden\n",
       "    <span style=\"font-size: 0.8em; font-weight: bold; line-height: 1; border-radius: 0.35em; text-transform: uppercase; vertical-align: middle; margin-left: 0.5rem\">LOC</span>\n",
       "</mark>\n",
       " und von \n",
       "<mark class=\"entity\" style=\"background: #ff9561; padding: 0.45em 0.6em; margin: 0 0.25em; line-height: 1; border-radius: 0.35em;\">\n",
       "    Kindergärten\n",
       "    <span style=\"font-size: 0.8em; font-weight: bold; line-height: 1; border-radius: 0.35em; text-transform: uppercase; vertical-align: middle; margin-left: 0.5rem\">LOC</span>\n",
       "</mark>\n",
       " in Erwägung zieht. Auch \n",
       "<mark class=\"entity\" style=\"background: #ff9561; padding: 0.45em 0.6em; margin: 0 0.25em; line-height: 1; border-radius: 0.35em;\">\n",
       "    Restaurants\n",
       "    <span style=\"font-size: 0.8em; font-weight: bold; line-height: 1; border-radius: 0.35em; text-transform: uppercase; vertical-align: middle; margin-left: 0.5rem\">LOC</span>\n",
       "</mark>\n",
       " und \n",
       "<mark class=\"entity\" style=\"background: #ddd; padding: 0.45em 0.6em; margin: 0 0.25em; line-height: 1; border-radius: 0.35em;\">\n",
       "    Cafés\n",
       "    <span style=\"font-size: 0.8em; font-weight: bold; line-height: 1; border-radius: 0.35em; text-transform: uppercase; vertical-align: middle; margin-left: 0.5rem\">PER</span>\n",
       "</mark>\n",
       " sowie Kinos und andere Kultureinrichtungen könnten noch vor dem Sommer wieder öffnen.</br></br>18.39 Uhr - \n",
       "<mark class=\"entity\" style=\"background: #ff9561; padding: 0.45em 0.6em; margin: 0 0.25em; line-height: 1; border-radius: 0.35em;\">\n",
       "    Kroatien\n",
       "    <span style=\"font-size: 0.8em; font-weight: bold; line-height: 1; border-radius: 0.35em; text-transform: uppercase; vertical-align: middle; margin-left: 0.5rem\">LOC</span>\n",
       "</mark>\n",
       " verlängert seine Ausgangsbeschränkungen bis zum 4. Mai. Dies teilte die Zivilschutzbehörde mit. Seit dem 19. März waren in dem \n",
       "<mark class=\"entity\" style=\"background: #7aecec; padding: 0.45em 0.6em; margin: 0 0.25em; line-height: 1; border-radius: 0.35em;\">\n",
       "    EU-Mitgliedstaat\n",
       "    <span style=\"font-size: 0.8em; font-weight: bold; line-height: 1; border-radius: 0.35em; text-transform: uppercase; vertical-align: middle; margin-left: 0.5rem\">ORG</span>\n",
       "</mark>\n",
       " zunächst für 30 Tage alle Geschäfte mit Ausnahme von Supermärkten, Apotheken und Tankstellen geschlossen. Schulen und Kindergärten wurden ebenfalls geschlossen, die Menschen dürfen ihre Wohnorte nur mit einer Sondergenehmigung verlassen.</br></br>18.19 Uhr - \n",
       "<mark class=\"entity\" style=\"background: #ddd; padding: 0.45em 0.6em; margin: 0 0.25em; line-height: 1; border-radius: 0.35em;\">\n",
       "    Die Zahl der Virus-Toten\n",
       "    <span style=\"font-size: 0.8em; font-weight: bold; line-height: 1; border-radius: 0.35em; text-transform: uppercase; vertical-align: middle; margin-left: 0.5rem\">MISC</span>\n",
       "</mark>\n",
       " im stark von der Pandemie betroffenen US-Bundesstaat \n",
       "<mark class=\"entity\" style=\"background: #ff9561; padding: 0.45em 0.6em; margin: 0 0.25em; line-height: 1; border-radius: 0.35em;\">\n",
       "    New York\n",
       "    <span style=\"font-size: 0.8em; font-weight: bold; line-height: 1; border-radius: 0.35em; text-transform: uppercase; vertical-align: middle; margin-left: 0.5rem\">LOC</span>\n",
       "</mark>\n",
       " ist laut Gouverneur \n",
       "<mark class=\"entity\" style=\"background: #ddd; padding: 0.45em 0.6em; margin: 0 0.25em; line-height: 1; border-radius: 0.35em;\">\n",
       "    Andrew Cuomo\n",
       "    <span style=\"font-size: 0.8em; font-weight: bold; line-height: 1; border-radius: 0.35em; text-transform: uppercase; vertical-align: middle; margin-left: 0.5rem\">PER</span>\n",
       "</mark>\n",
       " auf den niedrigsten Stand seit mehr als zwei Wochen gesunken. Binnen 24 Stunden habe es 540 neue Todesfälle gegeben, nach 630 am Vortag. Insgesamt habe sich die Lage in den Krankenhäusern etwas entspannt, so \n",
       "<mark class=\"entity\" style=\"background: #ddd; padding: 0.45em 0.6em; margin: 0 0.25em; line-height: 1; border-radius: 0.35em;\">\n",
       "    Cuomo\n",
       "    <span style=\"font-size: 0.8em; font-weight: bold; line-height: 1; border-radius: 0.35em; text-transform: uppercase; vertical-align: middle; margin-left: 0.5rem\">PER</span>\n",
       "</mark>\n",
       ". Zugleich betonte er, es seien deutlich mehr Tests notwendig, bevor an eine Öffnung der Wirtschaft in \n",
       "<mark class=\"entity\" style=\"background: #ff9561; padding: 0.45em 0.6em; margin: 0 0.25em; line-height: 1; border-radius: 0.35em;\">\n",
       "    New York\n",
       "    <span style=\"font-size: 0.8em; font-weight: bold; line-height: 1; border-radius: 0.35em; text-transform: uppercase; vertical-align: middle; margin-left: 0.5rem\">LOC</span>\n",
       "</mark>\n",
       " zu denken sei. Der Gouverneur verlangte zusätzliche Unterstützung aus \n",
       "<mark class=\"entity\" style=\"background: #ff9561; padding: 0.45em 0.6em; margin: 0 0.25em; line-height: 1; border-radius: 0.35em;\">\n",
       "    Washington\n",
       "    <span style=\"font-size: 0.8em; font-weight: bold; line-height: 1; border-radius: 0.35em; text-transform: uppercase; vertical-align: middle; margin-left: 0.5rem\">LOC</span>\n",
       "</mark>\n",
       ".</br></br> \n",
       "<mark class=\"entity\" style=\"background: #ff9561; padding: 0.45em 0.6em; margin: 0 0.25em; line-height: 1; border-radius: 0.35em;\">\n",
       "    New York Pfleger Leichenabtransport Coronakrise\n",
       "\n",
       "    <span style=\"font-size: 0.8em; font-weight: bold; line-height: 1; border-radius: 0.35em; text-transform: uppercase; vertical-align: middle; margin-left: 0.5rem\">LOC</span>\n",
       "</mark>\n",
       "In \n",
       "<mark class=\"entity\" style=\"background: #ff9561; padding: 0.45em 0.6em; margin: 0 0.25em; line-height: 1; border-radius: 0.35em;\">\n",
       "    New York\n",
       "    <span style=\"font-size: 0.8em; font-weight: bold; line-height: 1; border-radius: 0.35em; text-transform: uppercase; vertical-align: middle; margin-left: 0.5rem\">LOC</span>\n",
       "</mark>\n",
       " hat sich die Lage in den Krankenhäusern etwas entspannt</br></br>18.10 Uhr - Im Kampf gegen das \n",
       "<mark class=\"entity\" style=\"background: #ddd; padding: 0.45em 0.6em; margin: 0 0.25em; line-height: 1; border-radius: 0.35em;\">\n",
       "    Coronavirus\n",
       "    <span style=\"font-size: 0.8em; font-weight: bold; line-height: 1; border-radius: 0.35em; text-transform: uppercase; vertical-align: middle; margin-left: 0.5rem\">MISC</span>\n",
       "</mark>\n",
       " soll die Grenze zwischen den \n",
       "<mark class=\"entity\" style=\"background: #ff9561; padding: 0.45em 0.6em; margin: 0 0.25em; line-height: 1; border-radius: 0.35em;\">\n",
       "    USA\n",
       "    <span style=\"font-size: 0.8em; font-weight: bold; line-height: 1; border-radius: 0.35em; text-transform: uppercase; vertical-align: middle; margin-left: 0.5rem\">LOC</span>\n",
       "</mark>\n",
       " und \n",
       "<mark class=\"entity\" style=\"background: #ff9561; padding: 0.45em 0.6em; margin: 0 0.25em; line-height: 1; border-radius: 0.35em;\">\n",
       "    Kanada\n",
       "    <span style=\"font-size: 0.8em; font-weight: bold; line-height: 1; border-radius: 0.35em; text-transform: uppercase; vertical-align: middle; margin-left: 0.5rem\">LOC</span>\n",
       "</mark>\n",
       " für weitere 30 Tage weitgehend geschlossen bleiben. &quot;Das ist eine wichtige Entscheidung und eine, die Menschen auf beiden Seiten der \n",
       "<mark class=\"entity\" style=\"background: #ddd; padding: 0.45em 0.6em; margin: 0 0.25em; line-height: 1; border-radius: 0.35em;\">\n",
       "    Grenze\n",
       "    <span style=\"font-size: 0.8em; font-weight: bold; line-height: 1; border-radius: 0.35em; text-transform: uppercase; vertical-align: middle; margin-left: 0.5rem\">MISC</span>\n",
       "</mark>\n",
       " schützt&quot;, sagte der \n",
       "<mark class=\"entity\" style=\"background: #ddd; padding: 0.45em 0.6em; margin: 0 0.25em; line-height: 1; border-radius: 0.35em;\">\n",
       "    kanadische\n",
       "    <span style=\"font-size: 0.8em; font-weight: bold; line-height: 1; border-radius: 0.35em; text-transform: uppercase; vertical-align: middle; margin-left: 0.5rem\">MISC</span>\n",
       "</mark>\n",
       " Premierminister \n",
       "<mark class=\"entity\" style=\"background: #ddd; padding: 0.45em 0.6em; margin: 0 0.25em; line-height: 1; border-radius: 0.35em;\">\n",
       "    Justin Trudeau\n",
       "    <span style=\"font-size: 0.8em; font-weight: bold; line-height: 1; border-radius: 0.35em; text-transform: uppercase; vertical-align: middle; margin-left: 0.5rem\">PER</span>\n",
       "</mark>\n",
       ". Gleichzeitig solle der Verkehr wichtiger Waren wie medizinische Ausrüstung und Nahrung gewährleistet bleiben. Die \n",
       "<mark class=\"entity\" style=\"background: #ff9561; padding: 0.45em 0.6em; margin: 0 0.25em; line-height: 1; border-radius: 0.35em;\">\n",
       "    USA\n",
       "    <span style=\"font-size: 0.8em; font-weight: bold; line-height: 1; border-radius: 0.35em; text-transform: uppercase; vertical-align: middle; margin-left: 0.5rem\">LOC</span>\n",
       "</mark>\n",
       " und \n",
       "<mark class=\"entity\" style=\"background: #ff9561; padding: 0.45em 0.6em; margin: 0 0.25em; line-height: 1; border-radius: 0.35em;\">\n",
       "    Kanada\n",
       "    <span style=\"font-size: 0.8em; font-weight: bold; line-height: 1; border-radius: 0.35em; text-transform: uppercase; vertical-align: middle; margin-left: 0.5rem\">LOC</span>\n",
       "</mark>\n",
       " hatten die Grenze vor einem Monat geschlossen. \n",
       "<mark class=\"entity\" style=\"background: #ff9561; padding: 0.45em 0.6em; margin: 0 0.25em; line-height: 1; border-radius: 0.35em;\">\n",
       "    US-Präsident\n",
       "    <span style=\"font-size: 0.8em; font-weight: bold; line-height: 1; border-radius: 0.35em; text-transform: uppercase; vertical-align: middle; margin-left: 0.5rem\">LOC</span>\n",
       "</mark>\n",
       " \n",
       "<mark class=\"entity\" style=\"background: #ddd; padding: 0.45em 0.6em; margin: 0 0.25em; line-height: 1; border-radius: 0.35em;\">\n",
       "    Donald Trump\n",
       "    <span style=\"font-size: 0.8em; font-weight: bold; line-height: 1; border-radius: 0.35em; text-transform: uppercase; vertical-align: middle; margin-left: 0.5rem\">PER</span>\n",
       "</mark>\n",
       " hatte am Mittwoch angekündigt, die Grenze zu \n",
       "<mark class=\"entity\" style=\"background: #ff9561; padding: 0.45em 0.6em; margin: 0 0.25em; line-height: 1; border-radius: 0.35em;\">\n",
       "    Kanada\n",
       "    <span style=\"font-size: 0.8em; font-weight: bold; line-height: 1; border-radius: 0.35em; text-transform: uppercase; vertical-align: middle; margin-left: 0.5rem\">LOC</span>\n",
       "</mark>\n",
       " werde eine derjenigen sein, die früh wieder geöffnet werde.</br></br>Page 2</br>18.01 Uhr - Aus einer Kirche in der \n",
       "<mark class=\"entity\" style=\"background: #ddd; padding: 0.45em 0.6em; margin: 0 0.25em; line-height: 1; border-radius: 0.35em;\">\n",
       "    norditalienischen\n",
       "    <span style=\"font-size: 0.8em; font-weight: bold; line-height: 1; border-radius: 0.35em; text-transform: uppercase; vertical-align: middle; margin-left: 0.5rem\">MISC</span>\n",
       "</mark>\n",
       " \n",
       "<mark class=\"entity\" style=\"background: #ff9561; padding: 0.45em 0.6em; margin: 0 0.25em; line-height: 1; border-radius: 0.35em;\">\n",
       "    Stadt\n",
       "    <span style=\"font-size: 0.8em; font-weight: bold; line-height: 1; border-radius: 0.35em; text-transform: uppercase; vertical-align: middle; margin-left: 0.5rem\">LOC</span>\n",
       "</mark>\n",
       " \n",
       "<mark class=\"entity\" style=\"background: #ff9561; padding: 0.45em 0.6em; margin: 0 0.25em; line-height: 1; border-radius: 0.35em;\">\n",
       "    Bergamo\n",
       "    <span style=\"font-size: 0.8em; font-weight: bold; line-height: 1; border-radius: 0.35em; text-transform: uppercase; vertical-align: middle; margin-left: 0.5rem\">LOC</span>\n",
       "</mark>\n",
       ", die wegen der \n",
       "<mark class=\"entity\" style=\"background: #ff9561; padding: 0.45em 0.6em; margin: 0 0.25em; line-height: 1; border-radius: 0.35em;\">\n",
       "    Corona-Pandemie\n",
       "    <span style=\"font-size: 0.8em; font-weight: bold; line-height: 1; border-radius: 0.35em; text-transform: uppercase; vertical-align: middle; margin-left: 0.5rem\">LOC</span>\n",
       "</mark>\n",
       " zwischenzeitlich als Leichenhalle gedient hatte, sind die letzten Särge abtransportiert worden. Das Gotteshaus sei &quot;endlich leer&quot;, schrieb Bürgermeister \n",
       "<mark class=\"entity\" style=\"background: #ddd; padding: 0.45em 0.6em; margin: 0 0.25em; line-height: 1; border-radius: 0.35em;\">\n",
       "    Giorgio Gori\n",
       "    <span style=\"font-size: 0.8em; font-weight: bold; line-height: 1; border-radius: 0.35em; text-transform: uppercase; vertical-align: middle; margin-left: 0.5rem\">PER</span>\n",
       "</mark>\n",
       " im \n",
       "<mark class=\"entity\" style=\"background: #ff9561; padding: 0.45em 0.6em; margin: 0 0.25em; line-height: 1; border-radius: 0.35em;\">\n",
       "    Kurzbotschaftendienst Twitter\n",
       "    <span style=\"font-size: 0.8em; font-weight: bold; line-height: 1; border-radius: 0.35em; text-transform: uppercase; vertical-align: middle; margin-left: 0.5rem\">LOC</span>\n",
       "</mark>\n",
       ".</br></br>Bergamo ist die am schwersten von der \n",
       "<mark class=\"entity\" style=\"background: #ff9561; padding: 0.45em 0.6em; margin: 0 0.25em; line-height: 1; border-radius: 0.35em;\">\n",
       "    Pandemie betroffene Stadt Italiens\n",
       "    <span style=\"font-size: 0.8em; font-weight: bold; line-height: 1; border-radius: 0.35em; text-transform: uppercase; vertical-align: middle; margin-left: 0.5rem\">LOC</span>\n",
       "</mark>\n",
       ". Die örtlichen Leichenhallen waren wegen der rasant steigenden Zahl der \n",
       "<mark class=\"entity\" style=\"background: #7aecec; padding: 0.45em 0.6em; margin: 0 0.25em; line-height: 1; border-radius: 0.35em;\">\n",
       "    Corona-Toten\n",
       "    <span style=\"font-size: 0.8em; font-weight: bold; line-height: 1; border-radius: 0.35em; text-transform: uppercase; vertical-align: middle; margin-left: 0.5rem\">ORG</span>\n",
       "</mark>\n",
       " zwischenzeitlich überfüllt, so dass die \n",
       "<mark class=\"entity\" style=\"background: #7aecec; padding: 0.45em 0.6em; margin: 0 0.25em; line-height: 1; border-radius: 0.35em;\">\n",
       "    Armee\n",
       "    <span style=\"font-size: 0.8em; font-weight: bold; line-height: 1; border-radius: 0.35em; text-transform: uppercase; vertical-align: middle; margin-left: 0.5rem\">ORG</span>\n",
       "</mark>\n",
       " dutzende Särge in Kirchen lagern und dann in Krematorien in ganz \n",
       "<mark class=\"entity\" style=\"background: #ff9561; padding: 0.45em 0.6em; margin: 0 0.25em; line-height: 1; border-radius: 0.35em;\">\n",
       "    Norditalien\n",
       "    <span style=\"font-size: 0.8em; font-weight: bold; line-height: 1; border-radius: 0.35em; text-transform: uppercase; vertical-align: middle; margin-left: 0.5rem\">LOC</span>\n",
       "</mark>\n",
       " transportieren musste.</br></br>17.50 Uhr - In einem \n",
       "<mark class=\"entity\" style=\"background: #ddd; padding: 0.45em 0.6em; margin: 0 0.25em; line-height: 1; border-radius: 0.35em;\">\n",
       "    kanadischen\n",
       "    <span style=\"font-size: 0.8em; font-weight: bold; line-height: 1; border-radius: 0.35em; text-transform: uppercase; vertical-align: middle; margin-left: 0.5rem\">MISC</span>\n",
       "</mark>\n",
       " Seniorenheim gab es innerhalb kurzer Zeit 31 Corona-Tote, nachdem fast alle Pflegekräfte die Einrichtung aus Angst vor dem \n",
       "<mark class=\"entity\" style=\"background: #ddd; padding: 0.45em 0.6em; margin: 0 0.25em; line-height: 1; border-radius: 0.35em;\">\n",
       "    Virus\n",
       "    <span style=\"font-size: 0.8em; font-weight: bold; line-height: 1; border-radius: 0.35em; text-transform: uppercase; vertical-align: middle; margin-left: 0.5rem\">MISC</span>\n",
       "</mark>\n",
       " fluchtartig verlassen hatten. Gesundheitsbehörden fanden die Menschen in dem Heim in \n",
       "<mark class=\"entity\" style=\"background: #ff9561; padding: 0.45em 0.6em; margin: 0 0.25em; line-height: 1; border-radius: 0.35em;\">\n",
       "    Dorval\n",
       "    <span style=\"font-size: 0.8em; font-weight: bold; line-height: 1; border-radius: 0.35em; text-transform: uppercase; vertical-align: middle; margin-left: 0.5rem\">LOC</span>\n",
       "</mark>\n",
       " bei \n",
       "<mark class=\"entity\" style=\"background: #ff9561; padding: 0.45em 0.6em; margin: 0 0.25em; line-height: 1; border-radius: 0.35em;\">\n",
       "    Montréal\n",
       "    <span style=\"font-size: 0.8em; font-weight: bold; line-height: 1; border-radius: 0.35em; text-transform: uppercase; vertical-align: middle; margin-left: 0.5rem\">LOC</span>\n",
       "</mark>\n",
       " erst Tage später vor. Viele der Überlebenden waren dehydriert, unterernährt und teilnahmslos. Zwei Todesfälle blieben tagelang unbemerkt. Der Premierminister der \n",
       "<mark class=\"entity\" style=\"background: #ff9561; padding: 0.45em 0.6em; margin: 0 0.25em; line-height: 1; border-radius: 0.35em;\">\n",
       "    Provinz Quebec\n",
       "    <span style=\"font-size: 0.8em; font-weight: bold; line-height: 1; border-radius: 0.35em; text-transform: uppercase; vertical-align: middle; margin-left: 0.5rem\">LOC</span>\n",
       "</mark>\n",
       ", \n",
       "<mark class=\"entity\" style=\"background: #ddd; padding: 0.45em 0.6em; margin: 0 0.25em; line-height: 1; border-radius: 0.35em;\">\n",
       "    Francois Legault\n",
       "    <span style=\"font-size: 0.8em; font-weight: bold; line-height: 1; border-radius: 0.35em; text-transform: uppercase; vertical-align: middle; margin-left: 0.5rem\">PER</span>\n",
       "</mark>\n",
       ", kündigte Ermittlungen wegen grober Fahrlässigkeit an. Nach seinen Angaben waren am Ende nur noch zwei Pflegekräfte vor Ort, um die insgesamt 130 Bewohner zu versorgen. In \n",
       "<mark class=\"entity\" style=\"background: #ddd; padding: 0.45em 0.6em; margin: 0 0.25em; line-height: 1; border-radius: 0.35em;\">\n",
       "    kanadischen\n",
       "    <span style=\"font-size: 0.8em; font-weight: bold; line-height: 1; border-radius: 0.35em; text-transform: uppercase; vertical-align: middle; margin-left: 0.5rem\">MISC</span>\n",
       "</mark>\n",
       " Medien ist das &quot;\n",
       "<mark class=\"entity\" style=\"background: #ff9561; padding: 0.45em 0.6em; margin: 0 0.25em; line-height: 1; border-radius: 0.35em;\">\n",
       "    Horror-Altenheim\n",
       "    <span style=\"font-size: 0.8em; font-weight: bold; line-height: 1; border-radius: 0.35em; text-transform: uppercase; vertical-align: middle; margin-left: 0.5rem\">LOC</span>\n",
       "</mark>\n",
       "&quot; in \n",
       "<mark class=\"entity\" style=\"background: #ff9561; padding: 0.45em 0.6em; margin: 0 0.25em; line-height: 1; border-radius: 0.35em;\">\n",
       "    Dorval\n",
       "    <span style=\"font-size: 0.8em; font-weight: bold; line-height: 1; border-radius: 0.35em; text-transform: uppercase; vertical-align: middle; margin-left: 0.5rem\">LOC</span>\n",
       "</mark>\n",
       " bereits zum Symbol der \n",
       "<mark class=\"entity\" style=\"background: #ff9561; padding: 0.45em 0.6em; margin: 0 0.25em; line-height: 1; border-radius: 0.35em;\">\n",
       "    Corona-Krise\n",
       "    <span style=\"font-size: 0.8em; font-weight: bold; line-height: 1; border-radius: 0.35em; text-transform: uppercase; vertical-align: middle; margin-left: 0.5rem\">LOC</span>\n",
       "</mark>\n",
       " geworden. Die Hälfte aller knapp 1300 Corona-Todesfälle in \n",
       "<mark class=\"entity\" style=\"background: #ff9561; padding: 0.45em 0.6em; margin: 0 0.25em; line-height: 1; border-radius: 0.35em;\">\n",
       "    Kanada\n",
       "    <span style=\"font-size: 0.8em; font-weight: bold; line-height: 1; border-radius: 0.35em; text-transform: uppercase; vertical-align: middle; margin-left: 0.5rem\">LOC</span>\n",
       "</mark>\n",
       " trat in \n",
       "<mark class=\"entity\" style=\"background: #ff9561; padding: 0.45em 0.6em; margin: 0 0.25em; line-height: 1; border-radius: 0.35em;\">\n",
       "    Langzeit-Pflegeheimen\n",
       "    <span style=\"font-size: 0.8em; font-weight: bold; line-height: 1; border-radius: 0.35em; text-transform: uppercase; vertical-align: middle; margin-left: 0.5rem\">LOC</span>\n",
       "</mark>\n",
       " auf.</br></br> Kanada \n",
       "<mark class=\"entity\" style=\"background: #ddd; padding: 0.45em 0.6em; margin: 0 0.25em; line-height: 1; border-radius: 0.35em;\">\n",
       "    Corona-Pandemie Dorval\n",
       "    <span style=\"font-size: 0.8em; font-weight: bold; line-height: 1; border-radius: 0.35em; text-transform: uppercase; vertical-align: middle; margin-left: 0.5rem\">PER</span>\n",
       "</mark>\n",
       " | Pfleger flohen aus Angst vor \n",
       "<mark class=\"entity\" style=\"background: #ff9561; padding: 0.45em 0.6em; margin: 0 0.25em; line-height: 1; border-radius: 0.35em;\">\n",
       "    Corona\n",
       "    <span style=\"font-size: 0.8em; font-weight: bold; line-height: 1; border-radius: 0.35em; text-transform: uppercase; vertical-align: middle; margin-left: 0.5rem\">LOC</span>\n",
       "</mark>\n",
       " aus Seniorenwohnheim</br>Alleingelassen - Eine Bewohnerin der \n",
       "<mark class=\"entity\" style=\"background: #ddd; padding: 0.45em 0.6em; margin: 0 0.25em; line-height: 1; border-radius: 0.35em;\">\n",
       "    Herron-Residenz\n",
       "    <span style=\"font-size: 0.8em; font-weight: bold; line-height: 1; border-radius: 0.35em; text-transform: uppercase; vertical-align: middle; margin-left: 0.5rem\">MISC</span>\n",
       "</mark>\n",
       " in \n",
       "<mark class=\"entity\" style=\"background: #ddd; padding: 0.45em 0.6em; margin: 0 0.25em; line-height: 1; border-radius: 0.35em;\">\n",
       "    Dorval\n",
       "\n",
       "\n",
       "    <span style=\"font-size: 0.8em; font-weight: bold; line-height: 1; border-radius: 0.35em; text-transform: uppercase; vertical-align: middle; margin-left: 0.5rem\">PER</span>\n",
       "</mark>\n",
       "17.24 Uhr - Nach einer Entscheidung des \n",
       "<mark class=\"entity\" style=\"background: #ff9561; padding: 0.45em 0.6em; margin: 0 0.25em; line-height: 1; border-radius: 0.35em;\">\n",
       "    Bundesverfassungsgerichts\n",
       "    <span style=\"font-size: 0.8em; font-weight: bold; line-height: 1; border-radius: 0.35em; text-transform: uppercase; vertical-align: middle; margin-left: 0.5rem\">LOC</span>\n",
       "</mark>\n",
       " haben rund 50 Menschen in \n",
       "<mark class=\"entity\" style=\"background: #ff9561; padding: 0.45em 0.6em; margin: 0 0.25em; line-height: 1; border-radius: 0.35em;\">\n",
       "    Stuttgart\n",
       "    <span style=\"font-size: 0.8em; font-weight: bold; line-height: 1; border-radius: 0.35em; text-transform: uppercase; vertical-align: middle; margin-left: 0.5rem\">LOC</span>\n",
       "</mark>\n",
       " an einer Demonstration teilgenommen. Die \n",
       "<mark class=\"entity\" style=\"background: #ff9561; padding: 0.45em 0.6em; margin: 0 0.25em; line-height: 1; border-radius: 0.35em;\">\n",
       "    Stadt\n",
       "    <span style=\"font-size: 0.8em; font-weight: bold; line-height: 1; border-radius: 0.35em; text-transform: uppercase; vertical-align: middle; margin-left: 0.5rem\">LOC</span>\n",
       "</mark>\n",
       " sah sich durch den Richterspruch veranlasst, die von ihr zunächst untersagte Kundgebung zuzulassen. Die Demonstranten mussten einen Abstand von anderhalb Metern zueinander halten und zu Passanten eine Distanz von zwei Metern. Ein Privatmann hatte die Demonstration gegen die Einschränkung der Grundrechte in der \n",
       "<mark class=\"entity\" style=\"background: #ff9561; padding: 0.45em 0.6em; margin: 0 0.25em; line-height: 1; border-radius: 0.35em;\">\n",
       "    Corona-Krise\n",
       "    <span style=\"font-size: 0.8em; font-weight: bold; line-height: 1; border-radius: 0.35em; text-transform: uppercase; vertical-align: middle; margin-left: 0.5rem\">LOC</span>\n",
       "</mark>\n",
       " mit maximal 50 Teilnehmern angemeldet.</br></br>16.58 Uhr - Gesundheitspolitiker und Verbraucherschützer üben massive Kritik daran, dass es ab Montag keine telefonischen Krankschreibungen bei Atemwegsbeschwerden mehr geben soll. \n",
       "<mark class=\"entity\" style=\"background: #ddd; padding: 0.45em 0.6em; margin: 0 0.25em; line-height: 1; border-radius: 0.35em;\">\n",
       "    Bayerns\n",
       "    <span style=\"font-size: 0.8em; font-weight: bold; line-height: 1; border-radius: 0.35em; text-transform: uppercase; vertical-align: middle; margin-left: 0.5rem\">PER</span>\n",
       "</mark>\n",
       " Gesundheitsministerin \n",
       "<mark class=\"entity\" style=\"background: #ddd; padding: 0.45em 0.6em; margin: 0 0.25em; line-height: 1; border-radius: 0.35em;\">\n",
       "    Melanie Huml\n",
       "    <span style=\"font-size: 0.8em; font-weight: bold; line-height: 1; border-radius: 0.35em; text-transform: uppercase; vertical-align: middle; margin-left: 0.5rem\">PER</span>\n",
       "</mark>\n",
       " erklärte: &quot;Es ist zu befürchten, dass nun auch \n",
       "<mark class=\"entity\" style=\"background: #ddd; padding: 0.45em 0.6em; margin: 0 0.25em; line-height: 1; border-radius: 0.35em;\">\n",
       "    COVID-19-Patienten\n",
       "    <span style=\"font-size: 0.8em; font-weight: bold; line-height: 1; border-radius: 0.35em; text-transform: uppercase; vertical-align: middle; margin-left: 0.5rem\">MISC</span>\n",
       "</mark>\n",
       " wieder in den Arztpraxen erscheinen und dadurch andere Menschen anstecken. Das muss verhindert werden.&quot; \n",
       "<mark class=\"entity\" style=\"background: #ddd; padding: 0.45em 0.6em; margin: 0 0.25em; line-height: 1; border-radius: 0.35em;\">\n",
       "    Der Gemeinsame Bundesausschuss\n",
       "    <span style=\"font-size: 0.8em; font-weight: bold; line-height: 1; border-radius: 0.35em; text-transform: uppercase; vertical-align: middle; margin-left: 0.5rem\">MISC</span>\n",
       "</mark>\n",
       " (\n",
       "<mark class=\"entity\" style=\"background: #ddd; padding: 0.45em 0.6em; margin: 0 0.25em; line-height: 1; border-radius: 0.35em;\">\n",
       "    G-BA\n",
       "    <span style=\"font-size: 0.8em; font-weight: bold; line-height: 1; border-radius: 0.35em; text-transform: uppercase; vertical-align: middle; margin-left: 0.5rem\">MISC</span>\n",
       "</mark>\n",
       ") von Ärzten, Kliniken und Krankenkassen hatte am Freitag beschlossen, die Ausnahmeregelung auslaufen zu lassen.</br></br>15.47 Uhr - Entgegen der offiziellen Darstellung aus \n",
       "<mark class=\"entity\" style=\"background: #ff9561; padding: 0.45em 0.6em; margin: 0 0.25em; line-height: 1; border-radius: 0.35em;\">\n",
       "    Pjöngjang\n",
       "    <span style=\"font-size: 0.8em; font-weight: bold; line-height: 1; border-radius: 0.35em; text-transform: uppercase; vertical-align: middle; margin-left: 0.5rem\">LOC</span>\n",
       "</mark>\n",
       " gibt es auch in \n",
       "<mark class=\"entity\" style=\"background: #ff9561; padding: 0.45em 0.6em; margin: 0 0.25em; line-height: 1; border-radius: 0.35em;\">\n",
       "    Nordkorea\n",
       "    <span style=\"font-size: 0.8em; font-weight: bold; line-height: 1; border-radius: 0.35em; text-transform: uppercase; vertical-align: middle; margin-left: 0.5rem\">LOC</span>\n",
       "</mark>\n",
       " einem Rundfunkbericht zufolge Coronavirus-Infektionen. \n",
       "<mark class=\"entity\" style=\"background: #ddd; padding: 0.45em 0.6em; margin: 0 0.25em; line-height: 1; border-radius: 0.35em;\">\n",
       "    Radio Free Asia\n",
       "    <span style=\"font-size: 0.8em; font-weight: bold; line-height: 1; border-radius: 0.35em; text-transform: uppercase; vertical-align: middle; margin-left: 0.5rem\">MISC</span>\n",
       "</mark>\n",
       " meldet, dass die Behörden des abgeschotteten Landes in \n",
       "<mark class=\"entity\" style=\"background: #ff9561; padding: 0.45em 0.6em; margin: 0 0.25em; line-height: 1; border-radius: 0.35em;\">\n",
       "    Mitteilungen\n",
       "    <span style=\"font-size: 0.8em; font-weight: bold; line-height: 1; border-radius: 0.35em; text-transform: uppercase; vertical-align: middle; margin-left: 0.5rem\">LOC</span>\n",
       "</mark>\n",
       " an einzelne Organisationen und Bürgergruppen von bestätigten \n",
       "<mark class=\"entity\" style=\"background: #ff9561; padding: 0.45em 0.6em; margin: 0 0.25em; line-height: 1; border-radius: 0.35em;\">\n",
       "    COVID-19-Fällen\n",
       "    <span style=\"font-size: 0.8em; font-weight: bold; line-height: 1; border-radius: 0.35em; text-transform: uppercase; vertical-align: middle; margin-left: 0.5rem\">LOC</span>\n",
       "</mark>\n",
       " gesprochen hätten. Seit Ende März seien die Erkrankungen bekannt, berichtete der Sender unter Berufung auf zwei Insider. Die Zahl der Patienten wurde nicht bekannt.</br></div></span>"
      ],
      "text/plain": [
       "<IPython.core.display.HTML object>"
      ]
     },
     "metadata": {},
     "output_type": "display_data"
    }
   ],
   "source": [
    "displacy.render(f_doc, style = \"ent\",jupyter = True) "
   ]
  },
  {
   "cell_type": "code",
   "execution_count": 7,
   "metadata": {},
   "outputs": [
    {
     "data": {
      "text/html": [
       "<span class=\"tex2jax_ignore\"><div class=\"entities\" style=\"line-height: 2.5; direction: ltr\">Meinung: \n",
       "<mark class=\"entity\" style=\"background: #ddd; padding: 0.45em 0.6em; margin: 0 0.25em; line-height: 1; border-radius: 0.35em;\">\n",
       "    Anne Frank\n",
       "    <span style=\"font-size: 0.8em; font-weight: bold; line-height: 1; border-radius: 0.35em; text-transform: uppercase; vertical-align: middle; margin-left: 0.5rem\">PER</span>\n",
       "</mark>\n",
       ", \n",
       "<mark class=\"entity\" style=\"background: #ddd; padding: 0.45em 0.6em; margin: 0 0.25em; line-height: 1; border-radius: 0.35em;\">\n",
       "    Sophie Scholl\n",
       "    <span style=\"font-size: 0.8em; font-weight: bold; line-height: 1; border-radius: 0.35em; text-transform: uppercase; vertical-align: middle; margin-left: 0.5rem\">PER</span>\n",
       "</mark>\n",
       " und die \n",
       "<mark class=\"entity\" style=\"background: #7aecec; padding: 0.45em 0.6em; margin: 0 0.25em; line-height: 1; border-radius: 0.35em;\">\n",
       "    Corona-Leugner\n",
       "\n",
       "    <span style=\"font-size: 0.8em; font-weight: bold; line-height: 1; border-radius: 0.35em; text-transform: uppercase; vertical-align: middle; margin-left: 0.5rem\">ORG</span>\n",
       "</mark>\n",
       "Wenn sich \n",
       "<mark class=\"entity\" style=\"background: #7aecec; padding: 0.45em 0.6em; margin: 0 0.25em; line-height: 1; border-radius: 0.35em;\">\n",
       "    COVID-Leugner\n",
       "    <span style=\"font-size: 0.8em; font-weight: bold; line-height: 1; border-radius: 0.35em; text-transform: uppercase; vertical-align: middle; margin-left: 0.5rem\">ORG</span>\n",
       "</mark>\n",
       " als Opfer vorgeblicher Nazi-Methoden stilisieren, geht es um Deutungshoheit. Deswegen ist es wichtig, sich solchem Unsinn entgegenzustellen, meint \n",
       "<mark class=\"entity\" style=\"background: #ddd; padding: 0.45em 0.6em; margin: 0 0.25em; line-height: 1; border-radius: 0.35em;\">\n",
       "    Martin Muno\n",
       "    <span style=\"font-size: 0.8em; font-weight: bold; line-height: 1; border-radius: 0.35em; text-transform: uppercase; vertical-align: middle; margin-left: 0.5rem\">PER</span>\n",
       "</mark>\n",
       ".</br></br>Demonstration «Querdenken» in \n",
       "<mark class=\"entity\" style=\"background: #ff9561; padding: 0.45em 0.6em; margin: 0 0.25em; line-height: 1; border-radius: 0.35em;\">\n",
       "    Leipzig\n",
       "    <span style=\"font-size: 0.8em; font-weight: bold; line-height: 1; border-radius: 0.35em; text-transform: uppercase; vertical-align: middle; margin-left: 0.5rem\">LOC</span>\n",
       "</mark>\n",
       "</br>Vergangene Woche bezeichneten mehrere Politiker der rechtspopulistischen \n",
       "<mark class=\"entity\" style=\"background: #7aecec; padding: 0.45em 0.6em; margin: 0 0.25em; line-height: 1; border-radius: 0.35em;\">\n",
       "    AfD\n",
       "    <span style=\"font-size: 0.8em; font-weight: bold; line-height: 1; border-radius: 0.35em; text-transform: uppercase; vertical-align: middle; margin-left: 0.5rem\">ORG</span>\n",
       "</mark>\n",
       " das neue Infektionsschutzgesetz der Bundesregierung als &quot;\n",
       "<mark class=\"entity\" style=\"background: #ddd; padding: 0.45em 0.6em; margin: 0 0.25em; line-height: 1; border-radius: 0.35em;\">\n",
       "    Ermächtigungsgesetz\n",
       "    <span style=\"font-size: 0.8em; font-weight: bold; line-height: 1; border-radius: 0.35em; text-transform: uppercase; vertical-align: middle; margin-left: 0.5rem\">MISC</span>\n",
       "</mark>\n",
       "&quot;. Zur Erinnerung: Mit jenem Gesetz erlangte die von \n",
       "<mark class=\"entity\" style=\"background: #ddd; padding: 0.45em 0.6em; margin: 0 0.25em; line-height: 1; border-radius: 0.35em;\">\n",
       "    Adolf Hitler\n",
       "    <span style=\"font-size: 0.8em; font-weight: bold; line-height: 1; border-radius: 0.35em; text-transform: uppercase; vertical-align: middle; margin-left: 0.5rem\">PER</span>\n",
       "</mark>\n",
       " geführte Regierung im März 1933 das Recht, Gesetze ohne Zustimmung des \n",
       "<mark class=\"entity\" style=\"background: #ddd; padding: 0.45em 0.6em; margin: 0 0.25em; line-height: 1; border-radius: 0.35em;\">\n",
       "    deutschen\n",
       "    <span style=\"font-size: 0.8em; font-weight: bold; line-height: 1; border-radius: 0.35em; text-transform: uppercase; vertical-align: middle; margin-left: 0.5rem\">MISC</span>\n",
       "</mark>\n",
       " Reichstags zu erlassen. Die \n",
       "<mark class=\"entity\" style=\"background: #7aecec; padding: 0.45em 0.6em; margin: 0 0.25em; line-height: 1; border-radius: 0.35em;\">\n",
       "    AfD\n",
       "    <span style=\"font-size: 0.8em; font-weight: bold; line-height: 1; border-radius: 0.35em; text-transform: uppercase; vertical-align: middle; margin-left: 0.5rem\">ORG</span>\n",
       "</mark>\n",
       " verglich also Regelungen, die Kontaktbeschränkungen zum Schutz vor einer Pandemie vorsehen, allen Ernstes mit einem Gesetz, das für das Ende der parlamentarischen Demokratie und den Beginn der \n",
       "<mark class=\"entity\" style=\"background: #ddd; padding: 0.45em 0.6em; margin: 0 0.25em; line-height: 1; border-radius: 0.35em;\">\n",
       "    Nazi-Gewaltherrschaft\n",
       "    <span style=\"font-size: 0.8em; font-weight: bold; line-height: 1; border-radius: 0.35em; text-transform: uppercase; vertical-align: middle; margin-left: 0.5rem\">MISC</span>\n",
       "</mark>\n",
       " steht.</br></br>Was von Geschichts- und Politikwissenschaftlern unisono als \n",
       "<mark class=\"entity\" style=\"background: #ddd; padding: 0.45em 0.6em; margin: 0 0.25em; line-height: 1; border-radius: 0.35em;\">\n",
       "    ahistorischer\n",
       "    <span style=\"font-size: 0.8em; font-weight: bold; line-height: 1; border-radius: 0.35em; text-transform: uppercase; vertical-align: middle; margin-left: 0.5rem\">MISC</span>\n",
       "</mark>\n",
       " Schwachsinn verurteilt wurde, wirkte auf die \n",
       "<mark class=\"entity\" style=\"background: #ddd; padding: 0.45em 0.6em; margin: 0 0.25em; line-height: 1; border-radius: 0.35em;\">\n",
       "    Corona-Gegner\n",
       "    <span style=\"font-size: 0.8em; font-weight: bold; line-height: 1; border-radius: 0.35em; text-transform: uppercase; vertical-align: middle; margin-left: 0.5rem\">MISC</span>\n",
       "</mark>\n",
       " als Motivationsschub: Am vergangenen Wochenende gingen sie in mehreren \n",
       "<mark class=\"entity\" style=\"background: #ddd; padding: 0.45em 0.6em; margin: 0 0.25em; line-height: 1; border-radius: 0.35em;\">\n",
       "    deutschen\n",
       "    <span style=\"font-size: 0.8em; font-weight: bold; line-height: 1; border-radius: 0.35em; text-transform: uppercase; vertical-align: middle; margin-left: 0.5rem\">MISC</span>\n",
       "</mark>\n",
       " Städten auf die \n",
       "<mark class=\"entity\" style=\"background: #ff9561; padding: 0.45em 0.6em; margin: 0 0.25em; line-height: 1; border-radius: 0.35em;\">\n",
       "    Straße\n",
       "    <span style=\"font-size: 0.8em; font-weight: bold; line-height: 1; border-radius: 0.35em; text-transform: uppercase; vertical-align: middle; margin-left: 0.5rem\">LOC</span>\n",
       "</mark>\n",
       ", um gegen die angebliche Machtergreifung zu demonstrieren. Dabei verglichen sich \n",
       "<mark class=\"entity\" style=\"background: #ddd; padding: 0.45em 0.6em; margin: 0 0.25em; line-height: 1; border-radius: 0.35em;\">\n",
       "    Rednerinnen\n",
       "    <span style=\"font-size: 0.8em; font-weight: bold; line-height: 1; border-radius: 0.35em; text-transform: uppercase; vertical-align: middle; margin-left: 0.5rem\">PER</span>\n",
       "</mark>\n",
       " wahlweise mit \n",
       "<mark class=\"entity\" style=\"background: #ddd; padding: 0.45em 0.6em; margin: 0 0.25em; line-height: 1; border-radius: 0.35em;\">\n",
       "    Anne Frank\n",
       "    <span style=\"font-size: 0.8em; font-weight: bold; line-height: 1; border-radius: 0.35em; text-transform: uppercase; vertical-align: middle; margin-left: 0.5rem\">PER</span>\n",
       "</mark>\n",
       " (ein 11-jähriges Mädchen in \n",
       "<mark class=\"entity\" style=\"background: #ddd; padding: 0.45em 0.6em; margin: 0 0.25em; line-height: 1; border-radius: 0.35em;\">\n",
       "    Karlsruhe\n",
       "    <span style=\"font-size: 0.8em; font-weight: bold; line-height: 1; border-radius: 0.35em; text-transform: uppercase; vertical-align: middle; margin-left: 0.5rem\">MISC</span>\n",
       "</mark>\n",
       ")  oder \n",
       "<mark class=\"entity\" style=\"background: #ddd; padding: 0.45em 0.6em; margin: 0 0.25em; line-height: 1; border-radius: 0.35em;\">\n",
       "    Sophie Scholl\n",
       "    <span style=\"font-size: 0.8em; font-weight: bold; line-height: 1; border-radius: 0.35em; text-transform: uppercase; vertical-align: middle; margin-left: 0.5rem\">PER</span>\n",
       "</mark>\n",
       " (eine 22-Jährige in \n",
       "<mark class=\"entity\" style=\"background: #ff9561; padding: 0.45em 0.6em; margin: 0 0.25em; line-height: 1; border-radius: 0.35em;\">\n",
       "    Kassel\n",
       "    <span style=\"font-size: 0.8em; font-weight: bold; line-height: 1; border-radius: 0.35em; text-transform: uppercase; vertical-align: middle; margin-left: 0.5rem\">LOC</span>\n",
       "</mark>\n",
       "); die bizarren Auftritte stießen auf ein weltweites Medieninteresse.</br></br>Die Machtlosen üben Macht aus</br></br>Dass es einen Unterschied ergibt, ob man wegen möglicher Verstöße gegen die \n",
       "<mark class=\"entity\" style=\"background: #ddd; padding: 0.45em 0.6em; margin: 0 0.25em; line-height: 1; border-radius: 0.35em;\">\n",
       "    Corona-Schutzverordnungen\n",
       "    <span style=\"font-size: 0.8em; font-weight: bold; line-height: 1; border-radius: 0.35em; text-transform: uppercase; vertical-align: middle; margin-left: 0.5rem\">MISC</span>\n",
       "</mark>\n",
       " zu einer Geldbuße verurteilt wird (und dagegen den Rechtsweg beschreiten kann), oder ob man aufgrund seiner \n",
       "<mark class=\"entity\" style=\"background: #ddd; padding: 0.45em 0.6em; margin: 0 0.25em; line-height: 1; border-radius: 0.35em;\">\n",
       "    jüdischen\n",
       "    <span style=\"font-size: 0.8em; font-weight: bold; line-height: 1; border-radius: 0.35em; text-transform: uppercase; vertical-align: middle; margin-left: 0.5rem\">MISC</span>\n",
       "</mark>\n",
       " Herkunft oder seines Eintretens für Freiheit und Gerechtigkeit umgebracht wird, sollte eigentlich allgemein einsichtig sein. Doch das ist den Rechtspopulisten und -radikalen, die sich im Umfeld der \n",
       "<mark class=\"entity\" style=\"background: #ddd; padding: 0.45em 0.6em; margin: 0 0.25em; line-height: 1; border-radius: 0.35em;\">\n",
       "    Corona-Leugner\n",
       "    <span style=\"font-size: 0.8em; font-weight: bold; line-height: 1; border-radius: 0.35em; text-transform: uppercase; vertical-align: middle; margin-left: 0.5rem\">MISC</span>\n",
       "</mark>\n",
       " tummeln, egal. Es geht ihnen um etwas anderes: Es geht um Deutungshoheit und kulturelle Hegemonie. Und die ist oft eher eine Frage der Emotionen als des Intellekts.</br></br> DW-Redakteur \n",
       "<mark class=\"entity\" style=\"background: #ddd; padding: 0.45em 0.6em; margin: 0 0.25em; line-height: 1; border-radius: 0.35em;\">\n",
       "    Martin Muno\n",
       "\n",
       "    <span style=\"font-size: 0.8em; font-weight: bold; line-height: 1; border-radius: 0.35em; text-transform: uppercase; vertical-align: middle; margin-left: 0.5rem\">PER</span>\n",
       "</mark>\n",
       "DW-Redakteur \n",
       "<mark class=\"entity\" style=\"background: #ddd; padding: 0.45em 0.6em; margin: 0 0.25em; line-height: 1; border-radius: 0.35em;\">\n",
       "    Martin Muno\n",
       "\n",
       "    <span style=\"font-size: 0.8em; font-weight: bold; line-height: 1; border-radius: 0.35em; text-transform: uppercase; vertical-align: middle; margin-left: 0.5rem\">PER</span>\n",
       "</mark>\n",
       "Die Opferrolle ist im Laufe der Geschichte wiederholt von gewählten und diktatorisch agierenden Machthabern wie auch von \n",
       "<mark class=\"entity\" style=\"background: #ff9561; padding: 0.45em 0.6em; margin: 0 0.25em; line-height: 1; border-radius: 0.35em;\">\n",
       "    Oppositionellen\n",
       "    <span style=\"font-size: 0.8em; font-weight: bold; line-height: 1; border-radius: 0.35em; text-transform: uppercase; vertical-align: middle; margin-left: 0.5rem\">LOC</span>\n",
       "</mark>\n",
       " benutzt worden, um eigenes Handeln zu legitimieren. Die Vernichtungspolitik der Nationalsozialisten wurde mit einer \n",
       "<mark class=\"entity\" style=\"background: #ddd; padding: 0.45em 0.6em; margin: 0 0.25em; line-height: 1; border-radius: 0.35em;\">\n",
       "    jüdischen\n",
       "    <span style=\"font-size: 0.8em; font-weight: bold; line-height: 1; border-radius: 0.35em; text-transform: uppercase; vertical-align: middle; margin-left: 0.5rem\">MISC</span>\n",
       "</mark>\n",
       " Weltverschwörung begründet - die es natürlich niemals gab. Die sozialistische Staatsführung der \n",
       "<mark class=\"entity\" style=\"background: #7aecec; padding: 0.45em 0.6em; margin: 0 0.25em; line-height: 1; border-radius: 0.35em;\">\n",
       "    DDR\n",
       "    <span style=\"font-size: 0.8em; font-weight: bold; line-height: 1; border-radius: 0.35em; text-transform: uppercase; vertical-align: middle; margin-left: 0.5rem\">ORG</span>\n",
       "</mark>\n",
       " bezeichnete die mit Mauer und Stacheldraht gesicherten Grenzen, die die Staatsbürger zu Gefangenen im eigenen Land machten, als &quot;antifaschistischen Schutzwall&quot; - sprich: Die anderen bedrohen uns, und wir versuchen lediglich, uns zu wehren. Die vorgebliche Machtlosigkeit wird benutzt, um Macht auszuüben. Ähnliche Argumentationsmuster gebrauchen der um seine Macht kämpfende belarussische Präsident \n",
       "<mark class=\"entity\" style=\"background: #ddd; padding: 0.45em 0.6em; margin: 0 0.25em; line-height: 1; border-radius: 0.35em;\">\n",
       "    Alexander Lukaschenko\n",
       "    <span style=\"font-size: 0.8em; font-weight: bold; line-height: 1; border-radius: 0.35em; text-transform: uppercase; vertical-align: middle; margin-left: 0.5rem\">PER</span>\n",
       "</mark>\n",
       " ebenso wie die \n",
       "<mark class=\"entity\" style=\"background: #7aecec; padding: 0.45em 0.6em; margin: 0 0.25em; line-height: 1; border-radius: 0.35em;\">\n",
       "    China-hörige Führung\n",
       "    <span style=\"font-size: 0.8em; font-weight: bold; line-height: 1; border-radius: 0.35em; text-transform: uppercase; vertical-align: middle; margin-left: 0.5rem\">ORG</span>\n",
       "</mark>\n",
       " in \n",
       "<mark class=\"entity\" style=\"background: #ff9561; padding: 0.45em 0.6em; margin: 0 0.25em; line-height: 1; border-radius: 0.35em;\">\n",
       "    Hongkong\n",
       "    <span style=\"font-size: 0.8em; font-weight: bold; line-height: 1; border-radius: 0.35em; text-transform: uppercase; vertical-align: middle; margin-left: 0.5rem\">LOC</span>\n",
       "</mark>\n",
       ".</br></br>Der derzeitige Champion der Opferrolle aber sitzt im \n",
       "<mark class=\"entity\" style=\"background: #ff9561; padding: 0.45em 0.6em; margin: 0 0.25em; line-height: 1; border-radius: 0.35em;\">\n",
       "    Weißen Haus\n",
       "    <span style=\"font-size: 0.8em; font-weight: bold; line-height: 1; border-radius: 0.35em; text-transform: uppercase; vertical-align: middle; margin-left: 0.5rem\">LOC</span>\n",
       "</mark>\n",
       ": \n",
       "<mark class=\"entity\" style=\"background: #ddd; padding: 0.45em 0.6em; margin: 0 0.25em; line-height: 1; border-radius: 0.35em;\">\n",
       "    Donald Trump\n",
       "    <span style=\"font-size: 0.8em; font-weight: bold; line-height: 1; border-radius: 0.35em; text-transform: uppercase; vertical-align: middle; margin-left: 0.5rem\">PER</span>\n",
       "</mark>\n",
       ", als \n",
       "<mark class=\"entity\" style=\"background: #ff9561; padding: 0.45em 0.6em; margin: 0 0.25em; line-height: 1; border-radius: 0.35em;\">\n",
       "    US-Präsident\n",
       "    <span style=\"font-size: 0.8em; font-weight: bold; line-height: 1; border-radius: 0.35em; text-transform: uppercase; vertical-align: middle; margin-left: 0.5rem\">LOC</span>\n",
       "</mark>\n",
       " einer der mächtigsten Menschen dieses Planeten, schreit täglich über sein Lieblingsmedium \n",
       "<mark class=\"entity\" style=\"background: #ff9561; padding: 0.45em 0.6em; margin: 0 0.25em; line-height: 1; border-radius: 0.35em;\">\n",
       "    Twitter\n",
       "    <span style=\"font-size: 0.8em; font-weight: bold; line-height: 1; border-radius: 0.35em; text-transform: uppercase; vertical-align: middle; margin-left: 0.5rem\">LOC</span>\n",
       "</mark>\n",
       " in die Welt hinaus, wie ungerecht er behandelt wird. Seien es Untersuchungen über seine nicht gezahlten Steuern oder mögliche illegale Absprachen mit ausländischen Regierungen - überall vermutet er eine &quot;Hexenjagd&quot;. Und auch um seinen &quot;überwältigenden Wahlsieg&quot; fühlt er sich betrogen.</br></br>Der Resonanzboden der Populisten</br></br>Das ist auf der Sachebene so lächerlich, wie der Auftritt der 22-Jährigen, die es als &quot;\n",
       "<mark class=\"entity\" style=\"background: #ddd; padding: 0.45em 0.6em; margin: 0 0.25em; line-height: 1; border-radius: 0.35em;\">\n",
       "    Jana\n",
       "    <span style=\"font-size: 0.8em; font-weight: bold; line-height: 1; border-radius: 0.35em; text-transform: uppercase; vertical-align: middle; margin-left: 0.5rem\">MISC</span>\n",
       "</mark>\n",
       " aus \n",
       "<mark class=\"entity\" style=\"background: #ff9561; padding: 0.45em 0.6em; margin: 0 0.25em; line-height: 1; border-radius: 0.35em;\">\n",
       "    Kassel\n",
       "    <span style=\"font-size: 0.8em; font-weight: bold; line-height: 1; border-radius: 0.35em; text-transform: uppercase; vertical-align: middle; margin-left: 0.5rem\">LOC</span>\n",
       "</mark>\n",
       "&quot; an diesem Wochenende zu einiger Berühmtheit brachte. Doch es geht dabei nicht um den Wahrheitsgehalt. Es geht darum, die Gleichgesinnten zusammenzuhalten und legale wie illegale Protestaktionen zu legitimieren. Auch wenn \n",
       "<mark class=\"entity\" style=\"background: #ddd; padding: 0.45em 0.6em; margin: 0 0.25em; line-height: 1; border-radius: 0.35em;\">\n",
       "    Trumps Bemühen\n",
       "    <span style=\"font-size: 0.8em; font-weight: bold; line-height: 1; border-radius: 0.35em; text-transform: uppercase; vertical-align: middle; margin-left: 0.5rem\">PER</span>\n",
       "</mark>\n",
       " von \n",
       "<mark class=\"entity\" style=\"background: #ddd; padding: 0.45em 0.6em; margin: 0 0.25em; line-height: 1; border-radius: 0.35em;\">\n",
       "    Tag zu Tag\n",
       "    <span style=\"font-size: 0.8em; font-weight: bold; line-height: 1; border-radius: 0.35em; text-transform: uppercase; vertical-align: middle; margin-left: 0.5rem\">PER</span>\n",
       "</mark>\n",
       " aufs Neue scheitert, die Präsidentenwahl auf dem Gerichtsweg zu kippen - die Zahl seiner Anhänger, die glauben, die Wahl sei manipuliert, steigt. Damit legt er geschickt die Axt an ein Fundament der Demokratie.</br></br>In \n",
       "<mark class=\"entity\" style=\"background: #ff9561; padding: 0.45em 0.6em; margin: 0 0.25em; line-height: 1; border-radius: 0.35em;\">\n",
       "    Deutschland\n",
       "    <span style=\"font-size: 0.8em; font-weight: bold; line-height: 1; border-radius: 0.35em; text-transform: uppercase; vertical-align: middle; margin-left: 0.5rem\">LOC</span>\n",
       "</mark>\n",
       " können wir froh sein, dass der Resonanzboden der Populisten so viel kleiner ist. Der Grund dafür ist, dass es eine viel größere gemeinsame Vorstellung in der Gesellschaft gibt, was wahr und falsch ist. Dass der Glaube naiv ist, dies werde auch künftig der Fall sein, zeigen der Blick in die \n",
       "<mark class=\"entity\" style=\"background: #ff9561; padding: 0.45em 0.6em; margin: 0 0.25em; line-height: 1; border-radius: 0.35em;\">\n",
       "    USA\n",
       "    <span style=\"font-size: 0.8em; font-weight: bold; line-height: 1; border-radius: 0.35em; text-transform: uppercase; vertical-align: middle; margin-left: 0.5rem\">LOC</span>\n",
       "</mark>\n",
       " und in die Geschichtsbücher. Deswegen ist es wichtig, den Anfängen zu wehren und einer Vermischung von Wahrheit und Lüge, von Täter und Opfer entgegenzutreten.</br></div></span>"
      ],
      "text/plain": [
       "<IPython.core.display.HTML object>"
      ]
     },
     "metadata": {},
     "output_type": "display_data"
    }
   ],
   "source": [
    "displacy.render(f_doc2, style = \"ent\",jupyter = True)"
   ]
  },
  {
   "cell_type": "code",
   "execution_count": 8,
   "metadata": {},
   "outputs": [],
   "source": [
    "def NE_in_doc(text):\n",
    "    orgs = set()\n",
    "    \n",
    "    doc = spacy_engine_de(text)\n",
    "    for entity in doc.ents:\n",
    "        if entity.label_ == 'ORG' or entity.label_ == 'LOC' or entity.label_ == 'PER': \n",
    "            if len(entity.text) > 3 or entity.text.isupper(): # Hiermit schließen wir einige komische Fehler aus\n",
    "                orgs.add(entity.text)\n",
    "    \n",
    "    return orgs"
   ]
  },
  {
   "cell_type": "code",
   "execution_count": 9,
   "metadata": {
    "scrolled": true
   },
   "outputs": [
    {
     "data": {
      "text/plain": [
       "{'AFP',\n",
       " 'Andrew Cuomo',\n",
       " 'António Costa',\n",
       " 'Armee',\n",
       " 'Ausgangssperre',\n",
       " 'Ausnahmezustands',\n",
       " 'Balat-Viertel\\n',\n",
       " 'Bayerns',\n",
       " 'Bergamo',\n",
       " 'Bundesverfassungsgerichts',\n",
       " 'COVID-19-Fällen',\n",
       " 'Cafés',\n",
       " 'Camps',\n",
       " 'Corona',\n",
       " 'Corona-Infektionsfälle',\n",
       " 'Corona-Krise',\n",
       " 'Corona-Live-Ticker',\n",
       " 'Corona-Pandemie',\n",
       " 'Corona-Pandemie Dorval',\n",
       " 'Corona-Toten',\n",
       " 'Coronavirus',\n",
       " 'Coronavirus-Pandemie',\n",
       " 'Costa',\n",
       " 'Cuomo',\n",
       " 'Deutschland',\n",
       " 'Donald Trump',\n",
       " 'Dorval',\n",
       " 'Dorval\\n\\n',\n",
       " 'EU-Mitgliedstaat',\n",
       " 'Europa',\n",
       " 'Europa\\n',\n",
       " 'Expresso',\n",
       " 'Florida',\n",
       " 'Flüchtlingslagern',\n",
       " 'Francois Legault',\n",
       " 'Friseurläden',\n",
       " 'Giorgio Gori',\n",
       " 'Griechenland',\n",
       " 'Horror-Altenheim',\n",
       " 'Hotels',\n",
       " 'Iran',\n",
       " 'Istanbul',\n",
       " 'Italien',\n",
       " 'Jacksonville Bürger',\n",
       " 'Johns-Hopkins-Universität',\n",
       " 'Justin Trudeau',\n",
       " 'Kanada',\n",
       " 'Kindergärten',\n",
       " 'Kroatien',\n",
       " 'Kurzbotschaftendienst Twitter',\n",
       " 'Lagern',\n",
       " 'Langzeit-Pflegeheimen',\n",
       " 'Marokko',\n",
       " 'Melanie Huml',\n",
       " 'Mitteilungen',\n",
       " 'Montréal',\n",
       " 'New York',\n",
       " 'New York Pfleger Leichenabtransport Coronakrise\\n',\n",
       " 'Norditalien',\n",
       " 'Nordkorea',\n",
       " 'Pandemie betroffene Stadt Italiens',\n",
       " 'Pedro Sanchez',\n",
       " 'Pjöngjang',\n",
       " 'Portugal',\n",
       " 'Provinz Quebec',\n",
       " 'RKI',\n",
       " 'Restaurants',\n",
       " 'Robert-Koch-Instituts',\n",
       " 'SARS-CoV-2',\n",
       " 'Spaniens',\n",
       " 'Stadt',\n",
       " 'Stuttgart',\n",
       " 'Türkei',\n",
       " 'US-Präsident',\n",
       " 'USA',\n",
       " 'Virus-Folgen',\n",
       " 'Virus-Toten',\n",
       " 'Washington',\n",
       " 'Wohnungen',\n",
       " 'griechischen Inseln',\n",
       " 'ägäischen Inseln'}"
      ]
     },
     "execution_count": 9,
     "metadata": {},
     "output_type": "execute_result"
    }
   ],
   "source": [
    "NE_in_doc(text)"
   ]
  },
  {
   "cell_type": "code",
   "execution_count": 10,
   "metadata": {},
   "outputs": [],
   "source": [
    "def NE_in_doc2(text2):\n",
    "    orgs2 = set()\n",
    "    \n",
    "    doc2 = spacy_engine_de(text2)\n",
    "    for entity2 in doc2.ents:\n",
    "        if entity2.label_ == 'ORG' or entity2.label_ == 'LOC' or entity2.label_ == 'PER': \n",
    "            if len(entity2.text) > 3 or entity2.text.isupper(): # Hiermit schließen wir einige komische Fehler aus\n",
    "                orgs2.add(entity2.text)\n",
    "    \n",
    "    return orgs2"
   ]
  },
  {
   "cell_type": "code",
   "execution_count": 11,
   "metadata": {},
   "outputs": [
    {
     "data": {
      "text/plain": [
       "{'Adolf Hitler',\n",
       " 'Alexander Lukaschenko',\n",
       " 'Anne Frank',\n",
       " 'COVID-Leugner',\n",
       " 'China-hörige Führung',\n",
       " 'Corona-Leugner\\n',\n",
       " 'DDR',\n",
       " 'Deutschland',\n",
       " 'Donald Trump',\n",
       " 'Hongkong',\n",
       " 'Kassel',\n",
       " 'Leipzig',\n",
       " 'Martin Muno',\n",
       " 'Martin Muno\\n',\n",
       " 'Oppositionellen',\n",
       " 'Rednerinnen',\n",
       " 'Sophie Scholl',\n",
       " 'Straße',\n",
       " 'Tag zu Tag',\n",
       " 'Trumps Bemühen',\n",
       " 'Twitter',\n",
       " 'US-Präsident',\n",
       " 'USA',\n",
       " 'Weißen Haus'}"
      ]
     },
     "execution_count": 11,
     "metadata": {},
     "output_type": "execute_result"
    }
   ],
   "source": [
    "NE_in_doc2(text2)"
   ]
  },
  {
   "cell_type": "code",
   "execution_count": 12,
   "metadata": {},
   "outputs": [],
   "source": [
    "from collections import Counter"
   ]
  },
  {
   "cell_type": "code",
   "execution_count": 13,
   "metadata": {},
   "outputs": [],
   "source": [
    "orgs = Counter()\n",
    "orgs_cooccurrence = {}\n",
    "\n",
    "for f in filelist:    \n",
    "    datei = codecs.open(f,'r','utf8')\n",
    "    text = datei.read()\n",
    "    datei.close()\n",
    "    organizations = NE_in_doc(text)\n",
    "    for org in organizations:\n",
    "        if org not in orgs_cooccurrence:\n",
    "            orgs_cooccurrence[org] = Counter(organizations)\n",
    "        else:\n",
    "            orgs_cooccurrence[org].update(organizations)\n",
    "            \n",
    "    orgs.update(organizations)"
   ]
  },
  {
   "cell_type": "code",
   "execution_count": 14,
   "metadata": {
    "scrolled": true
   },
   "outputs": [
    {
     "data": {
      "text/plain": [
       "[('Coronavirus', 6),\n",
       " ('Europa', 6),\n",
       " ('USA', 6),\n",
       " ('Deutschland', 6),\n",
       " ('RKI', 6),\n",
       " ('Corona-Krise', 5),\n",
       " ('Coronavirus-Pandemie', 5),\n",
       " ('New York', 5),\n",
       " ('US-Präsident', 5),\n",
       " ('Corona-Pandemie', 5),\n",
       " ('Donald Trump', 5),\n",
       " ('Frankreich', 5),\n",
       " ('Spanien', 5),\n",
       " ('Trump', 5),\n",
       " ('Stadt', 4),\n",
       " ('SARS-CoV-2', 4),\n",
       " ('Andrew Cuomo', 4),\n",
       " ('Corona-Live-Ticker', 4),\n",
       " ('Italien', 4),\n",
       " ('Bayerns', 4)]"
      ]
     },
     "execution_count": 14,
     "metadata": {},
     "output_type": "execute_result"
    }
   ],
   "source": [
    "orgs.most_common(20)"
   ]
  },
  {
   "cell_type": "code",
   "execution_count": 15,
   "metadata": {},
   "outputs": [],
   "source": [
    "orgs2 = Counter()\n",
    "orgs_cooccurrence2 = {}\n",
    "\n",
    "for f2 in filelist2:    \n",
    "    datei = codecs.open(f2,'r','utf8')\n",
    "    text2 = datei.read()\n",
    "    datei.close()\n",
    "    organizations2 = NE_in_doc2(text2)\n",
    "    for org2 in organizations2:\n",
    "        if org2 not in orgs_cooccurrence2:\n",
    "            orgs_cooccurrence2[org2] = Counter(organizations2)\n",
    "        else:\n",
    "            orgs_cooccurrence2[org2].update(organizations2)\n",
    "            \n",
    "    orgs2.update(organizations2)"
   ]
  },
  {
   "cell_type": "code",
   "execution_count": 16,
   "metadata": {},
   "outputs": [
    {
     "data": {
      "text/plain": [
       "1628"
      ]
     },
     "execution_count": 16,
     "metadata": {},
     "output_type": "execute_result"
    }
   ],
   "source": [
    "len(orgs2)"
   ]
  },
  {
   "cell_type": "code",
   "execution_count": 17,
   "metadata": {},
   "outputs": [
    {
     "data": {
      "text/plain": [
       "[('Deutschland', 5),\n",
       " ('USA', 5),\n",
       " ('Europa', 4),\n",
       " ('Straße', 3),\n",
       " ('Hongkong', 3),\n",
       " ('Bürger', 3),\n",
       " ('Coronavirus-Pandemie', 3),\n",
       " ('Corona', 3),\n",
       " ('den USA', 3),\n",
       " ('Pfizer', 3),\n",
       " ('Moderna', 3),\n",
       " ('EU', 3),\n",
       " ('Staaten', 3),\n",
       " ('Coronavirus', 3),\n",
       " ('US-Präsident', 2),\n",
       " ('Donald Trump', 2),\n",
       " ('Twitter', 2),\n",
       " ('Stuttgart', 2),\n",
       " ('Ländern', 2),\n",
       " ('Polen', 2)]"
      ]
     },
     "execution_count": 17,
     "metadata": {},
     "output_type": "execute_result"
    }
   ],
   "source": [
    "orgs2.most_common(20)"
   ]
  },
  {
   "cell_type": "code",
   "execution_count": 18,
   "metadata": {},
   "outputs": [
    {
     "data": {
      "text/plain": [
       "4"
      ]
     },
     "execution_count": 18,
     "metadata": {},
     "output_type": "execute_result"
    }
   ],
   "source": [
    "orgs_cooccurrence['Robert-Koch-Instituts']['Coronavirus'] # zusammen behandelt wurden für erste Welle."
   ]
  },
  {
   "cell_type": "code",
   "execution_count": 19,
   "metadata": {},
   "outputs": [
    {
     "data": {
      "text/plain": [
       "1"
      ]
     },
     "execution_count": 19,
     "metadata": {},
     "output_type": "execute_result"
    }
   ],
   "source": [
    "orgs_cooccurrence2['Pfizer']['Corona'] # zusammen behandelt wurden für zweite Welle."
   ]
  },
  {
   "cell_type": "markdown",
   "metadata": {},
   "source": [
    "## <span style=color:gray> Wie gesehen, in der zweiten Welle Pfizer populär geworden ist.</span>"
   ]
  },
  {
   "cell_type": "markdown",
   "metadata": {},
   "source": [
    "# Visualisierung"
   ]
  },
  {
   "cell_type": "markdown",
   "metadata": {},
   "source": [
    "Im folgende Abschnitt wollen wir versuchen die oben berechneten Bziehungen graphisch darzustellen. \n",
    "\n",
    "Vermutlich müssen Sie erst einige Bibliotheken installieren. Hier als Beispiel die Installation von _plotly_:"
   ]
  },
  {
   "cell_type": "code",
   "execution_count": 42,
   "metadata": {},
   "outputs": [],
   "source": [
    "NERList = {NE:freq for (NE,freq) in orgs.items() if freq > 4 and freq < 10}"
   ]
  },
  {
   "cell_type": "code",
   "execution_count": 43,
   "metadata": {},
   "outputs": [
    {
     "data": {
      "text/plain": [
       "14"
      ]
     },
     "execution_count": 43,
     "metadata": {},
     "output_type": "execute_result"
    }
   ],
   "source": [
    "len(NERList)"
   ]
  },
  {
   "cell_type": "code",
   "execution_count": 44,
   "metadata": {},
   "outputs": [],
   "source": [
    "Relations = {NE1:{NE2:freq for (NE2,freq) in orgs_cooccurrence[NE1].items() if NE2 in NERList} for NE1 in NERList}"
   ]
  },
  {
   "cell_type": "code",
   "execution_count": 23,
   "metadata": {},
   "outputs": [],
   "source": [
    "NERList2 = {NE2:freq2 for (NE2,freq2) in orgs2.items() if freq2 > 2 and freq2 < 10}"
   ]
  },
  {
   "cell_type": "code",
   "execution_count": 24,
   "metadata": {},
   "outputs": [
    {
     "data": {
      "text/plain": [
       "14"
      ]
     },
     "execution_count": 24,
     "metadata": {},
     "output_type": "execute_result"
    }
   ],
   "source": [
    "len(NERList2)"
   ]
  },
  {
   "cell_type": "code",
   "execution_count": 25,
   "metadata": {},
   "outputs": [],
   "source": [
    "Relations2 = {NE3:{NE4:freq2 for (NE4,freq2) in orgs_cooccurrence2[NE3].items() if NE4 in NERList2} for NE3 in NERList2}"
   ]
  },
  {
   "cell_type": "code",
   "execution_count": 26,
   "metadata": {},
   "outputs": [],
   "source": [
    "# !pip install plotly\n",
    "\n",
    "# Import packages for data visualization\n",
    "import plotly.offline as py\n",
    "import plotly.graph_objects as go\n",
    "import networkx as nx\n",
    "import matplotlib.pyplot as plt\n",
    "import math"
   ]
  },
  {
   "cell_type": "code",
   "execution_count": 45,
   "metadata": {},
   "outputs": [],
   "source": [
    "companies = nx.Graph()# \n",
    "\n",
    "for org in NERList:\n",
    "    companies.add_node(org,size = orgs[org])\n",
    "\n",
    "for org1 in Relations:\n",
    "    for org2 in Relations[org1]:\n",
    "        if org2 != org1:\n",
    "            companies.add_edge(org1, org2,  weight =  2 + math.log(Relations[org1][org2]))"
   ]
  },
  {
   "cell_type": "code",
   "execution_count": 46,
   "metadata": {},
   "outputs": [],
   "source": [
    "# Get positions for the nodes in G\n",
    "nodepositions = nx.spring_layout(companies)"
   ]
  },
  {
   "cell_type": "code",
   "execution_count": 47,
   "metadata": {
    "scrolled": true
   },
   "outputs": [
    {
     "data": {
      "image/png": "[encoded data removed]",
      "text/plain": [
       "<Figure size 432x288 with 1 Axes>"
      ]
     },
     "metadata": {},
     "output_type": "display_data"
    }
   ],
   "source": [
    "nx.draw(companies, nodepositions, node_size=5, edge_color=\"r\", font_size=12, with_labels=True)\n",
    "plt.show()"
   ]
  },
  {
   "cell_type": "code",
   "execution_count": 30,
   "metadata": {},
   "outputs": [],
   "source": [
    "companies2 = nx.Graph()\n",
    "for org_z in NERList2:\n",
    "    companies2.add_node(org_z,size = orgs2[org_z])\n",
    "\n",
    "for org_z in Relations2:\n",
    "    for org_zw in Relations2[org_z]:\n",
    "        if org_zw != org_z:\n",
    "            companies2.add_edge(org_z, org_zw,  weight =  2 + math.log(Relations2[org_z][org_zw]))"
   ]
  },
  {
   "cell_type": "code",
   "execution_count": 31,
   "metadata": {},
   "outputs": [],
   "source": [
    "# Get positions for the nodes in G\n",
    "nodepositions2 = nx.spring_layout(companies2)"
   ]
  },
  {
   "cell_type": "code",
   "execution_count": 32,
   "metadata": {},
   "outputs": [
    {
     "data": {
      "image/png": "[encoded data removed]",
      "text/plain": [
       "<Figure size 432x288 with 1 Axes>"
      ]
     },
     "metadata": {},
     "output_type": "display_data"
    }
   ],
   "source": [
    "nx.draw(companies2, nodepositions2, node_size=5, edge_color=\"r\", font_size=12, with_labels=True)\n",
    "plt.show()"
   ]
  },
  {
   "cell_type": "markdown",
   "metadata": {},
   "source": [
    "Zum Schluss versuche ich das ganze mit Plotly noch etwas schöner zu gestalten. Ich passe die Größe der Knoten an der Häufigkeit der Entitäten an und machne das Gleiche für die Stärke der Kanten.\n",
    "\n",
    "Damit man am Ende ein schönes Ergebnis hat, muss man ein wenig mit den Funktionen für die Berechnung der Größen spielen."
   ]
  },
  {
   "cell_type": "code",
   "execution_count": 48,
   "metadata": {},
   "outputs": [
    {
     "data": {
      "application/vnd.plotly.v1+json": {
       "config": {
        "plotlyServerURL": "https://plot.ly"
       },
       "data": [
        {
         "line": {
          "color": "cornflowerblue",
          "width": 1.671850762441055
         },
         "mode": "lines",
         "type": "scatter",
         "x": [
          0.3663058868394895,
          0.24236529176655303,
          null
         ],
         "y": [
          -0.43076284149679833,
          -0.975404980117376,
          null
         ]
        },
        {
         "line": {
          "color": "cornflowerblue",
          "width": 1.671850762441055
         },
         "mode": "lines",
         "type": "scatter",
         "x": [
          0.3663058868394895,
          0.3643066028462397,
          null
         ],
         "y": [
          -0.43076284149679833,
          0.5543045898129471,
          null
         ]
        },
        {
         "line": {
          "color": "cornflowerblue",
          "width": 1.671850762441055
         },
         "mode": "lines",
         "type": "scatter",
         "x": [
          0.3663058868394895,
          -0.49181377237457746,
          null
         ],
         "y": [
          -0.43076284149679833,
          -0.03779992144892535,
          null
         ]
        },
        {
         "line": {
          "color": "cornflowerblue",
          "width": 1.671850762441055
         },
         "mode": "lines",
         "type": "scatter",
         "x": [
          0.3663058868394895,
          -0.5904651584892197,
          null
         ],
         "y": [
          -0.43076284149679833,
          -0.7802052367596504,
          null
         ]
        },
        {
         "line": {
          "color": "cornflowerblue",
          "width": 1.1313708498984762
         },
         "mode": "lines",
         "type": "scatter",
         "x": [
          0.3663058868394895,
          -0.04802411348147443,
          null
         ],
         "y": [
          -0.43076284149679833,
          0.2364458406429239,
          null
         ]
        },
        {
         "line": {
          "color": "cornflowerblue",
          "width": 1.671850762441055
         },
         "mode": "lines",
         "type": "scatter",
         "x": [
          0.3663058868394895,
          -0.8679573088972201,
          null
         ],
         "y": [
          -0.43076284149679833,
          0.3952638653019296,
          null
         ]
        },
        {
         "line": {
          "color": "cornflowerblue",
          "width": 1.671850762441055
         },
         "mode": "lines",
         "type": "scatter",
         "x": [
          0.3663058868394895,
          0.8415454335975888,
          null
         ],
         "y": [
          -0.43076284149679833,
          0.034044176030564983,
          null
         ]
        },
        {
         "line": {
          "color": "cornflowerblue",
          "width": 1.671850762441055
         },
         "mode": "lines",
         "type": "scatter",
         "x": [
          0.3663058868394895,
          -0.15204210405244106,
          null
         ],
         "y": [
          -0.43076284149679833,
          -0.6044591479407039,
          null
         ]
        },
        {
         "line": {
          "color": "cornflowerblue",
          "width": 1.671850762441055
         },
         "mode": "lines",
         "type": "scatter",
         "x": [
          0.3663058868394895,
          0.8581662378975017,
          null
         ],
         "y": [
          -0.43076284149679833,
          -0.4776182317369281,
          null
         ]
        },
        {
         "line": {
          "color": "cornflowerblue",
          "width": 1.671850762441055
         },
         "mode": "lines",
         "type": "scatter",
         "x": [
          0.3663058868394895,
          -0.47753421328643975,
          null
         ],
         "y": [
          -0.43076284149679833,
          0.7856239632220638,
          null
         ]
        },
        {
         "line": {
          "color": "cornflowerblue",
          "width": 1.1313708498984762
         },
         "mode": "lines",
         "type": "scatter",
         "x": [
          0.3663058868394895,
          0.8165065010520031,
          null
         ],
         "y": [
          -0.43076284149679833,
          0.5652973704827168,
          null
         ]
        },
        {
         "line": {
          "color": "cornflowerblue",
          "width": 1.1313708498984762
         },
         "mode": "lines",
         "type": "scatter",
         "x": [
          0.3663058868394895,
          -0.9435309151372328,
          null
         ],
         "y": [
          -0.43076284149679833,
          -0.26472944599276105,
          null
         ]
        },
        {
         "line": {
          "color": "cornflowerblue",
          "width": 1.1313708498984762
         },
         "mode": "lines",
         "type": "scatter",
         "x": [
          0.3663058868394895,
          0.08217163171922387,
          null
         ],
         "y": [
          -0.43076284149679833,
          1,
          null
         ]
        },
        {
         "line": {
          "color": "cornflowerblue",
          "width": 1.671850762441055
         },
         "mode": "lines",
         "type": "scatter",
         "x": [
          0.24236529176655303,
          0.3643066028462397,
          null
         ],
         "y": [
          -0.975404980117376,
          0.5543045898129471,
          null
         ]
        },
        {
         "line": {
          "color": "cornflowerblue",
          "width": 1.671850762441055
         },
         "mode": "lines",
         "type": "scatter",
         "x": [
          0.24236529176655303,
          -0.49181377237457746,
          null
         ],
         "y": [
          -0.975404980117376,
          -0.03779992144892535,
          null
         ]
        },
        {
         "line": {
          "color": "cornflowerblue",
          "width": 1.671850762441055
         },
         "mode": "lines",
         "type": "scatter",
         "x": [
          0.24236529176655303,
          -0.5904651584892197,
          null
         ],
         "y": [
          -0.975404980117376,
          -0.7802052367596504,
          null
         ]
        },
        {
         "line": {
          "color": "cornflowerblue",
          "width": 1.1313708498984762
         },
         "mode": "lines",
         "type": "scatter",
         "x": [
          0.24236529176655303,
          -0.04802411348147443,
          null
         ],
         "y": [
          -0.975404980117376,
          0.2364458406429239,
          null
         ]
        },
        {
         "line": {
          "color": "cornflowerblue",
          "width": 1.671850762441055
         },
         "mode": "lines",
         "type": "scatter",
         "x": [
          0.24236529176655303,
          -0.8679573088972201,
          null
         ],
         "y": [
          -0.975404980117376,
          0.3952638653019296,
          null
         ]
        },
        {
         "line": {
          "color": "cornflowerblue",
          "width": 1.671850762441055
         },
         "mode": "lines",
         "type": "scatter",
         "x": [
          0.24236529176655303,
          0.8415454335975888,
          null
         ],
         "y": [
          -0.975404980117376,
          0.034044176030564983,
          null
         ]
        },
        {
         "line": {
          "color": "cornflowerblue",
          "width": 1.671850762441055
         },
         "mode": "lines",
         "type": "scatter",
         "x": [
          0.24236529176655303,
          -0.15204210405244106,
          null
         ],
         "y": [
          -0.975404980117376,
          -0.6044591479407039,
          null
         ]
        },
        {
         "line": {
          "color": "cornflowerblue",
          "width": 1.671850762441055
         },
         "mode": "lines",
         "type": "scatter",
         "x": [
          0.24236529176655303,
          0.8581662378975017,
          null
         ],
         "y": [
          -0.975404980117376,
          -0.4776182317369281,
          null
         ]
        },
        {
         "line": {
          "color": "cornflowerblue",
          "width": 1.671850762441055
         },
         "mode": "lines",
         "type": "scatter",
         "x": [
          0.24236529176655303,
          -0.47753421328643975,
          null
         ],
         "y": [
          -0.975404980117376,
          0.7856239632220638,
          null
         ]
        },
        {
         "line": {
          "color": "cornflowerblue",
          "width": 1.1313708498984762
         },
         "mode": "lines",
         "type": "scatter",
         "x": [
          0.24236529176655303,
          0.8165065010520031,
          null
         ],
         "y": [
          -0.975404980117376,
          0.5652973704827168,
          null
         ]
        },
        {
         "line": {
          "color": "cornflowerblue",
          "width": 1.1313708498984762
         },
         "mode": "lines",
         "type": "scatter",
         "x": [
          0.24236529176655303,
          -0.9435309151372328,
          null
         ],
         "y": [
          -0.975404980117376,
          -0.26472944599276105,
          null
         ]
        },
        {
         "line": {
          "color": "cornflowerblue",
          "width": 1.1313708498984762
         },
         "mode": "lines",
         "type": "scatter",
         "x": [
          0.24236529176655303,
          0.08217163171922387,
          null
         ],
         "y": [
          -0.975404980117376,
          1,
          null
         ]
        },
        {
         "line": {
          "color": "cornflowerblue",
          "width": 1.671850762441055
         },
         "mode": "lines",
         "type": "scatter",
         "x": [
          0.3643066028462397,
          -0.49181377237457746,
          null
         ],
         "y": [
          0.5543045898129471,
          -0.03779992144892535,
          null
         ]
        },
        {
         "line": {
          "color": "cornflowerblue",
          "width": 1.671850762441055
         },
         "mode": "lines",
         "type": "scatter",
         "x": [
          0.3643066028462397,
          -0.5904651584892197,
          null
         ],
         "y": [
          0.5543045898129471,
          -0.7802052367596504,
          null
         ]
        },
        {
         "line": {
          "color": "cornflowerblue",
          "width": 1.1313708498984762
         },
         "mode": "lines",
         "type": "scatter",
         "x": [
          0.3643066028462397,
          -0.04802411348147443,
          null
         ],
         "y": [
          0.5543045898129471,
          0.2364458406429239,
          null
         ]
        },
        {
         "line": {
          "color": "cornflowerblue",
          "width": 1.671850762441055
         },
         "mode": "lines",
         "type": "scatter",
         "x": [
          0.3643066028462397,
          -0.8679573088972201,
          null
         ],
         "y": [
          0.5543045898129471,
          0.3952638653019296,
          null
         ]
        },
        {
         "line": {
          "color": "cornflowerblue",
          "width": 1.671850762441055
         },
         "mode": "lines",
         "type": "scatter",
         "x": [
          0.3643066028462397,
          0.8415454335975888,
          null
         ],
         "y": [
          0.5543045898129471,
          0.034044176030564983,
          null
         ]
        },
        {
         "line": {
          "color": "cornflowerblue",
          "width": 1.671850762441055
         },
         "mode": "lines",
         "type": "scatter",
         "x": [
          0.3643066028462397,
          -0.15204210405244106,
          null
         ],
         "y": [
          0.5543045898129471,
          -0.6044591479407039,
          null
         ]
        },
        {
         "line": {
          "color": "cornflowerblue",
          "width": 1.671850762441055
         },
         "mode": "lines",
         "type": "scatter",
         "x": [
          0.3643066028462397,
          0.8581662378975017,
          null
         ],
         "y": [
          0.5543045898129471,
          -0.4776182317369281,
          null
         ]
        },
        {
         "line": {
          "color": "cornflowerblue",
          "width": 1.671850762441055
         },
         "mode": "lines",
         "type": "scatter",
         "x": [
          0.3643066028462397,
          -0.47753421328643975,
          null
         ],
         "y": [
          0.5543045898129471,
          0.7856239632220638,
          null
         ]
        },
        {
         "line": {
          "color": "cornflowerblue",
          "width": 1.1313708498984762
         },
         "mode": "lines",
         "type": "scatter",
         "x": [
          0.3643066028462397,
          0.8165065010520031,
          null
         ],
         "y": [
          0.5543045898129471,
          0.5652973704827168,
          null
         ]
        },
        {
         "line": {
          "color": "cornflowerblue",
          "width": 1.1313708498984762
         },
         "mode": "lines",
         "type": "scatter",
         "x": [
          0.3643066028462397,
          -0.9435309151372328,
          null
         ],
         "y": [
          0.5543045898129471,
          -0.26472944599276105,
          null
         ]
        },
        {
         "line": {
          "color": "cornflowerblue",
          "width": 1.1313708498984762
         },
         "mode": "lines",
         "type": "scatter",
         "x": [
          0.3643066028462397,
          0.08217163171922387,
          null
         ],
         "y": [
          0.5543045898129471,
          1,
          null
         ]
        },
        {
         "line": {
          "color": "cornflowerblue",
          "width": 2.3001951752865812
         },
         "mode": "lines",
         "type": "scatter",
         "x": [
          -0.49181377237457746,
          -0.5904651584892197,
          null
         ],
         "y": [
          -0.03779992144892535,
          -0.7802052367596504,
          null
         ]
        },
        {
         "line": {
          "color": "cornflowerblue",
          "width": 1.671850762441055
         },
         "mode": "lines",
         "type": "scatter",
         "x": [
          -0.49181377237457746,
          -0.04802411348147443,
          null
         ],
         "y": [
          -0.03779992144892535,
          0.2364458406429239,
          null
         ]
        },
        {
         "line": {
          "color": "cornflowerblue",
          "width": 2.3001951752865812
         },
         "mode": "lines",
         "type": "scatter",
         "x": [
          -0.49181377237457746,
          -0.8679573088972201,
          null
         ],
         "y": [
          -0.03779992144892535,
          0.3952638653019296,
          null
         ]
        },
        {
         "line": {
          "color": "cornflowerblue",
          "width": 1.671850762441055
         },
         "mode": "lines",
         "type": "scatter",
         "x": [
          -0.49181377237457746,
          0.8415454335975888,
          null
         ],
         "y": [
          -0.03779992144892535,
          0.034044176030564983,
          null
         ]
        },
        {
         "line": {
          "color": "cornflowerblue",
          "width": 1.671850762441055
         },
         "mode": "lines",
         "type": "scatter",
         "x": [
          -0.49181377237457746,
          -0.15204210405244106,
          null
         ],
         "y": [
          -0.03779992144892535,
          -0.6044591479407039,
          null
         ]
        },
        {
         "line": {
          "color": "cornflowerblue",
          "width": 1.671850762441055
         },
         "mode": "lines",
         "type": "scatter",
         "x": [
          -0.49181377237457746,
          0.8581662378975017,
          null
         ],
         "y": [
          -0.03779992144892535,
          -0.4776182317369281,
          null
         ]
        },
        {
         "line": {
          "color": "cornflowerblue",
          "width": 2.3001951752865812
         },
         "mode": "lines",
         "type": "scatter",
         "x": [
          -0.49181377237457746,
          -0.47753421328643975,
          null
         ],
         "y": [
          -0.03779992144892535,
          0.7856239632220638,
          null
         ]
        },
        {
         "line": {
          "color": "cornflowerblue",
          "width": 1.671850762441055
         },
         "mode": "lines",
         "type": "scatter",
         "x": [
          -0.49181377237457746,
          0.8165065010520031,
          null
         ],
         "y": [
          -0.03779992144892535,
          0.5652973704827168,
          null
         ]
        },
        {
         "line": {
          "color": "cornflowerblue",
          "width": 1.671850762441055
         },
         "mode": "lines",
         "type": "scatter",
         "x": [
          -0.49181377237457746,
          -0.9435309151372328,
          null
         ],
         "y": [
          -0.03779992144892535,
          -0.26472944599276105,
          null
         ]
        },
        {
         "line": {
          "color": "cornflowerblue",
          "width": 1.1313708498984762
         },
         "mode": "lines",
         "type": "scatter",
         "x": [
          -0.49181377237457746,
          0.08217163171922387,
          null
         ],
         "y": [
          -0.03779992144892535,
          1,
          null
         ]
        },
        {
         "line": {
          "color": "cornflowerblue",
          "width": 1.671850762441055
         },
         "mode": "lines",
         "type": "scatter",
         "x": [
          -0.5904651584892197,
          -0.04802411348147443,
          null
         ],
         "y": [
          -0.7802052367596504,
          0.2364458406429239,
          null
         ]
        },
        {
         "line": {
          "color": "cornflowerblue",
          "width": 2.3001951752865812
         },
         "mode": "lines",
         "type": "scatter",
         "x": [
          -0.5904651584892197,
          -0.8679573088972201,
          null
         ],
         "y": [
          -0.7802052367596504,
          0.3952638653019296,
          null
         ]
        },
        {
         "line": {
          "color": "cornflowerblue",
          "width": 1.671850762441055
         },
         "mode": "lines",
         "type": "scatter",
         "x": [
          -0.5904651584892197,
          0.8415454335975888,
          null
         ],
         "y": [
          -0.7802052367596504,
          0.034044176030564983,
          null
         ]
        },
        {
         "line": {
          "color": "cornflowerblue",
          "width": 1.671850762441055
         },
         "mode": "lines",
         "type": "scatter",
         "x": [
          -0.5904651584892197,
          -0.15204210405244106,
          null
         ],
         "y": [
          -0.7802052367596504,
          -0.6044591479407039,
          null
         ]
        },
        {
         "line": {
          "color": "cornflowerblue",
          "width": 1.671850762441055
         },
         "mode": "lines",
         "type": "scatter",
         "x": [
          -0.5904651584892197,
          0.8581662378975017,
          null
         ],
         "y": [
          -0.7802052367596504,
          -0.4776182317369281,
          null
         ]
        },
        {
         "line": {
          "color": "cornflowerblue",
          "width": 2.3001951752865812
         },
         "mode": "lines",
         "type": "scatter",
         "x": [
          -0.5904651584892197,
          -0.47753421328643975,
          null
         ],
         "y": [
          -0.7802052367596504,
          0.7856239632220638,
          null
         ]
        },
        {
         "line": {
          "color": "cornflowerblue",
          "width": 1.671850762441055
         },
         "mode": "lines",
         "type": "scatter",
         "x": [
          -0.5904651584892197,
          0.8165065010520031,
          null
         ],
         "y": [
          -0.7802052367596504,
          0.5652973704827168,
          null
         ]
        },
        {
         "line": {
          "color": "cornflowerblue",
          "width": 1.671850762441055
         },
         "mode": "lines",
         "type": "scatter",
         "x": [
          -0.5904651584892197,
          -0.9435309151372328,
          null
         ],
         "y": [
          -0.7802052367596504,
          -0.26472944599276105,
          null
         ]
        },
        {
         "line": {
          "color": "cornflowerblue",
          "width": 1.1313708498984762
         },
         "mode": "lines",
         "type": "scatter",
         "x": [
          -0.5904651584892197,
          0.08217163171922387,
          null
         ],
         "y": [
          -0.7802052367596504,
          1,
          null
         ]
        },
        {
         "line": {
          "color": "cornflowerblue",
          "width": 1.671850762441055
         },
         "mode": "lines",
         "type": "scatter",
         "x": [
          -0.04802411348147443,
          -0.8679573088972201,
          null
         ],
         "y": [
          0.2364458406429239,
          0.3952638653019296,
          null
         ]
        },
        {
         "line": {
          "color": "cornflowerblue",
          "width": 1.1313708498984762
         },
         "mode": "lines",
         "type": "scatter",
         "x": [
          -0.04802411348147443,
          0.8415454335975888,
          null
         ],
         "y": [
          0.2364458406429239,
          0.034044176030564983,
          null
         ]
        },
        {
         "line": {
          "color": "cornflowerblue",
          "width": 1.1313708498984762
         },
         "mode": "lines",
         "type": "scatter",
         "x": [
          -0.04802411348147443,
          -0.15204210405244106,
          null
         ],
         "y": [
          0.2364458406429239,
          -0.6044591479407039,
          null
         ]
        },
        {
         "line": {
          "color": "cornflowerblue",
          "width": 1.1313708498984762
         },
         "mode": "lines",
         "type": "scatter",
         "x": [
          -0.04802411348147443,
          0.8581662378975017,
          null
         ],
         "y": [
          0.2364458406429239,
          -0.4776182317369281,
          null
         ]
        },
        {
         "line": {
          "color": "cornflowerblue",
          "width": 1.671850762441055
         },
         "mode": "lines",
         "type": "scatter",
         "x": [
          -0.04802411348147443,
          -0.47753421328643975,
          null
         ],
         "y": [
          0.2364458406429239,
          0.7856239632220638,
          null
         ]
        },
        {
         "line": {
          "color": "cornflowerblue",
          "width": 1.1313708498984762
         },
         "mode": "lines",
         "type": "scatter",
         "x": [
          -0.04802411348147443,
          0.8165065010520031,
          null
         ],
         "y": [
          0.2364458406429239,
          0.5652973704827168,
          null
         ]
        },
        {
         "line": {
          "color": "cornflowerblue",
          "width": 1.1313708498984762
         },
         "mode": "lines",
         "type": "scatter",
         "x": [
          -0.04802411348147443,
          -0.9435309151372328,
          null
         ],
         "y": [
          0.2364458406429239,
          -0.26472944599276105,
          null
         ]
        },
        {
         "line": {
          "color": "cornflowerblue",
          "width": 1.1313708498984762
         },
         "mode": "lines",
         "type": "scatter",
         "x": [
          -0.04802411348147443,
          0.08217163171922387,
          null
         ],
         "y": [
          0.2364458406429239,
          1,
          null
         ]
        },
        {
         "line": {
          "color": "cornflowerblue",
          "width": 1.671850762441055
         },
         "mode": "lines",
         "type": "scatter",
         "x": [
          -0.8679573088972201,
          0.8415454335975888,
          null
         ],
         "y": [
          0.3952638653019296,
          0.034044176030564983,
          null
         ]
        },
        {
         "line": {
          "color": "cornflowerblue",
          "width": 1.671850762441055
         },
         "mode": "lines",
         "type": "scatter",
         "x": [
          -0.8679573088972201,
          -0.15204210405244106,
          null
         ],
         "y": [
          0.3952638653019296,
          -0.6044591479407039,
          null
         ]
        },
        {
         "line": {
          "color": "cornflowerblue",
          "width": 1.671850762441055
         },
         "mode": "lines",
         "type": "scatter",
         "x": [
          -0.8679573088972201,
          0.8581662378975017,
          null
         ],
         "y": [
          0.3952638653019296,
          -0.4776182317369281,
          null
         ]
        },
        {
         "line": {
          "color": "cornflowerblue",
          "width": 2.3001951752865812
         },
         "mode": "lines",
         "type": "scatter",
         "x": [
          -0.8679573088972201,
          -0.47753421328643975,
          null
         ],
         "y": [
          0.3952638653019296,
          0.7856239632220638,
          null
         ]
        },
        {
         "line": {
          "color": "cornflowerblue",
          "width": 1.671850762441055
         },
         "mode": "lines",
         "type": "scatter",
         "x": [
          -0.8679573088972201,
          0.8165065010520031,
          null
         ],
         "y": [
          0.3952638653019296,
          0.5652973704827168,
          null
         ]
        },
        {
         "line": {
          "color": "cornflowerblue",
          "width": 1.671850762441055
         },
         "mode": "lines",
         "type": "scatter",
         "x": [
          -0.8679573088972201,
          -0.9435309151372328,
          null
         ],
         "y": [
          0.3952638653019296,
          -0.26472944599276105,
          null
         ]
        },
        {
         "line": {
          "color": "cornflowerblue",
          "width": 1.1313708498984762
         },
         "mode": "lines",
         "type": "scatter",
         "x": [
          -0.8679573088972201,
          0.08217163171922387,
          null
         ],
         "y": [
          0.3952638653019296,
          1,
          null
         ]
        },
        {
         "line": {
          "color": "cornflowerblue",
          "width": 1.671850762441055
         },
         "mode": "lines",
         "type": "scatter",
         "x": [
          0.8415454335975888,
          -0.15204210405244106,
          null
         ],
         "y": [
          0.034044176030564983,
          -0.6044591479407039,
          null
         ]
        },
        {
         "line": {
          "color": "cornflowerblue",
          "width": 1.671850762441055
         },
         "mode": "lines",
         "type": "scatter",
         "x": [
          0.8415454335975888,
          0.8581662378975017,
          null
         ],
         "y": [
          0.034044176030564983,
          -0.4776182317369281,
          null
         ]
        },
        {
         "line": {
          "color": "cornflowerblue",
          "width": 1.671850762441055
         },
         "mode": "lines",
         "type": "scatter",
         "x": [
          0.8415454335975888,
          -0.47753421328643975,
          null
         ],
         "y": [
          0.034044176030564983,
          0.7856239632220638,
          null
         ]
        },
        {
         "line": {
          "color": "cornflowerblue",
          "width": 1.1313708498984762
         },
         "mode": "lines",
         "type": "scatter",
         "x": [
          0.8415454335975888,
          0.8165065010520031,
          null
         ],
         "y": [
          0.034044176030564983,
          0.5652973704827168,
          null
         ]
        },
        {
         "line": {
          "color": "cornflowerblue",
          "width": 1.1313708498984762
         },
         "mode": "lines",
         "type": "scatter",
         "x": [
          0.8415454335975888,
          -0.9435309151372328,
          null
         ],
         "y": [
          0.034044176030564983,
          -0.26472944599276105,
          null
         ]
        },
        {
         "line": {
          "color": "cornflowerblue",
          "width": 1.1313708498984762
         },
         "mode": "lines",
         "type": "scatter",
         "x": [
          0.8415454335975888,
          0.08217163171922387,
          null
         ],
         "y": [
          0.034044176030564983,
          1,
          null
         ]
        },
        {
         "line": {
          "color": "cornflowerblue",
          "width": 1.671850762441055
         },
         "mode": "lines",
         "type": "scatter",
         "x": [
          -0.15204210405244106,
          0.8581662378975017,
          null
         ],
         "y": [
          -0.6044591479407039,
          -0.4776182317369281,
          null
         ]
        },
        {
         "line": {
          "color": "cornflowerblue",
          "width": 1.671850762441055
         },
         "mode": "lines",
         "type": "scatter",
         "x": [
          -0.15204210405244106,
          -0.47753421328643975,
          null
         ],
         "y": [
          -0.6044591479407039,
          0.7856239632220638,
          null
         ]
        },
        {
         "line": {
          "color": "cornflowerblue",
          "width": 1.1313708498984762
         },
         "mode": "lines",
         "type": "scatter",
         "x": [
          -0.15204210405244106,
          0.8165065010520031,
          null
         ],
         "y": [
          -0.6044591479407039,
          0.5652973704827168,
          null
         ]
        },
        {
         "line": {
          "color": "cornflowerblue",
          "width": 1.1313708498984762
         },
         "mode": "lines",
         "type": "scatter",
         "x": [
          -0.15204210405244106,
          -0.9435309151372328,
          null
         ],
         "y": [
          -0.6044591479407039,
          -0.26472944599276105,
          null
         ]
        },
        {
         "line": {
          "color": "cornflowerblue",
          "width": 1.1313708498984762
         },
         "mode": "lines",
         "type": "scatter",
         "x": [
          -0.15204210405244106,
          0.08217163171922387,
          null
         ],
         "y": [
          -0.6044591479407039,
          1,
          null
         ]
        },
        {
         "line": {
          "color": "cornflowerblue",
          "width": 1.671850762441055
         },
         "mode": "lines",
         "type": "scatter",
         "x": [
          0.8581662378975017,
          -0.47753421328643975,
          null
         ],
         "y": [
          -0.4776182317369281,
          0.7856239632220638,
          null
         ]
        },
        {
         "line": {
          "color": "cornflowerblue",
          "width": 1.1313708498984762
         },
         "mode": "lines",
         "type": "scatter",
         "x": [
          0.8581662378975017,
          0.8165065010520031,
          null
         ],
         "y": [
          -0.4776182317369281,
          0.5652973704827168,
          null
         ]
        },
        {
         "line": {
          "color": "cornflowerblue",
          "width": 1.1313708498984762
         },
         "mode": "lines",
         "type": "scatter",
         "x": [
          0.8581662378975017,
          -0.9435309151372328,
          null
         ],
         "y": [
          -0.4776182317369281,
          -0.26472944599276105,
          null
         ]
        },
        {
         "line": {
          "color": "cornflowerblue",
          "width": 1.1313708498984762
         },
         "mode": "lines",
         "type": "scatter",
         "x": [
          0.8581662378975017,
          0.08217163171922387,
          null
         ],
         "y": [
          -0.4776182317369281,
          1,
          null
         ]
        },
        {
         "line": {
          "color": "cornflowerblue",
          "width": 1.671850762441055
         },
         "mode": "lines",
         "type": "scatter",
         "x": [
          -0.47753421328643975,
          0.8165065010520031,
          null
         ],
         "y": [
          0.7856239632220638,
          0.5652973704827168,
          null
         ]
        },
        {
         "line": {
          "color": "cornflowerblue",
          "width": 1.671850762441055
         },
         "mode": "lines",
         "type": "scatter",
         "x": [
          -0.47753421328643975,
          -0.9435309151372328,
          null
         ],
         "y": [
          0.7856239632220638,
          -0.26472944599276105,
          null
         ]
        },
        {
         "line": {
          "color": "cornflowerblue",
          "width": 1.1313708498984762
         },
         "mode": "lines",
         "type": "scatter",
         "x": [
          -0.47753421328643975,
          0.08217163171922387,
          null
         ],
         "y": [
          0.7856239632220638,
          1,
          null
         ]
        },
        {
         "line": {
          "color": "cornflowerblue",
          "width": 1.671850762441055
         },
         "mode": "lines",
         "type": "scatter",
         "x": [
          0.8165065010520031,
          -0.9435309151372328,
          null
         ],
         "y": [
          0.5652973704827168,
          -0.26472944599276105,
          null
         ]
        },
        {
         "line": {
          "color": "cornflowerblue",
          "width": 1.1313708498984762
         },
         "mode": "lines",
         "type": "scatter",
         "x": [
          0.8165065010520031,
          0.08217163171922387,
          null
         ],
         "y": [
          0.5652973704827168,
          1,
          null
         ]
        },
        {
         "line": {
          "color": "cornflowerblue",
          "width": 1.1313708498984762
         },
         "mode": "lines",
         "type": "scatter",
         "x": [
          -0.9435309151372328,
          0.08217163171922387,
          null
         ],
         "y": [
          -0.26472944599276105,
          1,
          null
         ]
        },
        {
         "hoverinfo": "none",
         "marker": {
          "color": [
           "cornflowerblue",
           "cornflowerblue",
           "cornflowerblue",
           "cornflowerblue",
           "cornflowerblue",
           "cornflowerblue",
           "cornflowerblue",
           "cornflowerblue",
           "cornflowerblue",
           "cornflowerblue",
           "cornflowerblue",
           "cornflowerblue",
           "cornflowerblue",
           "cornflowerblue"
          ],
          "size": [
           7,
           7,
           7,
           7.800000000000001,
           7.800000000000001,
           7.800000000000001,
           7.800000000000001,
           7,
           7,
           7,
           7.800000000000001,
           7,
           7,
           7
          ]
         },
         "mode": "markers+text",
         "text": [
          "<b>Corona-Krise</b>",
          "<b>Coronavirus-Pandemie</b>",
          "<b>New York</b>",
          "<b>Coronavirus</b>",
          "<b>Europa</b>",
          "<b>USA</b>",
          "<b>Deutschland</b>",
          "<b>US-Präsident</b>",
          "<b>Corona-Pandemie</b>",
          "<b>Donald Trump</b>",
          "<b>RKI</b>",
          "<b>Frankreich</b>",
          "<b>Spanien</b>",
          "<b>Trump</b>"
         ],
         "textfont": {
          "size": 9
         },
         "textposition": "top center",
         "type": "scatter",
         "x": [
          0.3663058868394895,
          0.24236529176655303,
          0.3643066028462397,
          -0.49181377237457746,
          -0.5904651584892197,
          -0.04802411348147443,
          -0.8679573088972201,
          0.8415454335975888,
          -0.15204210405244106,
          0.8581662378975017,
          -0.47753421328643975,
          0.8165065010520031,
          -0.9435309151372328,
          0.08217163171922387
         ],
         "y": [
          -0.43076284149679833,
          -0.975404980117376,
          0.5543045898129471,
          -0.03779992144892535,
          -0.7802052367596504,
          0.2364458406429239,
          0.3952638653019296,
          0.034044176030564983,
          -0.6044591479407039,
          -0.4776182317369281,
          0.7856239632220638,
          0.5652973704827168,
          -0.26472944599276105,
          1
         ]
        }
       ],
       "layout": {
        "paper_bgcolor": "rgba(0,0,0,0)",
        "plot_bgcolor": "rgba(0,0,0,0)",
        "showlegend": false,
        "template": {
         "data": {
          "bar": [
           {
            "error_x": {
             "color": "#2a3f5f"
            },
            "error_y": {
             "color": "#2a3f5f"
            },
            "marker": {
             "line": {
              "color": "#E5ECF6",
              "width": 0.5
             }
            },
            "type": "bar"
           }
          ],
          "barpolar": [
           {
            "marker": {
             "line": {
              "color": "#E5ECF6",
              "width": 0.5
             }
            },
            "type": "barpolar"
           }
          ],
          "carpet": [
           {
            "aaxis": {
             "endlinecolor": "#2a3f5f",
             "gridcolor": "white",
             "linecolor": "white",
             "minorgridcolor": "white",
             "startlinecolor": "#2a3f5f"
            },
            "baxis": {
             "endlinecolor": "#2a3f5f",
             "gridcolor": "white",
             "linecolor": "white",
             "minorgridcolor": "white",
             "startlinecolor": "#2a3f5f"
            },
            "type": "carpet"
           }
          ],
          "choropleth": [
           {
            "colorbar": {
             "outlinewidth": 0,
             "ticks": ""
            },
            "type": "choropleth"
           }
          ],
          "contour": [
           {
            "colorbar": {
             "outlinewidth": 0,
             "ticks": ""
            },
            "colorscale": [
             [
              0,
              "#0d0887"
             ],
             [
              0.1111111111111111,
              "#46039f"
             ],
             [
              0.2222222222222222,
              "#7201a8"
             ],
             [
              0.3333333333333333,
              "#9c179e"
             ],
             [
              0.4444444444444444,
              "#bd3786"
             ],
             [
              0.5555555555555556,
              "#d8576b"
             ],
             [
              0.6666666666666666,
              "#ed7953"
             ],
             [
              0.7777777777777778,
              "#fb9f3a"
             ],
             [
              0.8888888888888888,
              "#fdca26"
             ],
             [
              1,
              "#f0f921"
             ]
            ],
            "type": "contour"
           }
          ],
          "contourcarpet": [
           {
            "colorbar": {
             "outlinewidth": 0,
             "ticks": ""
            },
            "type": "contourcarpet"
           }
          ],
          "heatmap": [
           {
            "colorbar": {
             "outlinewidth": 0,
             "ticks": ""
            },
            "colorscale": [
             [
              0,
              "#0d0887"
             ],
             [
              0.1111111111111111,
              "#46039f"
             ],
             [
              0.2222222222222222,
              "#7201a8"
             ],
             [
              0.3333333333333333,
              "#9c179e"
             ],
             [
              0.4444444444444444,
              "#bd3786"
             ],
             [
              0.5555555555555556,
              "#d8576b"
             ],
             [
              0.6666666666666666,
              "#ed7953"
             ],
             [
              0.7777777777777778,
              "#fb9f3a"
             ],
             [
              0.8888888888888888,
              "#fdca26"
             ],
             [
              1,
              "#f0f921"
             ]
            ],
            "type": "heatmap"
           }
          ],
          "heatmapgl": [
           {
            "colorbar": {
             "outlinewidth": 0,
             "ticks": ""
            },
            "colorscale": [
             [
              0,
              "#0d0887"
             ],
             [
              0.1111111111111111,
              "#46039f"
             ],
             [
              0.2222222222222222,
              "#7201a8"
             ],
             [
              0.3333333333333333,
              "#9c179e"
             ],
             [
              0.4444444444444444,
              "#bd3786"
             ],
             [
              0.5555555555555556,
              "#d8576b"
             ],
             [
              0.6666666666666666,
              "#ed7953"
             ],
             [
              0.7777777777777778,
              "#fb9f3a"
             ],
             [
              0.8888888888888888,
              "#fdca26"
             ],
             [
              1,
              "#f0f921"
             ]
            ],
            "type": "heatmapgl"
           }
          ],
          "histogram": [
           {
            "marker": {
             "colorbar": {
              "outlinewidth": 0,
              "ticks": ""
             }
            },
            "type": "histogram"
           }
          ],
          "histogram2d": [
           {
            "colorbar": {
             "outlinewidth": 0,
             "ticks": ""
            },
            "colorscale": [
             [
              0,
              "#0d0887"
             ],
             [
              0.1111111111111111,
              "#46039f"
             ],
             [
              0.2222222222222222,
              "#7201a8"
             ],
             [
              0.3333333333333333,
              "#9c179e"
             ],
             [
              0.4444444444444444,
              "#bd3786"
             ],
             [
              0.5555555555555556,
              "#d8576b"
             ],
             [
              0.6666666666666666,
              "#ed7953"
             ],
             [
              0.7777777777777778,
              "#fb9f3a"
             ],
             [
              0.8888888888888888,
              "#fdca26"
             ],
             [
              1,
              "#f0f921"
             ]
            ],
            "type": "histogram2d"
           }
          ],
          "histogram2dcontour": [
           {
            "colorbar": {
             "outlinewidth": 0,
             "ticks": ""
            },
            "colorscale": [
             [
              0,
              "#0d0887"
             ],
             [
              0.1111111111111111,
              "#46039f"
             ],
             [
              0.2222222222222222,
              "#7201a8"
             ],
             [
              0.3333333333333333,
              "#9c179e"
             ],
             [
              0.4444444444444444,
              "#bd3786"
             ],
             [
              0.5555555555555556,
              "#d8576b"
             ],
             [
              0.6666666666666666,
              "#ed7953"
             ],
             [
              0.7777777777777778,
              "#fb9f3a"
             ],
             [
              0.8888888888888888,
              "#fdca26"
             ],
             [
              1,
              "#f0f921"
             ]
            ],
            "type": "histogram2dcontour"
           }
          ],
          "mesh3d": [
           {
            "colorbar": {
             "outlinewidth": 0,
             "ticks": ""
            },
            "type": "mesh3d"
           }
          ],
          "parcoords": [
           {
            "line": {
             "colorbar": {
              "outlinewidth": 0,
              "ticks": ""
             }
            },
            "type": "parcoords"
           }
          ],
          "pie": [
           {
            "automargin": true,
            "type": "pie"
           }
          ],
          "scatter": [
           {
            "marker": {
             "colorbar": {
              "outlinewidth": 0,
              "ticks": ""
             }
            },
            "type": "scatter"
           }
          ],
          "scatter3d": [
           {
            "line": {
             "colorbar": {
              "outlinewidth": 0,
              "ticks": ""
             }
            },
            "marker": {
             "colorbar": {
              "outlinewidth": 0,
              "ticks": ""
             }
            },
            "type": "scatter3d"
           }
          ],
          "scattercarpet": [
           {
            "marker": {
             "colorbar": {
              "outlinewidth": 0,
              "ticks": ""
             }
            },
            "type": "scattercarpet"
           }
          ],
          "scattergeo": [
           {
            "marker": {
             "colorbar": {
              "outlinewidth": 0,
              "ticks": ""
             }
            },
            "type": "scattergeo"
           }
          ],
          "scattergl": [
           {
            "marker": {
             "colorbar": {
              "outlinewidth": 0,
              "ticks": ""
             }
            },
            "type": "scattergl"
           }
          ],
          "scattermapbox": [
           {
            "marker": {
             "colorbar": {
              "outlinewidth": 0,
              "ticks": ""
             }
            },
            "type": "scattermapbox"
           }
          ],
          "scatterpolar": [
           {
            "marker": {
             "colorbar": {
              "outlinewidth": 0,
              "ticks": ""
             }
            },
            "type": "scatterpolar"
           }
          ],
          "scatterpolargl": [
           {
            "marker": {
             "colorbar": {
              "outlinewidth": 0,
              "ticks": ""
             }
            },
            "type": "scatterpolargl"
           }
          ],
          "scatterternary": [
           {
            "marker": {
             "colorbar": {
              "outlinewidth": 0,
              "ticks": ""
             }
            },
            "type": "scatterternary"
           }
          ],
          "surface": [
           {
            "colorbar": {
             "outlinewidth": 0,
             "ticks": ""
            },
            "colorscale": [
             [
              0,
              "#0d0887"
             ],
             [
              0.1111111111111111,
              "#46039f"
             ],
             [
              0.2222222222222222,
              "#7201a8"
             ],
             [
              0.3333333333333333,
              "#9c179e"
             ],
             [
              0.4444444444444444,
              "#bd3786"
             ],
             [
              0.5555555555555556,
              "#d8576b"
             ],
             [
              0.6666666666666666,
              "#ed7953"
             ],
             [
              0.7777777777777778,
              "#fb9f3a"
             ],
             [
              0.8888888888888888,
              "#fdca26"
             ],
             [
              1,
              "#f0f921"
             ]
            ],
            "type": "surface"
           }
          ],
          "table": [
           {
            "cells": {
             "fill": {
              "color": "#EBF0F8"
             },
             "line": {
              "color": "white"
             }
            },
            "header": {
             "fill": {
              "color": "#C8D4E3"
             },
             "line": {
              "color": "white"
             }
            },
            "type": "table"
           }
          ]
         },
         "layout": {
          "annotationdefaults": {
           "arrowcolor": "#2a3f5f",
           "arrowhead": 0,
           "arrowwidth": 1
          },
          "coloraxis": {
           "colorbar": {
            "outlinewidth": 0,
            "ticks": ""
           }
          },
          "colorscale": {
           "diverging": [
            [
             0,
             "#8e0152"
            ],
            [
             0.1,
             "#c51b7d"
            ],
            [
             0.2,
             "#de77ae"
            ],
            [
             0.3,
             "#f1b6da"
            ],
            [
             0.4,
             "#fde0ef"
            ],
            [
             0.5,
             "#f7f7f7"
            ],
            [
             0.6,
             "#e6f5d0"
            ],
            [
             0.7,
             "#b8e186"
            ],
            [
             0.8,
             "#7fbc41"
            ],
            [
             0.9,
             "#4d9221"
            ],
            [
             1,
             "#276419"
            ]
           ],
           "sequential": [
            [
             0,
             "#0d0887"
            ],
            [
             0.1111111111111111,
             "#46039f"
            ],
            [
             0.2222222222222222,
             "#7201a8"
            ],
            [
             0.3333333333333333,
             "#9c179e"
            ],
            [
             0.4444444444444444,
             "#bd3786"
            ],
            [
             0.5555555555555556,
             "#d8576b"
            ],
            [
             0.6666666666666666,
             "#ed7953"
            ],
            [
             0.7777777777777778,
             "#fb9f3a"
            ],
            [
             0.8888888888888888,
             "#fdca26"
            ],
            [
             1,
             "#f0f921"
            ]
           ],
           "sequentialminus": [
            [
             0,
             "#0d0887"
            ],
            [
             0.1111111111111111,
             "#46039f"
            ],
            [
             0.2222222222222222,
             "#7201a8"
            ],
            [
             0.3333333333333333,
             "#9c179e"
            ],
            [
             0.4444444444444444,
             "#bd3786"
            ],
            [
             0.5555555555555556,
             "#d8576b"
            ],
            [
             0.6666666666666666,
             "#ed7953"
            ],
            [
             0.7777777777777778,
             "#fb9f3a"
            ],
            [
             0.8888888888888888,
             "#fdca26"
            ],
            [
             1,
             "#f0f921"
            ]
           ]
          },
          "colorway": [
           "#636efa",
           "#EF553B",
           "#00cc96",
           "#ab63fa",
           "#FFA15A",
           "#19d3f3",
           "#FF6692",
           "#B6E880",
           "#FF97FF",
           "#FECB52"
          ],
          "font": {
           "color": "#2a3f5f"
          },
          "geo": {
           "bgcolor": "white",
           "lakecolor": "white",
           "landcolor": "#E5ECF6",
           "showlakes": true,
           "showland": true,
           "subunitcolor": "white"
          },
          "hoverlabel": {
           "align": "left"
          },
          "hovermode": "closest",
          "mapbox": {
           "style": "light"
          },
          "paper_bgcolor": "white",
          "plot_bgcolor": "#E5ECF6",
          "polar": {
           "angularaxis": {
            "gridcolor": "white",
            "linecolor": "white",
            "ticks": ""
           },
           "bgcolor": "#E5ECF6",
           "radialaxis": {
            "gridcolor": "white",
            "linecolor": "white",
            "ticks": ""
           }
          },
          "scene": {
           "xaxis": {
            "backgroundcolor": "#E5ECF6",
            "gridcolor": "white",
            "gridwidth": 2,
            "linecolor": "white",
            "showbackground": true,
            "ticks": "",
            "zerolinecolor": "white"
           },
           "yaxis": {
            "backgroundcolor": "#E5ECF6",
            "gridcolor": "white",
            "gridwidth": 2,
            "linecolor": "white",
            "showbackground": true,
            "ticks": "",
            "zerolinecolor": "white"
           },
           "zaxis": {
            "backgroundcolor": "#E5ECF6",
            "gridcolor": "white",
            "gridwidth": 2,
            "linecolor": "white",
            "showbackground": true,
            "ticks": "",
            "zerolinecolor": "white"
           }
          },
          "shapedefaults": {
           "line": {
            "color": "#2a3f5f"
           }
          },
          "ternary": {
           "aaxis": {
            "gridcolor": "white",
            "linecolor": "white",
            "ticks": ""
           },
           "baxis": {
            "gridcolor": "white",
            "linecolor": "white",
            "ticks": ""
           },
           "bgcolor": "#E5ECF6",
           "caxis": {
            "gridcolor": "white",
            "linecolor": "white",
            "ticks": ""
           }
          },
          "title": {
           "x": 0.05
          },
          "xaxis": {
           "automargin": true,
           "gridcolor": "white",
           "linecolor": "white",
           "ticks": "",
           "title": {
            "standoff": 15
           },
           "zerolinecolor": "white",
           "zerolinewidth": 2
          },
          "yaxis": {
           "automargin": true,
           "gridcolor": "white",
           "linecolor": "white",
           "ticks": "",
           "title": {
            "standoff": 15
           },
           "zerolinecolor": "white",
           "zerolinewidth": 2
          }
         }
        },
        "xaxis": {
         "showgrid": false,
         "showticklabels": false,
         "zeroline": false
        },
        "yaxis": {
         "showgrid": false,
         "showticklabels": false,
         "zeroline": false
        }
       }
      },
      "text/html": [
       "<div>                            <div id=\"eb15cec9-a0f2-455f-bce2-ef70976f1a4d\" class=\"plotly-graph-div\" style=\"height:525px; width:100%;\"></div>            <script type=\"text/javascript\">                require([\"plotly\"], function(Plotly) {                    window.PLOTLYENV=window.PLOTLYENV || {};                                    if (document.getElementById(\"eb15cec9-a0f2-455f-bce2-ef70976f1a4d\")) {                    Plotly.newPlot(                        \"eb15cec9-a0f2-455f-bce2-ef70976f1a4d\",                        [{\"line\": {\"color\": \"cornflowerblue\", \"width\": 1.671850762441055}, \"mode\": \"lines\", \"type\": \"scatter\", \"x\": [0.3663058868394895, 0.24236529176655303, null], \"y\": [-0.43076284149679833, -0.975404980117376, null]}, {\"line\": {\"color\": \"cornflowerblue\", \"width\": 1.671850762441055}, \"mode\": \"lines\", \"type\": \"scatter\", \"x\": [0.3663058868394895, 0.3643066028462397, null], \"y\": [-0.43076284149679833, 0.5543045898129471, null]}, {\"line\": {\"color\": \"cornflowerblue\", \"width\": 1.671850762441055}, \"mode\": \"lines\", \"type\": \"scatter\", \"x\": [0.3663058868394895, -0.49181377237457746, null], \"y\": [-0.43076284149679833, -0.03779992144892535, null]}, {\"line\": {\"color\": \"cornflowerblue\", \"width\": 1.671850762441055}, \"mode\": \"lines\", \"type\": \"scatter\", \"x\": [0.3663058868394895, -0.5904651584892197, null], \"y\": [-0.43076284149679833, -0.7802052367596504, null]}, {\"line\": {\"color\": \"cornflowerblue\", \"width\": 1.1313708498984762}, \"mode\": \"lines\", \"type\": \"scatter\", \"x\": [0.3663058868394895, -0.04802411348147443, null], \"y\": [-0.43076284149679833, 0.2364458406429239, null]}, {\"line\": {\"color\": \"cornflowerblue\", \"width\": 1.671850762441055}, \"mode\": \"lines\", \"type\": \"scatter\", \"x\": [0.3663058868394895, -0.8679573088972201, null], \"y\": [-0.43076284149679833, 0.3952638653019296, null]}, {\"line\": {\"color\": \"cornflowerblue\", \"width\": 1.671850762441055}, \"mode\": \"lines\", \"type\": \"scatter\", \"x\": [0.3663058868394895, 0.8415454335975888, null], \"y\": [-0.43076284149679833, 0.034044176030564983, null]}, {\"line\": {\"color\": \"cornflowerblue\", \"width\": 1.671850762441055}, \"mode\": \"lines\", \"type\": \"scatter\", \"x\": [0.3663058868394895, -0.15204210405244106, null], \"y\": [-0.43076284149679833, -0.6044591479407039, null]}, {\"line\": {\"color\": \"cornflowerblue\", \"width\": 1.671850762441055}, \"mode\": \"lines\", \"type\": \"scatter\", \"x\": [0.3663058868394895, 0.8581662378975017, null], \"y\": [-0.43076284149679833, -0.4776182317369281, null]}, {\"line\": {\"color\": \"cornflowerblue\", \"width\": 1.671850762441055}, \"mode\": \"lines\", \"type\": \"scatter\", \"x\": [0.3663058868394895, -0.47753421328643975, null], \"y\": [-0.43076284149679833, 0.7856239632220638, null]}, {\"line\": {\"color\": \"cornflowerblue\", \"width\": 1.1313708498984762}, \"mode\": \"lines\", \"type\": \"scatter\", \"x\": [0.3663058868394895, 0.8165065010520031, null], \"y\": [-0.43076284149679833, 0.5652973704827168, null]}, {\"line\": {\"color\": \"cornflowerblue\", \"width\": 1.1313708498984762}, \"mode\": \"lines\", \"type\": \"scatter\", \"x\": [0.3663058868394895, -0.9435309151372328, null], \"y\": [-0.43076284149679833, -0.26472944599276105, null]}, {\"line\": {\"color\": \"cornflowerblue\", \"width\": 1.1313708498984762}, \"mode\": \"lines\", \"type\": \"scatter\", \"x\": [0.3663058868394895, 0.08217163171922387, null], \"y\": [-0.43076284149679833, 1.0, null]}, {\"line\": {\"color\": \"cornflowerblue\", \"width\": 1.671850762441055}, \"mode\": \"lines\", \"type\": \"scatter\", \"x\": [0.24236529176655303, 0.3643066028462397, null], \"y\": [-0.975404980117376, 0.5543045898129471, null]}, {\"line\": {\"color\": \"cornflowerblue\", \"width\": 1.671850762441055}, \"mode\": \"lines\", \"type\": \"scatter\", \"x\": [0.24236529176655303, -0.49181377237457746, null], \"y\": [-0.975404980117376, -0.03779992144892535, null]}, {\"line\": {\"color\": \"cornflowerblue\", \"width\": 1.671850762441055}, \"mode\": \"lines\", \"type\": \"scatter\", \"x\": [0.24236529176655303, -0.5904651584892197, null], \"y\": [-0.975404980117376, -0.7802052367596504, null]}, {\"line\": {\"color\": \"cornflowerblue\", \"width\": 1.1313708498984762}, \"mode\": \"lines\", \"type\": \"scatter\", \"x\": [0.24236529176655303, -0.04802411348147443, null], \"y\": [-0.975404980117376, 0.2364458406429239, null]}, {\"line\": {\"color\": \"cornflowerblue\", \"width\": 1.671850762441055}, \"mode\": \"lines\", \"type\": \"scatter\", \"x\": [0.24236529176655303, -0.8679573088972201, null], \"y\": [-0.975404980117376, 0.3952638653019296, null]}, {\"line\": {\"color\": \"cornflowerblue\", \"width\": 1.671850762441055}, \"mode\": \"lines\", \"type\": \"scatter\", \"x\": [0.24236529176655303, 0.8415454335975888, null], \"y\": [-0.975404980117376, 0.034044176030564983, null]}, {\"line\": {\"color\": \"cornflowerblue\", \"width\": 1.671850762441055}, \"mode\": \"lines\", \"type\": \"scatter\", \"x\": [0.24236529176655303, -0.15204210405244106, null], \"y\": [-0.975404980117376, -0.6044591479407039, null]}, {\"line\": {\"color\": \"cornflowerblue\", \"width\": 1.671850762441055}, \"mode\": \"lines\", \"type\": \"scatter\", \"x\": [0.24236529176655303, 0.8581662378975017, null], \"y\": [-0.975404980117376, -0.4776182317369281, null]}, {\"line\": {\"color\": \"cornflowerblue\", \"width\": 1.671850762441055}, \"mode\": \"lines\", \"type\": \"scatter\", \"x\": [0.24236529176655303, -0.47753421328643975, null], \"y\": [-0.975404980117376, 0.7856239632220638, null]}, {\"line\": {\"color\": \"cornflowerblue\", \"width\": 1.1313708498984762}, \"mode\": \"lines\", \"type\": \"scatter\", \"x\": [0.24236529176655303, 0.8165065010520031, null], \"y\": [-0.975404980117376, 0.5652973704827168, null]}, {\"line\": {\"color\": \"cornflowerblue\", \"width\": 1.1313708498984762}, \"mode\": \"lines\", \"type\": \"scatter\", \"x\": [0.24236529176655303, -0.9435309151372328, null], \"y\": [-0.975404980117376, -0.26472944599276105, null]}, {\"line\": {\"color\": \"cornflowerblue\", \"width\": 1.1313708498984762}, \"mode\": \"lines\", \"type\": \"scatter\", \"x\": [0.24236529176655303, 0.08217163171922387, null], \"y\": [-0.975404980117376, 1.0, null]}, {\"line\": {\"color\": \"cornflowerblue\", \"width\": 1.671850762441055}, \"mode\": \"lines\", \"type\": \"scatter\", \"x\": [0.3643066028462397, -0.49181377237457746, null], \"y\": [0.5543045898129471, -0.03779992144892535, null]}, {\"line\": {\"color\": \"cornflowerblue\", \"width\": 1.671850762441055}, \"mode\": \"lines\", \"type\": \"scatter\", \"x\": [0.3643066028462397, -0.5904651584892197, null], \"y\": [0.5543045898129471, -0.7802052367596504, null]}, {\"line\": {\"color\": \"cornflowerblue\", \"width\": 1.1313708498984762}, \"mode\": \"lines\", \"type\": \"scatter\", \"x\": [0.3643066028462397, -0.04802411348147443, null], \"y\": [0.5543045898129471, 0.2364458406429239, null]}, {\"line\": {\"color\": \"cornflowerblue\", \"width\": 1.671850762441055}, \"mode\": \"lines\", \"type\": \"scatter\", \"x\": [0.3643066028462397, -0.8679573088972201, null], \"y\": [0.5543045898129471, 0.3952638653019296, null]}, {\"line\": {\"color\": \"cornflowerblue\", \"width\": 1.671850762441055}, \"mode\": \"lines\", \"type\": \"scatter\", \"x\": [0.3643066028462397, 0.8415454335975888, null], \"y\": [0.5543045898129471, 0.034044176030564983, null]}, {\"line\": {\"color\": \"cornflowerblue\", \"width\": 1.671850762441055}, \"mode\": \"lines\", \"type\": \"scatter\", \"x\": [0.3643066028462397, -0.15204210405244106, null], \"y\": [0.5543045898129471, -0.6044591479407039, null]}, {\"line\": {\"color\": \"cornflowerblue\", \"width\": 1.671850762441055}, \"mode\": \"lines\", \"type\": \"scatter\", \"x\": [0.3643066028462397, 0.8581662378975017, null], \"y\": [0.5543045898129471, -0.4776182317369281, null]}, {\"line\": {\"color\": \"cornflowerblue\", \"width\": 1.671850762441055}, \"mode\": \"lines\", \"type\": \"scatter\", \"x\": [0.3643066028462397, -0.47753421328643975, null], \"y\": [0.5543045898129471, 0.7856239632220638, null]}, {\"line\": {\"color\": \"cornflowerblue\", \"width\": 1.1313708498984762}, \"mode\": \"lines\", \"type\": \"scatter\", \"x\": [0.3643066028462397, 0.8165065010520031, null], \"y\": [0.5543045898129471, 0.5652973704827168, null]}, {\"line\": {\"color\": \"cornflowerblue\", \"width\": 1.1313708498984762}, \"mode\": \"lines\", \"type\": \"scatter\", \"x\": [0.3643066028462397, -0.9435309151372328, null], \"y\": [0.5543045898129471, -0.26472944599276105, null]}, {\"line\": {\"color\": \"cornflowerblue\", \"width\": 1.1313708498984762}, \"mode\": \"lines\", \"type\": \"scatter\", \"x\": [0.3643066028462397, 0.08217163171922387, null], \"y\": [0.5543045898129471, 1.0, null]}, {\"line\": {\"color\": \"cornflowerblue\", \"width\": 2.3001951752865812}, \"mode\": \"lines\", \"type\": \"scatter\", \"x\": [-0.49181377237457746, -0.5904651584892197, null], \"y\": [-0.03779992144892535, -0.7802052367596504, null]}, {\"line\": {\"color\": \"cornflowerblue\", \"width\": 1.671850762441055}, \"mode\": \"lines\", \"type\": \"scatter\", \"x\": [-0.49181377237457746, -0.04802411348147443, null], \"y\": [-0.03779992144892535, 0.2364458406429239, null]}, {\"line\": {\"color\": \"cornflowerblue\", \"width\": 2.3001951752865812}, \"mode\": \"lines\", \"type\": \"scatter\", \"x\": [-0.49181377237457746, -0.8679573088972201, null], \"y\": [-0.03779992144892535, 0.3952638653019296, null]}, {\"line\": {\"color\": \"cornflowerblue\", \"width\": 1.671850762441055}, \"mode\": \"lines\", \"type\": \"scatter\", \"x\": [-0.49181377237457746, 0.8415454335975888, null], \"y\": [-0.03779992144892535, 0.034044176030564983, null]}, {\"line\": {\"color\": \"cornflowerblue\", \"width\": 1.671850762441055}, \"mode\": \"lines\", \"type\": \"scatter\", \"x\": [-0.49181377237457746, -0.15204210405244106, null], \"y\": [-0.03779992144892535, -0.6044591479407039, null]}, {\"line\": {\"color\": \"cornflowerblue\", \"width\": 1.671850762441055}, \"mode\": \"lines\", \"type\": \"scatter\", \"x\": [-0.49181377237457746, 0.8581662378975017, null], \"y\": [-0.03779992144892535, -0.4776182317369281, null]}, {\"line\": {\"color\": \"cornflowerblue\", \"width\": 2.3001951752865812}, \"mode\": \"lines\", \"type\": \"scatter\", \"x\": [-0.49181377237457746, -0.47753421328643975, null], \"y\": [-0.03779992144892535, 0.7856239632220638, null]}, {\"line\": {\"color\": \"cornflowerblue\", \"width\": 1.671850762441055}, \"mode\": \"lines\", \"type\": \"scatter\", \"x\": [-0.49181377237457746, 0.8165065010520031, null], \"y\": [-0.03779992144892535, 0.5652973704827168, null]}, {\"line\": {\"color\": \"cornflowerblue\", \"width\": 1.671850762441055}, \"mode\": \"lines\", \"type\": \"scatter\", \"x\": [-0.49181377237457746, -0.9435309151372328, null], \"y\": [-0.03779992144892535, -0.26472944599276105, null]}, {\"line\": {\"color\": \"cornflowerblue\", \"width\": 1.1313708498984762}, \"mode\": \"lines\", \"type\": \"scatter\", \"x\": [-0.49181377237457746, 0.08217163171922387, null], \"y\": [-0.03779992144892535, 1.0, null]}, {\"line\": {\"color\": \"cornflowerblue\", \"width\": 1.671850762441055}, \"mode\": \"lines\", \"type\": \"scatter\", \"x\": [-0.5904651584892197, -0.04802411348147443, null], \"y\": [-0.7802052367596504, 0.2364458406429239, null]}, {\"line\": {\"color\": \"cornflowerblue\", \"width\": 2.3001951752865812}, \"mode\": \"lines\", \"type\": \"scatter\", \"x\": [-0.5904651584892197, -0.8679573088972201, null], \"y\": [-0.7802052367596504, 0.3952638653019296, null]}, {\"line\": {\"color\": \"cornflowerblue\", \"width\": 1.671850762441055}, \"mode\": \"lines\", \"type\": \"scatter\", \"x\": [-0.5904651584892197, 0.8415454335975888, null], \"y\": [-0.7802052367596504, 0.034044176030564983, null]}, {\"line\": {\"color\": \"cornflowerblue\", \"width\": 1.671850762441055}, \"mode\": \"lines\", \"type\": \"scatter\", \"x\": [-0.5904651584892197, -0.15204210405244106, null], \"y\": [-0.7802052367596504, -0.6044591479407039, null]}, {\"line\": {\"color\": \"cornflowerblue\", \"width\": 1.671850762441055}, \"mode\": \"lines\", \"type\": \"scatter\", \"x\": [-0.5904651584892197, 0.8581662378975017, null], \"y\": [-0.7802052367596504, -0.4776182317369281, null]}, {\"line\": {\"color\": \"cornflowerblue\", \"width\": 2.3001951752865812}, \"mode\": \"lines\", \"type\": \"scatter\", \"x\": [-0.5904651584892197, -0.47753421328643975, null], \"y\": [-0.7802052367596504, 0.7856239632220638, null]}, {\"line\": {\"color\": \"cornflowerblue\", \"width\": 1.671850762441055}, \"mode\": \"lines\", \"type\": \"scatter\", \"x\": [-0.5904651584892197, 0.8165065010520031, null], \"y\": [-0.7802052367596504, 0.5652973704827168, null]}, {\"line\": {\"color\": \"cornflowerblue\", \"width\": 1.671850762441055}, \"mode\": \"lines\", \"type\": \"scatter\", \"x\": [-0.5904651584892197, -0.9435309151372328, null], \"y\": [-0.7802052367596504, -0.26472944599276105, null]}, {\"line\": {\"color\": \"cornflowerblue\", \"width\": 1.1313708498984762}, \"mode\": \"lines\", \"type\": \"scatter\", \"x\": [-0.5904651584892197, 0.08217163171922387, null], \"y\": [-0.7802052367596504, 1.0, null]}, {\"line\": {\"color\": \"cornflowerblue\", \"width\": 1.671850762441055}, \"mode\": \"lines\", \"type\": \"scatter\", \"x\": [-0.04802411348147443, -0.8679573088972201, null], \"y\": [0.2364458406429239, 0.3952638653019296, null]}, {\"line\": {\"color\": \"cornflowerblue\", \"width\": 1.1313708498984762}, \"mode\": \"lines\", \"type\": \"scatter\", \"x\": [-0.04802411348147443, 0.8415454335975888, null], \"y\": [0.2364458406429239, 0.034044176030564983, null]}, {\"line\": {\"color\": \"cornflowerblue\", \"width\": 1.1313708498984762}, \"mode\": \"lines\", \"type\": \"scatter\", \"x\": [-0.04802411348147443, -0.15204210405244106, null], \"y\": [0.2364458406429239, -0.6044591479407039, null]}, {\"line\": {\"color\": \"cornflowerblue\", \"width\": 1.1313708498984762}, \"mode\": \"lines\", \"type\": \"scatter\", \"x\": [-0.04802411348147443, 0.8581662378975017, null], \"y\": [0.2364458406429239, -0.4776182317369281, null]}, {\"line\": {\"color\": \"cornflowerblue\", \"width\": 1.671850762441055}, \"mode\": \"lines\", \"type\": \"scatter\", \"x\": [-0.04802411348147443, -0.47753421328643975, null], \"y\": [0.2364458406429239, 0.7856239632220638, null]}, {\"line\": {\"color\": \"cornflowerblue\", \"width\": 1.1313708498984762}, \"mode\": \"lines\", \"type\": \"scatter\", \"x\": [-0.04802411348147443, 0.8165065010520031, null], \"y\": [0.2364458406429239, 0.5652973704827168, null]}, {\"line\": {\"color\": \"cornflowerblue\", \"width\": 1.1313708498984762}, \"mode\": \"lines\", \"type\": \"scatter\", \"x\": [-0.04802411348147443, -0.9435309151372328, null], \"y\": [0.2364458406429239, -0.26472944599276105, null]}, {\"line\": {\"color\": \"cornflowerblue\", \"width\": 1.1313708498984762}, \"mode\": \"lines\", \"type\": \"scatter\", \"x\": [-0.04802411348147443, 0.08217163171922387, null], \"y\": [0.2364458406429239, 1.0, null]}, {\"line\": {\"color\": \"cornflowerblue\", \"width\": 1.671850762441055}, \"mode\": \"lines\", \"type\": \"scatter\", \"x\": [-0.8679573088972201, 0.8415454335975888, null], \"y\": [0.3952638653019296, 0.034044176030564983, null]}, {\"line\": {\"color\": \"cornflowerblue\", \"width\": 1.671850762441055}, \"mode\": \"lines\", \"type\": \"scatter\", \"x\": [-0.8679573088972201, -0.15204210405244106, null], \"y\": [0.3952638653019296, -0.6044591479407039, null]}, {\"line\": {\"color\": \"cornflowerblue\", \"width\": 1.671850762441055}, \"mode\": \"lines\", \"type\": \"scatter\", \"x\": [-0.8679573088972201, 0.8581662378975017, null], \"y\": [0.3952638653019296, -0.4776182317369281, null]}, {\"line\": {\"color\": \"cornflowerblue\", \"width\": 2.3001951752865812}, \"mode\": \"lines\", \"type\": \"scatter\", \"x\": [-0.8679573088972201, -0.47753421328643975, null], \"y\": [0.3952638653019296, 0.7856239632220638, null]}, {\"line\": {\"color\": \"cornflowerblue\", \"width\": 1.671850762441055}, \"mode\": \"lines\", \"type\": \"scatter\", \"x\": [-0.8679573088972201, 0.8165065010520031, null], \"y\": [0.3952638653019296, 0.5652973704827168, null]}, {\"line\": {\"color\": \"cornflowerblue\", \"width\": 1.671850762441055}, \"mode\": \"lines\", \"type\": \"scatter\", \"x\": [-0.8679573088972201, -0.9435309151372328, null], \"y\": [0.3952638653019296, -0.26472944599276105, null]}, {\"line\": {\"color\": \"cornflowerblue\", \"width\": 1.1313708498984762}, \"mode\": \"lines\", \"type\": \"scatter\", \"x\": [-0.8679573088972201, 0.08217163171922387, null], \"y\": [0.3952638653019296, 1.0, null]}, {\"line\": {\"color\": \"cornflowerblue\", \"width\": 1.671850762441055}, \"mode\": \"lines\", \"type\": \"scatter\", \"x\": [0.8415454335975888, -0.15204210405244106, null], \"y\": [0.034044176030564983, -0.6044591479407039, null]}, {\"line\": {\"color\": \"cornflowerblue\", \"width\": 1.671850762441055}, \"mode\": \"lines\", \"type\": \"scatter\", \"x\": [0.8415454335975888, 0.8581662378975017, null], \"y\": [0.034044176030564983, -0.4776182317369281, null]}, {\"line\": {\"color\": \"cornflowerblue\", \"width\": 1.671850762441055}, \"mode\": \"lines\", \"type\": \"scatter\", \"x\": [0.8415454335975888, -0.47753421328643975, null], \"y\": [0.034044176030564983, 0.7856239632220638, null]}, {\"line\": {\"color\": \"cornflowerblue\", \"width\": 1.1313708498984762}, \"mode\": \"lines\", \"type\": \"scatter\", \"x\": [0.8415454335975888, 0.8165065010520031, null], \"y\": [0.034044176030564983, 0.5652973704827168, null]}, {\"line\": {\"color\": \"cornflowerblue\", \"width\": 1.1313708498984762}, \"mode\": \"lines\", \"type\": \"scatter\", \"x\": [0.8415454335975888, -0.9435309151372328, null], \"y\": [0.034044176030564983, -0.26472944599276105, null]}, {\"line\": {\"color\": \"cornflowerblue\", \"width\": 1.1313708498984762}, \"mode\": \"lines\", \"type\": \"scatter\", \"x\": [0.8415454335975888, 0.08217163171922387, null], \"y\": [0.034044176030564983, 1.0, null]}, {\"line\": {\"color\": \"cornflowerblue\", \"width\": 1.671850762441055}, \"mode\": \"lines\", \"type\": \"scatter\", \"x\": [-0.15204210405244106, 0.8581662378975017, null], \"y\": [-0.6044591479407039, -0.4776182317369281, null]}, {\"line\": {\"color\": \"cornflowerblue\", \"width\": 1.671850762441055}, \"mode\": \"lines\", \"type\": \"scatter\", \"x\": [-0.15204210405244106, -0.47753421328643975, null], \"y\": [-0.6044591479407039, 0.7856239632220638, null]}, {\"line\": {\"color\": \"cornflowerblue\", \"width\": 1.1313708498984762}, \"mode\": \"lines\", \"type\": \"scatter\", \"x\": [-0.15204210405244106, 0.8165065010520031, null], \"y\": [-0.6044591479407039, 0.5652973704827168, null]}, {\"line\": {\"color\": \"cornflowerblue\", \"width\": 1.1313708498984762}, \"mode\": \"lines\", \"type\": \"scatter\", \"x\": [-0.15204210405244106, -0.9435309151372328, null], \"y\": [-0.6044591479407039, -0.26472944599276105, null]}, {\"line\": {\"color\": \"cornflowerblue\", \"width\": 1.1313708498984762}, \"mode\": \"lines\", \"type\": \"scatter\", \"x\": [-0.15204210405244106, 0.08217163171922387, null], \"y\": [-0.6044591479407039, 1.0, null]}, {\"line\": {\"color\": \"cornflowerblue\", \"width\": 1.671850762441055}, \"mode\": \"lines\", \"type\": \"scatter\", \"x\": [0.8581662378975017, -0.47753421328643975, null], \"y\": [-0.4776182317369281, 0.7856239632220638, null]}, {\"line\": {\"color\": \"cornflowerblue\", \"width\": 1.1313708498984762}, \"mode\": \"lines\", \"type\": \"scatter\", \"x\": [0.8581662378975017, 0.8165065010520031, null], \"y\": [-0.4776182317369281, 0.5652973704827168, null]}, {\"line\": {\"color\": \"cornflowerblue\", \"width\": 1.1313708498984762}, \"mode\": \"lines\", \"type\": \"scatter\", \"x\": [0.8581662378975017, -0.9435309151372328, null], \"y\": [-0.4776182317369281, -0.26472944599276105, null]}, {\"line\": {\"color\": \"cornflowerblue\", \"width\": 1.1313708498984762}, \"mode\": \"lines\", \"type\": \"scatter\", \"x\": [0.8581662378975017, 0.08217163171922387, null], \"y\": [-0.4776182317369281, 1.0, null]}, {\"line\": {\"color\": \"cornflowerblue\", \"width\": 1.671850762441055}, \"mode\": \"lines\", \"type\": \"scatter\", \"x\": [-0.47753421328643975, 0.8165065010520031, null], \"y\": [0.7856239632220638, 0.5652973704827168, null]}, {\"line\": {\"color\": \"cornflowerblue\", \"width\": 1.671850762441055}, \"mode\": \"lines\", \"type\": \"scatter\", \"x\": [-0.47753421328643975, -0.9435309151372328, null], \"y\": [0.7856239632220638, -0.26472944599276105, null]}, {\"line\": {\"color\": \"cornflowerblue\", \"width\": 1.1313708498984762}, \"mode\": \"lines\", \"type\": \"scatter\", \"x\": [-0.47753421328643975, 0.08217163171922387, null], \"y\": [0.7856239632220638, 1.0, null]}, {\"line\": {\"color\": \"cornflowerblue\", \"width\": 1.671850762441055}, \"mode\": \"lines\", \"type\": \"scatter\", \"x\": [0.8165065010520031, -0.9435309151372328, null], \"y\": [0.5652973704827168, -0.26472944599276105, null]}, {\"line\": {\"color\": \"cornflowerblue\", \"width\": 1.1313708498984762}, \"mode\": \"lines\", \"type\": \"scatter\", \"x\": [0.8165065010520031, 0.08217163171922387, null], \"y\": [0.5652973704827168, 1.0, null]}, {\"line\": {\"color\": \"cornflowerblue\", \"width\": 1.1313708498984762}, \"mode\": \"lines\", \"type\": \"scatter\", \"x\": [-0.9435309151372328, 0.08217163171922387, null], \"y\": [-0.26472944599276105, 1.0, null]}, {\"hoverinfo\": \"none\", \"marker\": {\"color\": [\"cornflowerblue\", \"cornflowerblue\", \"cornflowerblue\", \"cornflowerblue\", \"cornflowerblue\", \"cornflowerblue\", \"cornflowerblue\", \"cornflowerblue\", \"cornflowerblue\", \"cornflowerblue\", \"cornflowerblue\", \"cornflowerblue\", \"cornflowerblue\", \"cornflowerblue\"], \"size\": [7.0, 7.0, 7.0, 7.800000000000001, 7.800000000000001, 7.800000000000001, 7.800000000000001, 7.0, 7.0, 7.0, 7.800000000000001, 7.0, 7.0, 7.0]}, \"mode\": \"markers+text\", \"text\": [\"<b>Corona-Krise</b>\", \"<b>Coronavirus-Pandemie</b>\", \"<b>New York</b>\", \"<b>Coronavirus</b>\", \"<b>Europa</b>\", \"<b>USA</b>\", \"<b>Deutschland</b>\", \"<b>US-Pr\\u00e4sident</b>\", \"<b>Corona-Pandemie</b>\", \"<b>Donald Trump</b>\", \"<b>RKI</b>\", \"<b>Frankreich</b>\", \"<b>Spanien</b>\", \"<b>Trump</b>\"], \"textfont\": {\"size\": 9}, \"textposition\": \"top center\", \"type\": \"scatter\", \"x\": [0.3663058868394895, 0.24236529176655303, 0.3643066028462397, -0.49181377237457746, -0.5904651584892197, -0.04802411348147443, -0.8679573088972201, 0.8415454335975888, -0.15204210405244106, 0.8581662378975017, -0.47753421328643975, 0.8165065010520031, -0.9435309151372328, 0.08217163171922387], \"y\": [-0.43076284149679833, -0.975404980117376, 0.5543045898129471, -0.03779992144892535, -0.7802052367596504, 0.2364458406429239, 0.3952638653019296, 0.034044176030564983, -0.6044591479407039, -0.4776182317369281, 0.7856239632220638, 0.5652973704827168, -0.26472944599276105, 1.0]}],                        {\"paper_bgcolor\": \"rgba(0,0,0,0)\", \"plot_bgcolor\": \"rgba(0,0,0,0)\", \"showlegend\": false, \"template\": {\"data\": {\"bar\": [{\"error_x\": {\"color\": \"#2a3f5f\"}, \"error_y\": {\"color\": \"#2a3f5f\"}, \"marker\": {\"line\": {\"color\": \"#E5ECF6\", \"width\": 0.5}}, \"type\": \"bar\"}], \"barpolar\": [{\"marker\": {\"line\": {\"color\": \"#E5ECF6\", \"width\": 0.5}}, \"type\": \"barpolar\"}], \"carpet\": [{\"aaxis\": {\"endlinecolor\": \"#2a3f5f\", \"gridcolor\": \"white\", \"linecolor\": \"white\", \"minorgridcolor\": \"white\", \"startlinecolor\": \"#2a3f5f\"}, \"baxis\": {\"endlinecolor\": \"#2a3f5f\", \"gridcolor\": \"white\", \"linecolor\": \"white\", \"minorgridcolor\": \"white\", \"startlinecolor\": \"#2a3f5f\"}, \"type\": \"carpet\"}], \"choropleth\": [{\"colorbar\": {\"outlinewidth\": 0, \"ticks\": \"\"}, \"type\": \"choropleth\"}], \"contour\": [{\"colorbar\": {\"outlinewidth\": 0, \"ticks\": \"\"}, \"colorscale\": [[0.0, \"#0d0887\"], [0.1111111111111111, \"#46039f\"], [0.2222222222222222, \"#7201a8\"], [0.3333333333333333, \"#9c179e\"], [0.4444444444444444, \"#bd3786\"], [0.5555555555555556, \"#d8576b\"], [0.6666666666666666, \"#ed7953\"], [0.7777777777777778, \"#fb9f3a\"], [0.8888888888888888, \"#fdca26\"], [1.0, \"#f0f921\"]], \"type\": \"contour\"}], \"contourcarpet\": [{\"colorbar\": {\"outlinewidth\": 0, \"ticks\": \"\"}, \"type\": \"contourcarpet\"}], \"heatmap\": [{\"colorbar\": {\"outlinewidth\": 0, \"ticks\": \"\"}, \"colorscale\": [[0.0, \"#0d0887\"], [0.1111111111111111, \"#46039f\"], [0.2222222222222222, \"#7201a8\"], [0.3333333333333333, \"#9c179e\"], [0.4444444444444444, \"#bd3786\"], [0.5555555555555556, \"#d8576b\"], [0.6666666666666666, \"#ed7953\"], [0.7777777777777778, \"#fb9f3a\"], [0.8888888888888888, \"#fdca26\"], [1.0, \"#f0f921\"]], \"type\": \"heatmap\"}], \"heatmapgl\": [{\"colorbar\": {\"outlinewidth\": 0, \"ticks\": \"\"}, \"colorscale\": [[0.0, \"#0d0887\"], [0.1111111111111111, \"#46039f\"], [0.2222222222222222, \"#7201a8\"], [0.3333333333333333, \"#9c179e\"], [0.4444444444444444, \"#bd3786\"], [0.5555555555555556, \"#d8576b\"], [0.6666666666666666, \"#ed7953\"], [0.7777777777777778, \"#fb9f3a\"], [0.8888888888888888, \"#fdca26\"], [1.0, \"#f0f921\"]], \"type\": \"heatmapgl\"}], \"histogram\": [{\"marker\": {\"colorbar\": {\"outlinewidth\": 0, \"ticks\": \"\"}}, \"type\": \"histogram\"}], \"histogram2d\": [{\"colorbar\": {\"outlinewidth\": 0, \"ticks\": \"\"}, \"colorscale\": [[0.0, \"#0d0887\"], [0.1111111111111111, \"#46039f\"], [0.2222222222222222, \"#7201a8\"], [0.3333333333333333, \"#9c179e\"], [0.4444444444444444, \"#bd3786\"], [0.5555555555555556, \"#d8576b\"], [0.6666666666666666, \"#ed7953\"], [0.7777777777777778, \"#fb9f3a\"], [0.8888888888888888, \"#fdca26\"], [1.0, \"#f0f921\"]], \"type\": \"histogram2d\"}], \"histogram2dcontour\": [{\"colorbar\": {\"outlinewidth\": 0, \"ticks\": \"\"}, \"colorscale\": [[0.0, \"#0d0887\"], [0.1111111111111111, \"#46039f\"], [0.2222222222222222, \"#7201a8\"], [0.3333333333333333, \"#9c179e\"], [0.4444444444444444, \"#bd3786\"], [0.5555555555555556, \"#d8576b\"], [0.6666666666666666, \"#ed7953\"], [0.7777777777777778, \"#fb9f3a\"], [0.8888888888888888, \"#fdca26\"], [1.0, \"#f0f921\"]], \"type\": \"histogram2dcontour\"}], \"mesh3d\": [{\"colorbar\": {\"outlinewidth\": 0, \"ticks\": \"\"}, \"type\": \"mesh3d\"}], \"parcoords\": [{\"line\": {\"colorbar\": {\"outlinewidth\": 0, \"ticks\": \"\"}}, \"type\": \"parcoords\"}], \"pie\": [{\"automargin\": true, \"type\": \"pie\"}], \"scatter\": [{\"marker\": {\"colorbar\": {\"outlinewidth\": 0, \"ticks\": \"\"}}, \"type\": \"scatter\"}], \"scatter3d\": [{\"line\": {\"colorbar\": {\"outlinewidth\": 0, \"ticks\": \"\"}}, \"marker\": {\"colorbar\": {\"outlinewidth\": 0, \"ticks\": \"\"}}, \"type\": \"scatter3d\"}], \"scattercarpet\": [{\"marker\": {\"colorbar\": {\"outlinewidth\": 0, \"ticks\": \"\"}}, \"type\": \"scattercarpet\"}], \"scattergeo\": [{\"marker\": {\"colorbar\": {\"outlinewidth\": 0, \"ticks\": \"\"}}, \"type\": \"scattergeo\"}], \"scattergl\": [{\"marker\": {\"colorbar\": {\"outlinewidth\": 0, \"ticks\": \"\"}}, \"type\": \"scattergl\"}], \"scattermapbox\": [{\"marker\": {\"colorbar\": {\"outlinewidth\": 0, \"ticks\": \"\"}}, \"type\": \"scattermapbox\"}], \"scatterpolar\": [{\"marker\": {\"colorbar\": {\"outlinewidth\": 0, \"ticks\": \"\"}}, \"type\": \"scatterpolar\"}], \"scatterpolargl\": [{\"marker\": {\"colorbar\": {\"outlinewidth\": 0, \"ticks\": \"\"}}, \"type\": \"scatterpolargl\"}], \"scatterternary\": [{\"marker\": {\"colorbar\": {\"outlinewidth\": 0, \"ticks\": \"\"}}, \"type\": \"scatterternary\"}], \"surface\": [{\"colorbar\": {\"outlinewidth\": 0, \"ticks\": \"\"}, \"colorscale\": [[0.0, \"#0d0887\"], [0.1111111111111111, \"#46039f\"], [0.2222222222222222, \"#7201a8\"], [0.3333333333333333, \"#9c179e\"], [0.4444444444444444, \"#bd3786\"], [0.5555555555555556, \"#d8576b\"], [0.6666666666666666, \"#ed7953\"], [0.7777777777777778, \"#fb9f3a\"], [0.8888888888888888, \"#fdca26\"], [1.0, \"#f0f921\"]], \"type\": \"surface\"}], \"table\": [{\"cells\": {\"fill\": {\"color\": \"#EBF0F8\"}, \"line\": {\"color\": \"white\"}}, \"header\": {\"fill\": {\"color\": \"#C8D4E3\"}, \"line\": {\"color\": \"white\"}}, \"type\": \"table\"}]}, \"layout\": {\"annotationdefaults\": {\"arrowcolor\": \"#2a3f5f\", \"arrowhead\": 0, \"arrowwidth\": 1}, \"coloraxis\": {\"colorbar\": {\"outlinewidth\": 0, \"ticks\": \"\"}}, \"colorscale\": {\"diverging\": [[0, \"#8e0152\"], [0.1, \"#c51b7d\"], [0.2, \"#de77ae\"], [0.3, \"#f1b6da\"], [0.4, \"#fde0ef\"], [0.5, \"#f7f7f7\"], [0.6, \"#e6f5d0\"], [0.7, \"#b8e186\"], [0.8, \"#7fbc41\"], [0.9, \"#4d9221\"], [1, \"#276419\"]], \"sequential\": [[0.0, \"#0d0887\"], [0.1111111111111111, \"#46039f\"], [0.2222222222222222, \"#7201a8\"], [0.3333333333333333, \"#9c179e\"], [0.4444444444444444, \"#bd3786\"], [0.5555555555555556, \"#d8576b\"], [0.6666666666666666, \"#ed7953\"], [0.7777777777777778, \"#fb9f3a\"], [0.8888888888888888, \"#fdca26\"], [1.0, \"#f0f921\"]], \"sequentialminus\": [[0.0, \"#0d0887\"], [0.1111111111111111, \"#46039f\"], [0.2222222222222222, \"#7201a8\"], [0.3333333333333333, \"#9c179e\"], [0.4444444444444444, \"#bd3786\"], [0.5555555555555556, \"#d8576b\"], [0.6666666666666666, \"#ed7953\"], [0.7777777777777778, \"#fb9f3a\"], [0.8888888888888888, \"#fdca26\"], [1.0, \"#f0f921\"]]}, \"colorway\": [\"#636efa\", \"#EF553B\", \"#00cc96\", \"#ab63fa\", \"#FFA15A\", \"#19d3f3\", \"#FF6692\", \"#B6E880\", \"#FF97FF\", \"#FECB52\"], \"font\": {\"color\": \"#2a3f5f\"}, \"geo\": {\"bgcolor\": \"white\", \"lakecolor\": \"white\", \"landcolor\": \"#E5ECF6\", \"showlakes\": true, \"showland\": true, \"subunitcolor\": \"white\"}, \"hoverlabel\": {\"align\": \"left\"}, \"hovermode\": \"closest\", \"mapbox\": {\"style\": \"light\"}, \"paper_bgcolor\": \"white\", \"plot_bgcolor\": \"#E5ECF6\", \"polar\": {\"angularaxis\": {\"gridcolor\": \"white\", \"linecolor\": \"white\", \"ticks\": \"\"}, \"bgcolor\": \"#E5ECF6\", \"radialaxis\": {\"gridcolor\": \"white\", \"linecolor\": \"white\", \"ticks\": \"\"}}, \"scene\": {\"xaxis\": {\"backgroundcolor\": \"#E5ECF6\", \"gridcolor\": \"white\", \"gridwidth\": 2, \"linecolor\": \"white\", \"showbackground\": true, \"ticks\": \"\", \"zerolinecolor\": \"white\"}, \"yaxis\": {\"backgroundcolor\": \"#E5ECF6\", \"gridcolor\": \"white\", \"gridwidth\": 2, \"linecolor\": \"white\", \"showbackground\": true, \"ticks\": \"\", \"zerolinecolor\": \"white\"}, \"zaxis\": {\"backgroundcolor\": \"#E5ECF6\", \"gridcolor\": \"white\", \"gridwidth\": 2, \"linecolor\": \"white\", \"showbackground\": true, \"ticks\": \"\", \"zerolinecolor\": \"white\"}}, \"shapedefaults\": {\"line\": {\"color\": \"#2a3f5f\"}}, \"ternary\": {\"aaxis\": {\"gridcolor\": \"white\", \"linecolor\": \"white\", \"ticks\": \"\"}, \"baxis\": {\"gridcolor\": \"white\", \"linecolor\": \"white\", \"ticks\": \"\"}, \"bgcolor\": \"#E5ECF6\", \"caxis\": {\"gridcolor\": \"white\", \"linecolor\": \"white\", \"ticks\": \"\"}}, \"title\": {\"x\": 0.05}, \"xaxis\": {\"automargin\": true, \"gridcolor\": \"white\", \"linecolor\": \"white\", \"ticks\": \"\", \"title\": {\"standoff\": 15}, \"zerolinecolor\": \"white\", \"zerolinewidth\": 2}, \"yaxis\": {\"automargin\": true, \"gridcolor\": \"white\", \"linecolor\": \"white\", \"ticks\": \"\", \"title\": {\"standoff\": 15}, \"zerolinecolor\": \"white\", \"zerolinewidth\": 2}}}, \"xaxis\": {\"showgrid\": false, \"showticklabels\": false, \"zeroline\": false}, \"yaxis\": {\"showgrid\": false, \"showticklabels\": false, \"zeroline\": false}},                        {\"responsive\": true}                    ).then(function(){\n",
       "                            \n",
       "var gd = document.getElementById('eb15cec9-a0f2-455f-bce2-ef70976f1a4d');\n",
       "var x = new MutationObserver(function (mutations, observer) {{\n",
       "        var display = window.getComputedStyle(gd).display;\n",
       "        if (!display || display === 'none') {{\n",
       "            console.log([gd, 'removed!']);\n",
       "            Plotly.purge(gd);\n",
       "            observer.disconnect();\n",
       "        }}\n",
       "}});\n",
       "\n",
       "// Listen for the removal of the full notebook cells\n",
       "var notebookContainer = gd.closest('#notebook-container');\n",
       "if (notebookContainer) {{\n",
       "    x.observe(notebookContainer, {childList: true});\n",
       "}}\n",
       "\n",
       "// Listen for the clearing of the current output cell\n",
       "var outputEl = gd.closest('.output');\n",
       "if (outputEl) {{\n",
       "    x.observe(outputEl, {childList: true});\n",
       "}}\n",
       "\n",
       "                        })                };                });            </script>        </div>"
      ]
     },
     "metadata": {},
     "output_type": "display_data"
    }
   ],
   "source": [
    "# Make a node trace\n",
    "node_trace = go.Scatter(x         = [],\n",
    "                        y         = [],\n",
    "                        text      = [],\n",
    "                        textposition = \"top center\",\n",
    "                        textfont_size = 9,\n",
    "                        mode      = 'markers+text',\n",
    "                        hoverinfo = 'none',\n",
    "                        marker    = dict(color = [],\n",
    "                                         size  = [],\n",
    "                                         line  = None))\n",
    "# For each node, get the position and size and add to the node_trace\n",
    "for node in companies.nodes():\n",
    "    x, y = nodepositions[node]\n",
    "    node_trace['x'] += (x,) \n",
    "    node_trace['y'] += (y,) \n",
    "    node_trace['marker']['color'] += ('cornflowerblue',)\n",
    "    node_trace['marker']['size'] += (3+0.8*orgs[node],) \n",
    "    node_trace['text'] += ('<b>' + node + '</b>',)\n",
    "    \n",
    "    \n",
    "# Custom function to create an edge between node x and node y, with a given text and width\n",
    "def make_edge(x, y, width):\n",
    "    return  go.Scatter(x     = x,\n",
    "                       y     = y,\n",
    "                       line  = dict(width = width, color = 'cornflowerblue'),\n",
    "                       mode  = 'lines')\n",
    "\n",
    "\n",
    "# For each edge, make an edge_trace, append to list\n",
    "edge_trace = []\n",
    "for edge in companies.edges():\n",
    "    org1 = edge[0]\n",
    "    org2 = edge[1]\n",
    "    x0, y0 = nodepositions[org1]\n",
    "    x1, y1 = nodepositions[org2]\n",
    "    linewidth = 0.1*Relations[org1][org2]**1.75\n",
    "    trace  = make_edge([x0, x1, None], [y0, y1, None],  width = linewidth)\n",
    "    edge_trace.append(trace)\n",
    "    \n",
    "    \n",
    "# Customize layout\n",
    "layout = go.Layout(\n",
    "    paper_bgcolor='rgba(0,0,0,0)', # transparent background\n",
    "    plot_bgcolor='rgba(0,0,0,0)', # transparent 2nd background\n",
    "    xaxis =  {'showgrid': False, 'zeroline': False}, # no gridlines\n",
    "    yaxis = {'showgrid': False, 'zeroline': False}, # no gridlines\n",
    ")\n",
    "# Create figure\n",
    "fig = go.Figure(layout = layout)\n",
    "# Add all edge traces\n",
    "for trace in edge_trace:\n",
    "    fig.add_trace(trace)\n",
    "# Add node trace\n",
    "fig.add_trace(node_trace)\n",
    "# Remove legend\n",
    "fig.update_layout(showlegend = False)\n",
    "# Remove tick labels\n",
    "fig.update_xaxes(showticklabels = False)\n",
    "fig.update_yaxes(showticklabels = False)\n",
    "# Show figure\n",
    "fig.show()    "
   ]
  },
  {
   "cell_type": "code",
   "execution_count": 34,
   "metadata": {},
   "outputs": [
    {
     "data": {
      "application/vnd.plotly.v1+json": {
       "config": {
        "plotlyServerURL": "https://plot.ly"
       },
       "data": [
        {
         "line": {
          "color": "cornflowerblue",
          "width": 0.33635856610148585
         },
         "mode": "lines",
         "type": "scatter",
         "x": [
          0.17467945229048606,
          0.7724412096658002,
          null
         ],
         "y": [
          0.14430447014026024,
          0.056429640119353815,
          null
         ]
        },
        {
         "line": {
          "color": "cornflowerblue",
          "width": 0.33635856610148585
         },
         "mode": "lines",
         "type": "scatter",
         "x": [
          0.17467945229048606,
          -0.5264134145664416,
          null
         ],
         "y": [
          0.14430447014026024,
          0.6586399267697444,
          null
         ]
        },
        {
         "line": {
          "color": "cornflowerblue",
          "width": 0.6838521170864333
         },
         "mode": "lines",
         "type": "scatter",
         "x": [
          0.17467945229048606,
          0.12962776697794517,
          null
         ],
         "y": [
          0.14430447014026024,
          -0.2202079719511623,
          null
         ]
        },
        {
         "line": {
          "color": "cornflowerblue",
          "width": 0.33635856610148585
         },
         "mode": "lines",
         "type": "scatter",
         "x": [
          0.17467945229048606,
          0.8103245290362157,
          null
         ],
         "y": [
          0.14430447014026024,
          -0.36545067520959107,
          null
         ]
        },
        {
         "line": {
          "color": "cornflowerblue",
          "width": 0.6838521170864333
         },
         "mode": "lines",
         "type": "scatter",
         "x": [
          0.17467945229048606,
          -0.2756508862337576,
          null
         ],
         "y": [
          0.14430447014026024,
          0.1445382844125225,
          null
         ]
        },
        {
         "line": {
          "color": "cornflowerblue",
          "width": 0.33635856610148585
         },
         "mode": "lines",
         "type": "scatter",
         "x": [
          0.17467945229048606,
          0.3812535581236627,
          null
         ],
         "y": [
          0.14430447014026024,
          0.6970370422703416,
          null
         ]
        },
        {
         "line": {
          "color": "cornflowerblue",
          "width": 0.33635856610148585
         },
         "mode": "lines",
         "type": "scatter",
         "x": [
          0.17467945229048606,
          -0.08831814137873804,
          null
         ],
         "y": [
          0.14430447014026024,
          0.4736060180626573,
          null
         ]
        },
        {
         "line": {
          "color": "cornflowerblue",
          "width": 0.33635856610148585
         },
         "mode": "lines",
         "type": "scatter",
         "x": [
          0.17467945229048606,
          -0.15789430097199458,
          null
         ],
         "y": [
          0.14430447014026024,
          -0.49229196710917805,
          null
         ]
        },
        {
         "line": {
          "color": "cornflowerblue",
          "width": 0.1
         },
         "mode": "lines",
         "type": "scatter",
         "x": [
          0.17467945229048606,
          -0.8259621809897474,
          null
         ],
         "y": [
          0.14430447014026024,
          -0.615791266454315,
          null
         ]
        },
        {
         "line": {
          "color": "cornflowerblue",
          "width": 0.1
         },
         "mode": "lines",
         "type": "scatter",
         "x": [
          0.17467945229048606,
          -1,
          null
         ],
         "y": [
          0.14430447014026024,
          -0.09727526898035725,
          null
         ]
        },
        {
         "line": {
          "color": "cornflowerblue",
          "width": 0.33635856610148585
         },
         "mode": "lines",
         "type": "scatter",
         "x": [
          0.17467945229048606,
          -0.3751653402635965,
          null
         ],
         "y": [
          0.14430447014026024,
          -0.1799438820629479,
          null
         ]
        },
        {
         "line": {
          "color": "cornflowerblue",
          "width": 0.1
         },
         "mode": "lines",
         "type": "scatter",
         "x": [
          0.17467945229048606,
          0.2630848967001795,
          null
         ],
         "y": [
          0.14430447014026024,
          -0.675517178516147,
          null
         ]
        },
        {
         "line": {
          "color": "cornflowerblue",
          "width": 0.1
         },
         "mode": "lines",
         "type": "scatter",
         "x": [
          0.17467945229048606,
          0.7179928516099849,
          null
         ],
         "y": [
          0.14430447014026024,
          0.4719228285088163,
          null
         ]
        },
        {
         "line": {
          "color": "cornflowerblue",
          "width": 0.1
         },
         "mode": "lines",
         "type": "scatter",
         "x": [
          0.7724412096658002,
          -0.5264134145664416,
          null
         ],
         "y": [
          0.056429640119353815,
          0.6586399267697444,
          null
         ]
        },
        {
         "line": {
          "color": "cornflowerblue",
          "width": 0.6838521170864333
         },
         "mode": "lines",
         "type": "scatter",
         "x": [
          0.7724412096658002,
          0.12962776697794517,
          null
         ],
         "y": [
          0.056429640119353815,
          -0.2202079719511623,
          null
         ]
        },
        {
         "line": {
          "color": "cornflowerblue",
          "width": 0.33635856610148585
         },
         "mode": "lines",
         "type": "scatter",
         "x": [
          0.7724412096658002,
          0.8103245290362157,
          null
         ],
         "y": [
          0.056429640119353815,
          -0.36545067520959107,
          null
         ]
        },
        {
         "line": {
          "color": "cornflowerblue",
          "width": 0.33635856610148585
         },
         "mode": "lines",
         "type": "scatter",
         "x": [
          0.7724412096658002,
          0.2630848967001795,
          null
         ],
         "y": [
          0.056429640119353815,
          -0.675517178516147,
          null
         ]
        },
        {
         "line": {
          "color": "cornflowerblue",
          "width": 0.1
         },
         "mode": "lines",
         "type": "scatter",
         "x": [
          0.7724412096658002,
          -0.15789430097199458,
          null
         ],
         "y": [
          0.056429640119353815,
          -0.49229196710917805,
          null
         ]
        },
        {
         "line": {
          "color": "cornflowerblue",
          "width": 0.1
         },
         "mode": "lines",
         "type": "scatter",
         "x": [
          0.7724412096658002,
          -0.3751653402635965,
          null
         ],
         "y": [
          0.056429640119353815,
          -0.1799438820629479,
          null
         ]
        },
        {
         "line": {
          "color": "cornflowerblue",
          "width": 0.1
         },
         "mode": "lines",
         "type": "scatter",
         "x": [
          0.7724412096658002,
          0.3812535581236627,
          null
         ],
         "y": [
          0.056429640119353815,
          0.6970370422703416,
          null
         ]
        },
        {
         "line": {
          "color": "cornflowerblue",
          "width": 0.1
         },
         "mode": "lines",
         "type": "scatter",
         "x": [
          0.7724412096658002,
          0.7179928516099849,
          null
         ],
         "y": [
          0.056429640119353815,
          0.4719228285088163,
          null
         ]
        },
        {
         "line": {
          "color": "cornflowerblue",
          "width": 0.1
         },
         "mode": "lines",
         "type": "scatter",
         "x": [
          0.7724412096658002,
          -0.2756508862337576,
          null
         ],
         "y": [
          0.056429640119353815,
          0.1445382844125225,
          null
         ]
        },
        {
         "line": {
          "color": "cornflowerblue",
          "width": 0.1
         },
         "mode": "lines",
         "type": "scatter",
         "x": [
          0.7724412096658002,
          -0.08831814137873804,
          null
         ],
         "y": [
          0.056429640119353815,
          0.4736060180626573,
          null
         ]
        },
        {
         "line": {
          "color": "cornflowerblue",
          "width": 0.33635856610148585
         },
         "mode": "lines",
         "type": "scatter",
         "x": [
          -0.5264134145664416,
          0.12962776697794517,
          null
         ],
         "y": [
          0.6586399267697444,
          -0.2202079719511623,
          null
         ]
        },
        {
         "line": {
          "color": "cornflowerblue",
          "width": 0.33635856610148585
         },
         "mode": "lines",
         "type": "scatter",
         "x": [
          -0.5264134145664416,
          -0.08831814137873804,
          null
         ],
         "y": [
          0.6586399267697444,
          0.4736060180626573,
          null
         ]
        },
        {
         "line": {
          "color": "cornflowerblue",
          "width": 0.1
         },
         "mode": "lines",
         "type": "scatter",
         "x": [
          -0.5264134145664416,
          -0.15789430097199458,
          null
         ],
         "y": [
          0.6586399267697444,
          -0.49229196710917805,
          null
         ]
        },
        {
         "line": {
          "color": "cornflowerblue",
          "width": 0.1
         },
         "mode": "lines",
         "type": "scatter",
         "x": [
          -0.5264134145664416,
          -0.8259621809897474,
          null
         ],
         "y": [
          0.6586399267697444,
          -0.615791266454315,
          null
         ]
        },
        {
         "line": {
          "color": "cornflowerblue",
          "width": 0.1
         },
         "mode": "lines",
         "type": "scatter",
         "x": [
          -0.5264134145664416,
          -1,
          null
         ],
         "y": [
          0.6586399267697444,
          -0.09727526898035725,
          null
         ]
        },
        {
         "line": {
          "color": "cornflowerblue",
          "width": 0.1
         },
         "mode": "lines",
         "type": "scatter",
         "x": [
          -0.5264134145664416,
          -0.3751653402635965,
          null
         ],
         "y": [
          0.6586399267697444,
          -0.1799438820629479,
          null
         ]
        },
        {
         "line": {
          "color": "cornflowerblue",
          "width": 0.1
         },
         "mode": "lines",
         "type": "scatter",
         "x": [
          -0.5264134145664416,
          0.7179928516099849,
          null
         ],
         "y": [
          0.6586399267697444,
          0.4719228285088163,
          null
         ]
        },
        {
         "line": {
          "color": "cornflowerblue",
          "width": 0.1
         },
         "mode": "lines",
         "type": "scatter",
         "x": [
          -0.5264134145664416,
          0.3812535581236627,
          null
         ],
         "y": [
          0.6586399267697444,
          0.6970370422703416,
          null
         ]
        },
        {
         "line": {
          "color": "cornflowerblue",
          "width": 0.6838521170864333
         },
         "mode": "lines",
         "type": "scatter",
         "x": [
          0.12962776697794517,
          0.2630848967001795,
          null
         ],
         "y": [
          -0.2202079719511623,
          -0.675517178516147,
          null
         ]
        },
        {
         "line": {
          "color": "cornflowerblue",
          "width": 0.6838521170864333
         },
         "mode": "lines",
         "type": "scatter",
         "x": [
          0.12962776697794517,
          -0.15789430097199458,
          null
         ],
         "y": [
          -0.2202079719511623,
          -0.49229196710917805,
          null
         ]
        },
        {
         "line": {
          "color": "cornflowerblue",
          "width": 0.33635856610148585
         },
         "mode": "lines",
         "type": "scatter",
         "x": [
          0.12962776697794517,
          -0.2756508862337576,
          null
         ],
         "y": [
          -0.2202079719511623,
          0.1445382844125225,
          null
         ]
        },
        {
         "line": {
          "color": "cornflowerblue",
          "width": 0.33635856610148585
         },
         "mode": "lines",
         "type": "scatter",
         "x": [
          0.12962776697794517,
          -0.8259621809897474,
          null
         ],
         "y": [
          -0.2202079719511623,
          -0.615791266454315,
          null
         ]
        },
        {
         "line": {
          "color": "cornflowerblue",
          "width": 0.33635856610148585
         },
         "mode": "lines",
         "type": "scatter",
         "x": [
          0.12962776697794517,
          -1,
          null
         ],
         "y": [
          -0.2202079719511623,
          -0.09727526898035725,
          null
         ]
        },
        {
         "line": {
          "color": "cornflowerblue",
          "width": 0.6838521170864333
         },
         "mode": "lines",
         "type": "scatter",
         "x": [
          0.12962776697794517,
          -0.3751653402635965,
          null
         ],
         "y": [
          -0.2202079719511623,
          -0.1799438820629479,
          null
         ]
        },
        {
         "line": {
          "color": "cornflowerblue",
          "width": 0.33635856610148585
         },
         "mode": "lines",
         "type": "scatter",
         "x": [
          0.12962776697794517,
          -0.08831814137873804,
          null
         ],
         "y": [
          -0.2202079719511623,
          0.4736060180626573,
          null
         ]
        },
        {
         "line": {
          "color": "cornflowerblue",
          "width": 0.33635856610148585
         },
         "mode": "lines",
         "type": "scatter",
         "x": [
          0.12962776697794517,
          0.8103245290362157,
          null
         ],
         "y": [
          -0.2202079719511623,
          -0.36545067520959107,
          null
         ]
        },
        {
         "line": {
          "color": "cornflowerblue",
          "width": 0.1
         },
         "mode": "lines",
         "type": "scatter",
         "x": [
          0.12962776697794517,
          0.3812535581236627,
          null
         ],
         "y": [
          -0.2202079719511623,
          0.6970370422703416,
          null
         ]
        },
        {
         "line": {
          "color": "cornflowerblue",
          "width": 0.1
         },
         "mode": "lines",
         "type": "scatter",
         "x": [
          0.12962776697794517,
          0.7179928516099849,
          null
         ],
         "y": [
          -0.2202079719511623,
          0.4719228285088163,
          null
         ]
        },
        {
         "line": {
          "color": "cornflowerblue",
          "width": 0.33635856610148585
         },
         "mode": "lines",
         "type": "scatter",
         "x": [
          0.8103245290362157,
          -0.2756508862337576,
          null
         ],
         "y": [
          -0.36545067520959107,
          0.1445382844125225,
          null
         ]
        },
        {
         "line": {
          "color": "cornflowerblue",
          "width": 0.33635856610148585
         },
         "mode": "lines",
         "type": "scatter",
         "x": [
          0.8103245290362157,
          0.3812535581236627,
          null
         ],
         "y": [
          -0.36545067520959107,
          0.6970370422703416,
          null
         ]
        },
        {
         "line": {
          "color": "cornflowerblue",
          "width": 0.33635856610148585
         },
         "mode": "lines",
         "type": "scatter",
         "x": [
          0.8103245290362157,
          0.2630848967001795,
          null
         ],
         "y": [
          -0.36545067520959107,
          -0.675517178516147,
          null
         ]
        },
        {
         "line": {
          "color": "cornflowerblue",
          "width": 0.1
         },
         "mode": "lines",
         "type": "scatter",
         "x": [
          0.8103245290362157,
          -0.15789430097199458,
          null
         ],
         "y": [
          -0.36545067520959107,
          -0.49229196710917805,
          null
         ]
        },
        {
         "line": {
          "color": "cornflowerblue",
          "width": 0.1
         },
         "mode": "lines",
         "type": "scatter",
         "x": [
          0.8103245290362157,
          -0.3751653402635965,
          null
         ],
         "y": [
          -0.36545067520959107,
          -0.1799438820629479,
          null
         ]
        },
        {
         "line": {
          "color": "cornflowerblue",
          "width": 0.1
         },
         "mode": "lines",
         "type": "scatter",
         "x": [
          0.8103245290362157,
          0.7179928516099849,
          null
         ],
         "y": [
          -0.36545067520959107,
          0.4719228285088163,
          null
         ]
        },
        {
         "line": {
          "color": "cornflowerblue",
          "width": 0.1
         },
         "mode": "lines",
         "type": "scatter",
         "x": [
          0.8103245290362157,
          -0.08831814137873804,
          null
         ],
         "y": [
          -0.36545067520959107,
          0.4736060180626573,
          null
         ]
        },
        {
         "line": {
          "color": "cornflowerblue",
          "width": 0.33635856610148585
         },
         "mode": "lines",
         "type": "scatter",
         "x": [
          -0.2756508862337576,
          0.3812535581236627,
          null
         ],
         "y": [
          0.1445382844125225,
          0.6970370422703416,
          null
         ]
        },
        {
         "line": {
          "color": "cornflowerblue",
          "width": 0.33635856610148585
         },
         "mode": "lines",
         "type": "scatter",
         "x": [
          -0.2756508862337576,
          0.2630848967001795,
          null
         ],
         "y": [
          0.1445382844125225,
          -0.675517178516147,
          null
         ]
        },
        {
         "line": {
          "color": "cornflowerblue",
          "width": 0.33635856610148585
         },
         "mode": "lines",
         "type": "scatter",
         "x": [
          -0.2756508862337576,
          -0.15789430097199458,
          null
         ],
         "y": [
          0.1445382844125225,
          -0.49229196710917805,
          null
         ]
        },
        {
         "line": {
          "color": "cornflowerblue",
          "width": 0.1
         },
         "mode": "lines",
         "type": "scatter",
         "x": [
          -0.2756508862337576,
          -0.8259621809897474,
          null
         ],
         "y": [
          0.1445382844125225,
          -0.615791266454315,
          null
         ]
        },
        {
         "line": {
          "color": "cornflowerblue",
          "width": 0.1
         },
         "mode": "lines",
         "type": "scatter",
         "x": [
          -0.2756508862337576,
          -1,
          null
         ],
         "y": [
          0.1445382844125225,
          -0.09727526898035725,
          null
         ]
        },
        {
         "line": {
          "color": "cornflowerblue",
          "width": 0.33635856610148585
         },
         "mode": "lines",
         "type": "scatter",
         "x": [
          -0.2756508862337576,
          -0.3751653402635965,
          null
         ],
         "y": [
          0.1445382844125225,
          -0.1799438820629479,
          null
         ]
        },
        {
         "line": {
          "color": "cornflowerblue",
          "width": 0.1
         },
         "mode": "lines",
         "type": "scatter",
         "x": [
          -0.2756508862337576,
          0.7179928516099849,
          null
         ],
         "y": [
          0.1445382844125225,
          0.4719228285088163,
          null
         ]
        },
        {
         "line": {
          "color": "cornflowerblue",
          "width": 0.1
         },
         "mode": "lines",
         "type": "scatter",
         "x": [
          -0.2756508862337576,
          -0.08831814137873804,
          null
         ],
         "y": [
          0.1445382844125225,
          0.4736060180626573,
          null
         ]
        },
        {
         "line": {
          "color": "cornflowerblue",
          "width": 0.33635856610148585
         },
         "mode": "lines",
         "type": "scatter",
         "x": [
          0.3812535581236627,
          -0.08831814137873804,
          null
         ],
         "y": [
          0.6970370422703416,
          0.4736060180626573,
          null
         ]
        },
        {
         "line": {
          "color": "cornflowerblue",
          "width": 0.33635856610148585
         },
         "mode": "lines",
         "type": "scatter",
         "x": [
          0.3812535581236627,
          0.7179928516099849,
          null
         ],
         "y": [
          0.6970370422703416,
          0.4719228285088163,
          null
         ]
        },
        {
         "line": {
          "color": "cornflowerblue",
          "width": 0.1
         },
         "mode": "lines",
         "type": "scatter",
         "x": [
          0.3812535581236627,
          -0.15789430097199458,
          null
         ],
         "y": [
          0.6970370422703416,
          -0.49229196710917805,
          null
         ]
        },
        {
         "line": {
          "color": "cornflowerblue",
          "width": 0.1
         },
         "mode": "lines",
         "type": "scatter",
         "x": [
          0.3812535581236627,
          -0.3751653402635965,
          null
         ],
         "y": [
          0.6970370422703416,
          -0.1799438820629479,
          null
         ]
        },
        {
         "line": {
          "color": "cornflowerblue",
          "width": 0.1
         },
         "mode": "lines",
         "type": "scatter",
         "x": [
          0.3812535581236627,
          0.2630848967001795,
          null
         ],
         "y": [
          0.6970370422703416,
          -0.675517178516147,
          null
         ]
        },
        {
         "line": {
          "color": "cornflowerblue",
          "width": 0.33635856610148585
         },
         "mode": "lines",
         "type": "scatter",
         "x": [
          0.2630848967001795,
          -0.15789430097199458,
          null
         ],
         "y": [
          -0.675517178516147,
          -0.49229196710917805,
          null
         ]
        },
        {
         "line": {
          "color": "cornflowerblue",
          "width": 0.1
         },
         "mode": "lines",
         "type": "scatter",
         "x": [
          0.2630848967001795,
          -0.8259621809897474,
          null
         ],
         "y": [
          -0.675517178516147,
          -0.615791266454315,
          null
         ]
        },
        {
         "line": {
          "color": "cornflowerblue",
          "width": 0.1
         },
         "mode": "lines",
         "type": "scatter",
         "x": [
          0.2630848967001795,
          -1,
          null
         ],
         "y": [
          -0.675517178516147,
          -0.09727526898035725,
          null
         ]
        },
        {
         "line": {
          "color": "cornflowerblue",
          "width": 0.33635856610148585
         },
         "mode": "lines",
         "type": "scatter",
         "x": [
          0.2630848967001795,
          -0.3751653402635965,
          null
         ],
         "y": [
          -0.675517178516147,
          -0.1799438820629479,
          null
         ]
        },
        {
         "line": {
          "color": "cornflowerblue",
          "width": 0.1
         },
         "mode": "lines",
         "type": "scatter",
         "x": [
          0.2630848967001795,
          0.7179928516099849,
          null
         ],
         "y": [
          -0.675517178516147,
          0.4719228285088163,
          null
         ]
        },
        {
         "line": {
          "color": "cornflowerblue",
          "width": 0.1
         },
         "mode": "lines",
         "type": "scatter",
         "x": [
          0.2630848967001795,
          -0.08831814137873804,
          null
         ],
         "y": [
          -0.675517178516147,
          0.4736060180626573,
          null
         ]
        },
        {
         "line": {
          "color": "cornflowerblue",
          "width": 0.33635856610148585
         },
         "mode": "lines",
         "type": "scatter",
         "x": [
          -0.15789430097199458,
          -0.8259621809897474,
          null
         ],
         "y": [
          -0.49229196710917805,
          -0.615791266454315,
          null
         ]
        },
        {
         "line": {
          "color": "cornflowerblue",
          "width": 0.33635856610148585
         },
         "mode": "lines",
         "type": "scatter",
         "x": [
          -0.15789430097199458,
          -1,
          null
         ],
         "y": [
          -0.49229196710917805,
          -0.09727526898035725,
          null
         ]
        },
        {
         "line": {
          "color": "cornflowerblue",
          "width": 0.6838521170864333
         },
         "mode": "lines",
         "type": "scatter",
         "x": [
          -0.15789430097199458,
          -0.3751653402635965,
          null
         ],
         "y": [
          -0.49229196710917805,
          -0.1799438820629479,
          null
         ]
        },
        {
         "line": {
          "color": "cornflowerblue",
          "width": 0.33635856610148585
         },
         "mode": "lines",
         "type": "scatter",
         "x": [
          -0.15789430097199458,
          -0.08831814137873804,
          null
         ],
         "y": [
          -0.49229196710917805,
          0.4736060180626573,
          null
         ]
        },
        {
         "line": {
          "color": "cornflowerblue",
          "width": 0.1
         },
         "mode": "lines",
         "type": "scatter",
         "x": [
          -0.15789430097199458,
          0.7179928516099849,
          null
         ],
         "y": [
          -0.49229196710917805,
          0.4719228285088163,
          null
         ]
        },
        {
         "line": {
          "color": "cornflowerblue",
          "width": 0.6838521170864333
         },
         "mode": "lines",
         "type": "scatter",
         "x": [
          -0.8259621809897474,
          -1,
          null
         ],
         "y": [
          -0.615791266454315,
          -0.09727526898035725,
          null
         ]
        },
        {
         "line": {
          "color": "cornflowerblue",
          "width": 0.33635856610148585
         },
         "mode": "lines",
         "type": "scatter",
         "x": [
          -0.8259621809897474,
          -0.3751653402635965,
          null
         ],
         "y": [
          -0.615791266454315,
          -0.1799438820629479,
          null
         ]
        },
        {
         "line": {
          "color": "cornflowerblue",
          "width": 0.1
         },
         "mode": "lines",
         "type": "scatter",
         "x": [
          -0.8259621809897474,
          -0.08831814137873804,
          null
         ],
         "y": [
          -0.615791266454315,
          0.4736060180626573,
          null
         ]
        },
        {
         "line": {
          "color": "cornflowerblue",
          "width": 0.33635856610148585
         },
         "mode": "lines",
         "type": "scatter",
         "x": [
          -1,
          -0.3751653402635965,
          null
         ],
         "y": [
          -0.09727526898035725,
          -0.1799438820629479,
          null
         ]
        },
        {
         "line": {
          "color": "cornflowerblue",
          "width": 0.1
         },
         "mode": "lines",
         "type": "scatter",
         "x": [
          -1,
          -0.08831814137873804,
          null
         ],
         "y": [
          -0.09727526898035725,
          0.4736060180626573,
          null
         ]
        },
        {
         "line": {
          "color": "cornflowerblue",
          "width": 0.33635856610148585
         },
         "mode": "lines",
         "type": "scatter",
         "x": [
          -0.3751653402635965,
          -0.08831814137873804,
          null
         ],
         "y": [
          -0.1799438820629479,
          0.4736060180626573,
          null
         ]
        },
        {
         "line": {
          "color": "cornflowerblue",
          "width": 0.1
         },
         "mode": "lines",
         "type": "scatter",
         "x": [
          -0.3751653402635965,
          0.7179928516099849,
          null
         ],
         "y": [
          -0.1799438820629479,
          0.4719228285088163,
          null
         ]
        },
        {
         "line": {
          "color": "cornflowerblue",
          "width": 0.33635856610148585
         },
         "mode": "lines",
         "type": "scatter",
         "x": [
          -0.08831814137873804,
          0.7179928516099849,
          null
         ],
         "y": [
          0.4736060180626573,
          0.4719228285088163,
          null
         ]
        },
        {
         "hoverinfo": "none",
         "marker": {
          "color": [
           "cornflowerblue",
           "cornflowerblue",
           "cornflowerblue",
           "cornflowerblue",
           "cornflowerblue",
           "cornflowerblue",
           "cornflowerblue",
           "cornflowerblue",
           "cornflowerblue",
           "cornflowerblue",
           "cornflowerblue",
           "cornflowerblue",
           "cornflowerblue",
           "cornflowerblue"
          ],
          "size": [
           7.800000000000001,
           3,
           3,
           7.800000000000001,
           4.6,
           7.800000000000001,
           7,
           5.4,
           6.2,
           3,
           3,
           4.6,
           6.2,
           7.800000000000001
          ]
         },
         "mode": "markers+text",
         "text": [
          "<b>Deutschland</b>",
          "<b>Straße</b>",
          "<b>Hongkong</b>",
          "<b>USA</b>",
          "<b>Bürger</b>",
          "<b>Europa</b>",
          "<b>Coronavirus-Pandemie</b>",
          "<b>Corona</b>",
          "<b>den USA</b>",
          "<b>Pfizer</b>",
          "<b>Moderna</b>",
          "<b>EU</b>",
          "<b>Staaten</b>",
          "<b>Coronavirus</b>"
         ],
         "textfont": {
          "size": 9
         },
         "textposition": "top center",
         "type": "scatter",
         "x": [
          0.17467945229048606,
          0.7724412096658002,
          -0.5264134145664416,
          0.12962776697794517,
          0.8103245290362157,
          -0.2756508862337576,
          0.3812535581236627,
          0.2630848967001795,
          -0.15789430097199458,
          -0.8259621809897474,
          -1,
          -0.3751653402635965,
          -0.08831814137873804,
          0.7179928516099849
         ],
         "y": [
          0.14430447014026024,
          0.056429640119353815,
          0.6586399267697444,
          -0.2202079719511623,
          -0.36545067520959107,
          0.1445382844125225,
          0.6970370422703416,
          -0.675517178516147,
          -0.49229196710917805,
          -0.615791266454315,
          -0.09727526898035725,
          -0.1799438820629479,
          0.4736060180626573,
          0.4719228285088163
         ]
        }
       ],
       "layout": {
        "paper_bgcolor": "rgba(0,0,0,0)",
        "plot_bgcolor": "rgba(0,0,0,0)",
        "showlegend": false,
        "template": {
         "data": {
          "bar": [
           {
            "error_x": {
             "color": "#2a3f5f"
            },
            "error_y": {
             "color": "#2a3f5f"
            },
            "marker": {
             "line": {
              "color": "#E5ECF6",
              "width": 0.5
             }
            },
            "type": "bar"
           }
          ],
          "barpolar": [
           {
            "marker": {
             "line": {
              "color": "#E5ECF6",
              "width": 0.5
             }
            },
            "type": "barpolar"
           }
          ],
          "carpet": [
           {
            "aaxis": {
             "endlinecolor": "#2a3f5f",
             "gridcolor": "white",
             "linecolor": "white",
             "minorgridcolor": "white",
             "startlinecolor": "#2a3f5f"
            },
            "baxis": {
             "endlinecolor": "#2a3f5f",
             "gridcolor": "white",
             "linecolor": "white",
             "minorgridcolor": "white",
             "startlinecolor": "#2a3f5f"
            },
            "type": "carpet"
           }
          ],
          "choropleth": [
           {
            "colorbar": {
             "outlinewidth": 0,
             "ticks": ""
            },
            "type": "choropleth"
           }
          ],
          "contour": [
           {
            "colorbar": {
             "outlinewidth": 0,
             "ticks": ""
            },
            "colorscale": [
             [
              0,
              "#0d0887"
             ],
             [
              0.1111111111111111,
              "#46039f"
             ],
             [
              0.2222222222222222,
              "#7201a8"
             ],
             [
              0.3333333333333333,
              "#9c179e"
             ],
             [
              0.4444444444444444,
              "#bd3786"
             ],
             [
              0.5555555555555556,
              "#d8576b"
             ],
             [
              0.6666666666666666,
              "#ed7953"
             ],
             [
              0.7777777777777778,
              "#fb9f3a"
             ],
             [
              0.8888888888888888,
              "#fdca26"
             ],
             [
              1,
              "#f0f921"
             ]
            ],
            "type": "contour"
           }
          ],
          "contourcarpet": [
           {
            "colorbar": {
             "outlinewidth": 0,
             "ticks": ""
            },
            "type": "contourcarpet"
           }
          ],
          "heatmap": [
           {
            "colorbar": {
             "outlinewidth": 0,
             "ticks": ""
            },
            "colorscale": [
             [
              0,
              "#0d0887"
             ],
             [
              0.1111111111111111,
              "#46039f"
             ],
             [
              0.2222222222222222,
              "#7201a8"
             ],
             [
              0.3333333333333333,
              "#9c179e"
             ],
             [
              0.4444444444444444,
              "#bd3786"
             ],
             [
              0.5555555555555556,
              "#d8576b"
             ],
             [
              0.6666666666666666,
              "#ed7953"
             ],
             [
              0.7777777777777778,
              "#fb9f3a"
             ],
             [
              0.8888888888888888,
              "#fdca26"
             ],
             [
              1,
              "#f0f921"
             ]
            ],
            "type": "heatmap"
           }
          ],
          "heatmapgl": [
           {
            "colorbar": {
             "outlinewidth": 0,
             "ticks": ""
            },
            "colorscale": [
             [
              0,
              "#0d0887"
             ],
             [
              0.1111111111111111,
              "#46039f"
             ],
             [
              0.2222222222222222,
              "#7201a8"
             ],
             [
              0.3333333333333333,
              "#9c179e"
             ],
             [
              0.4444444444444444,
              "#bd3786"
             ],
             [
              0.5555555555555556,
              "#d8576b"
             ],
             [
              0.6666666666666666,
              "#ed7953"
             ],
             [
              0.7777777777777778,
              "#fb9f3a"
             ],
             [
              0.8888888888888888,
              "#fdca26"
             ],
             [
              1,
              "#f0f921"
             ]
            ],
            "type": "heatmapgl"
           }
          ],
          "histogram": [
           {
            "marker": {
             "colorbar": {
              "outlinewidth": 0,
              "ticks": ""
             }
            },
            "type": "histogram"
           }
          ],
          "histogram2d": [
           {
            "colorbar": {
             "outlinewidth": 0,
             "ticks": ""
            },
            "colorscale": [
             [
              0,
              "#0d0887"
             ],
             [
              0.1111111111111111,
              "#46039f"
             ],
             [
              0.2222222222222222,
              "#7201a8"
             ],
             [
              0.3333333333333333,
              "#9c179e"
             ],
             [
              0.4444444444444444,
              "#bd3786"
             ],
             [
              0.5555555555555556,
              "#d8576b"
             ],
             [
              0.6666666666666666,
              "#ed7953"
             ],
             [
              0.7777777777777778,
              "#fb9f3a"
             ],
             [
              0.8888888888888888,
              "#fdca26"
             ],
             [
              1,
              "#f0f921"
             ]
            ],
            "type": "histogram2d"
           }
          ],
          "histogram2dcontour": [
           {
            "colorbar": {
             "outlinewidth": 0,
             "ticks": ""
            },
            "colorscale": [
             [
              0,
              "#0d0887"
             ],
             [
              0.1111111111111111,
              "#46039f"
             ],
             [
              0.2222222222222222,
              "#7201a8"
             ],
             [
              0.3333333333333333,
              "#9c179e"
             ],
             [
              0.4444444444444444,
              "#bd3786"
             ],
             [
              0.5555555555555556,
              "#d8576b"
             ],
             [
              0.6666666666666666,
              "#ed7953"
             ],
             [
              0.7777777777777778,
              "#fb9f3a"
             ],
             [
              0.8888888888888888,
              "#fdca26"
             ],
             [
              1,
              "#f0f921"
             ]
            ],
            "type": "histogram2dcontour"
           }
          ],
          "mesh3d": [
           {
            "colorbar": {
             "outlinewidth": 0,
             "ticks": ""
            },
            "type": "mesh3d"
           }
          ],
          "parcoords": [
           {
            "line": {
             "colorbar": {
              "outlinewidth": 0,
              "ticks": ""
             }
            },
            "type": "parcoords"
           }
          ],
          "pie": [
           {
            "automargin": true,
            "type": "pie"
           }
          ],
          "scatter": [
           {
            "marker": {
             "colorbar": {
              "outlinewidth": 0,
              "ticks": ""
             }
            },
            "type": "scatter"
           }
          ],
          "scatter3d": [
           {
            "line": {
             "colorbar": {
              "outlinewidth": 0,
              "ticks": ""
             }
            },
            "marker": {
             "colorbar": {
              "outlinewidth": 0,
              "ticks": ""
             }
            },
            "type": "scatter3d"
           }
          ],
          "scattercarpet": [
           {
            "marker": {
             "colorbar": {
              "outlinewidth": 0,
              "ticks": ""
             }
            },
            "type": "scattercarpet"
           }
          ],
          "scattergeo": [
           {
            "marker": {
             "colorbar": {
              "outlinewidth": 0,
              "ticks": ""
             }
            },
            "type": "scattergeo"
           }
          ],
          "scattergl": [
           {
            "marker": {
             "colorbar": {
              "outlinewidth": 0,
              "ticks": ""
             }
            },
            "type": "scattergl"
           }
          ],
          "scattermapbox": [
           {
            "marker": {
             "colorbar": {
              "outlinewidth": 0,
              "ticks": ""
             }
            },
            "type": "scattermapbox"
           }
          ],
          "scatterpolar": [
           {
            "marker": {
             "colorbar": {
              "outlinewidth": 0,
              "ticks": ""
             }
            },
            "type": "scatterpolar"
           }
          ],
          "scatterpolargl": [
           {
            "marker": {
             "colorbar": {
              "outlinewidth": 0,
              "ticks": ""
             }
            },
            "type": "scatterpolargl"
           }
          ],
          "scatterternary": [
           {
            "marker": {
             "colorbar": {
              "outlinewidth": 0,
              "ticks": ""
             }
            },
            "type": "scatterternary"
           }
          ],
          "surface": [
           {
            "colorbar": {
             "outlinewidth": 0,
             "ticks": ""
            },
            "colorscale": [
             [
              0,
              "#0d0887"
             ],
             [
              0.1111111111111111,
              "#46039f"
             ],
             [
              0.2222222222222222,
              "#7201a8"
             ],
             [
              0.3333333333333333,
              "#9c179e"
             ],
             [
              0.4444444444444444,
              "#bd3786"
             ],
             [
              0.5555555555555556,
              "#d8576b"
             ],
             [
              0.6666666666666666,
              "#ed7953"
             ],
             [
              0.7777777777777778,
              "#fb9f3a"
             ],
             [
              0.8888888888888888,
              "#fdca26"
             ],
             [
              1,
              "#f0f921"
             ]
            ],
            "type": "surface"
           }
          ],
          "table": [
           {
            "cells": {
             "fill": {
              "color": "#EBF0F8"
             },
             "line": {
              "color": "white"
             }
            },
            "header": {
             "fill": {
              "color": "#C8D4E3"
             },
             "line": {
              "color": "white"
             }
            },
            "type": "table"
           }
          ]
         },
         "layout": {
          "annotationdefaults": {
           "arrowcolor": "#2a3f5f",
           "arrowhead": 0,
           "arrowwidth": 1
          },
          "coloraxis": {
           "colorbar": {
            "outlinewidth": 0,
            "ticks": ""
           }
          },
          "colorscale": {
           "diverging": [
            [
             0,
             "#8e0152"
            ],
            [
             0.1,
             "#c51b7d"
            ],
            [
             0.2,
             "#de77ae"
            ],
            [
             0.3,
             "#f1b6da"
            ],
            [
             0.4,
             "#fde0ef"
            ],
            [
             0.5,
             "#f7f7f7"
            ],
            [
             0.6,
             "#e6f5d0"
            ],
            [
             0.7,
             "#b8e186"
            ],
            [
             0.8,
             "#7fbc41"
            ],
            [
             0.9,
             "#4d9221"
            ],
            [
             1,
             "#276419"
            ]
           ],
           "sequential": [
            [
             0,
             "#0d0887"
            ],
            [
             0.1111111111111111,
             "#46039f"
            ],
            [
             0.2222222222222222,
             "#7201a8"
            ],
            [
             0.3333333333333333,
             "#9c179e"
            ],
            [
             0.4444444444444444,
             "#bd3786"
            ],
            [
             0.5555555555555556,
             "#d8576b"
            ],
            [
             0.6666666666666666,
             "#ed7953"
            ],
            [
             0.7777777777777778,
             "#fb9f3a"
            ],
            [
             0.8888888888888888,
             "#fdca26"
            ],
            [
             1,
             "#f0f921"
            ]
           ],
           "sequentialminus": [
            [
             0,
             "#0d0887"
            ],
            [
             0.1111111111111111,
             "#46039f"
            ],
            [
             0.2222222222222222,
             "#7201a8"
            ],
            [
             0.3333333333333333,
             "#9c179e"
            ],
            [
             0.4444444444444444,
             "#bd3786"
            ],
            [
             0.5555555555555556,
             "#d8576b"
            ],
            [
             0.6666666666666666,
             "#ed7953"
            ],
            [
             0.7777777777777778,
             "#fb9f3a"
            ],
            [
             0.8888888888888888,
             "#fdca26"
            ],
            [
             1,
             "#f0f921"
            ]
           ]
          },
          "colorway": [
           "#636efa",
           "#EF553B",
           "#00cc96",
           "#ab63fa",
           "#FFA15A",
           "#19d3f3",
           "#FF6692",
           "#B6E880",
           "#FF97FF",
           "#FECB52"
          ],
          "font": {
           "color": "#2a3f5f"
          },
          "geo": {
           "bgcolor": "white",
           "lakecolor": "white",
           "landcolor": "#E5ECF6",
           "showlakes": true,
           "showland": true,
           "subunitcolor": "white"
          },
          "hoverlabel": {
           "align": "left"
          },
          "hovermode": "closest",
          "mapbox": {
           "style": "light"
          },
          "paper_bgcolor": "white",
          "plot_bgcolor": "#E5ECF6",
          "polar": {
           "angularaxis": {
            "gridcolor": "white",
            "linecolor": "white",
            "ticks": ""
           },
           "bgcolor": "#E5ECF6",
           "radialaxis": {
            "gridcolor": "white",
            "linecolor": "white",
            "ticks": ""
           }
          },
          "scene": {
           "xaxis": {
            "backgroundcolor": "#E5ECF6",
            "gridcolor": "white",
            "gridwidth": 2,
            "linecolor": "white",
            "showbackground": true,
            "ticks": "",
            "zerolinecolor": "white"
           },
           "yaxis": {
            "backgroundcolor": "#E5ECF6",
            "gridcolor": "white",
            "gridwidth": 2,
            "linecolor": "white",
            "showbackground": true,
            "ticks": "",
            "zerolinecolor": "white"
           },
           "zaxis": {
            "backgroundcolor": "#E5ECF6",
            "gridcolor": "white",
            "gridwidth": 2,
            "linecolor": "white",
            "showbackground": true,
            "ticks": "",
            "zerolinecolor": "white"
           }
          },
          "shapedefaults": {
           "line": {
            "color": "#2a3f5f"
           }
          },
          "ternary": {
           "aaxis": {
            "gridcolor": "white",
            "linecolor": "white",
            "ticks": ""
           },
           "baxis": {
            "gridcolor": "white",
            "linecolor": "white",
            "ticks": ""
           },
           "bgcolor": "#E5ECF6",
           "caxis": {
            "gridcolor": "white",
            "linecolor": "white",
            "ticks": ""
           }
          },
          "title": {
           "x": 0.05
          },
          "xaxis": {
           "automargin": true,
           "gridcolor": "white",
           "linecolor": "white",
           "ticks": "",
           "title": {
            "standoff": 15
           },
           "zerolinecolor": "white",
           "zerolinewidth": 2
          },
          "yaxis": {
           "automargin": true,
           "gridcolor": "white",
           "linecolor": "white",
           "ticks": "",
           "title": {
            "standoff": 15
           },
           "zerolinecolor": "white",
           "zerolinewidth": 2
          }
         }
        },
        "xaxis": {
         "showgrid": false,
         "showticklabels": false,
         "zeroline": false
        },
        "yaxis": {
         "showgrid": false,
         "showticklabels": false,
         "zeroline": false
        }
       }
      },
      "text/html": [
       "<div>                            <div id=\"a7e7f3f2-eeb8-4883-9875-0cd7670289c2\" class=\"plotly-graph-div\" style=\"height:525px; width:100%;\"></div>            <script type=\"text/javascript\">                require([\"plotly\"], function(Plotly) {                    window.PLOTLYENV=window.PLOTLYENV || {};                                    if (document.getElementById(\"a7e7f3f2-eeb8-4883-9875-0cd7670289c2\")) {                    Plotly.newPlot(                        \"a7e7f3f2-eeb8-4883-9875-0cd7670289c2\",                        [{\"line\": {\"color\": \"cornflowerblue\", \"width\": 0.33635856610148585}, \"mode\": \"lines\", \"type\": \"scatter\", \"x\": [0.17467945229048606, 0.7724412096658002, null], \"y\": [0.14430447014026024, 0.056429640119353815, null]}, {\"line\": {\"color\": \"cornflowerblue\", \"width\": 0.33635856610148585}, \"mode\": \"lines\", \"type\": \"scatter\", \"x\": [0.17467945229048606, -0.5264134145664416, null], \"y\": [0.14430447014026024, 0.6586399267697444, null]}, {\"line\": {\"color\": \"cornflowerblue\", \"width\": 0.6838521170864333}, \"mode\": \"lines\", \"type\": \"scatter\", \"x\": [0.17467945229048606, 0.12962776697794517, null], \"y\": [0.14430447014026024, -0.2202079719511623, null]}, {\"line\": {\"color\": \"cornflowerblue\", \"width\": 0.33635856610148585}, \"mode\": \"lines\", \"type\": \"scatter\", \"x\": [0.17467945229048606, 0.8103245290362157, null], \"y\": [0.14430447014026024, -0.36545067520959107, null]}, {\"line\": {\"color\": \"cornflowerblue\", \"width\": 0.6838521170864333}, \"mode\": \"lines\", \"type\": \"scatter\", \"x\": [0.17467945229048606, -0.2756508862337576, null], \"y\": [0.14430447014026024, 0.1445382844125225, null]}, {\"line\": {\"color\": \"cornflowerblue\", \"width\": 0.33635856610148585}, \"mode\": \"lines\", \"type\": \"scatter\", \"x\": [0.17467945229048606, 0.3812535581236627, null], \"y\": [0.14430447014026024, 0.6970370422703416, null]}, {\"line\": {\"color\": \"cornflowerblue\", \"width\": 0.33635856610148585}, \"mode\": \"lines\", \"type\": \"scatter\", \"x\": [0.17467945229048606, -0.08831814137873804, null], \"y\": [0.14430447014026024, 0.4736060180626573, null]}, {\"line\": {\"color\": \"cornflowerblue\", \"width\": 0.33635856610148585}, \"mode\": \"lines\", \"type\": \"scatter\", \"x\": [0.17467945229048606, -0.15789430097199458, null], \"y\": [0.14430447014026024, -0.49229196710917805, null]}, {\"line\": {\"color\": \"cornflowerblue\", \"width\": 0.1}, \"mode\": \"lines\", \"type\": \"scatter\", \"x\": [0.17467945229048606, -0.8259621809897474, null], \"y\": [0.14430447014026024, -0.615791266454315, null]}, {\"line\": {\"color\": \"cornflowerblue\", \"width\": 0.1}, \"mode\": \"lines\", \"type\": \"scatter\", \"x\": [0.17467945229048606, -1.0, null], \"y\": [0.14430447014026024, -0.09727526898035725, null]}, {\"line\": {\"color\": \"cornflowerblue\", \"width\": 0.33635856610148585}, \"mode\": \"lines\", \"type\": \"scatter\", \"x\": [0.17467945229048606, -0.3751653402635965, null], \"y\": [0.14430447014026024, -0.1799438820629479, null]}, {\"line\": {\"color\": \"cornflowerblue\", \"width\": 0.1}, \"mode\": \"lines\", \"type\": \"scatter\", \"x\": [0.17467945229048606, 0.2630848967001795, null], \"y\": [0.14430447014026024, -0.675517178516147, null]}, {\"line\": {\"color\": \"cornflowerblue\", \"width\": 0.1}, \"mode\": \"lines\", \"type\": \"scatter\", \"x\": [0.17467945229048606, 0.7179928516099849, null], \"y\": [0.14430447014026024, 0.4719228285088163, null]}, {\"line\": {\"color\": \"cornflowerblue\", \"width\": 0.1}, \"mode\": \"lines\", \"type\": \"scatter\", \"x\": [0.7724412096658002, -0.5264134145664416, null], \"y\": [0.056429640119353815, 0.6586399267697444, null]}, {\"line\": {\"color\": \"cornflowerblue\", \"width\": 0.6838521170864333}, \"mode\": \"lines\", \"type\": \"scatter\", \"x\": [0.7724412096658002, 0.12962776697794517, null], \"y\": [0.056429640119353815, -0.2202079719511623, null]}, {\"line\": {\"color\": \"cornflowerblue\", \"width\": 0.33635856610148585}, \"mode\": \"lines\", \"type\": \"scatter\", \"x\": [0.7724412096658002, 0.8103245290362157, null], \"y\": [0.056429640119353815, -0.36545067520959107, null]}, {\"line\": {\"color\": \"cornflowerblue\", \"width\": 0.33635856610148585}, \"mode\": \"lines\", \"type\": \"scatter\", \"x\": [0.7724412096658002, 0.2630848967001795, null], \"y\": [0.056429640119353815, -0.675517178516147, null]}, {\"line\": {\"color\": \"cornflowerblue\", \"width\": 0.1}, \"mode\": \"lines\", \"type\": \"scatter\", \"x\": [0.7724412096658002, -0.15789430097199458, null], \"y\": [0.056429640119353815, -0.49229196710917805, null]}, {\"line\": {\"color\": \"cornflowerblue\", \"width\": 0.1}, \"mode\": \"lines\", \"type\": \"scatter\", \"x\": [0.7724412096658002, -0.3751653402635965, null], \"y\": [0.056429640119353815, -0.1799438820629479, null]}, {\"line\": {\"color\": \"cornflowerblue\", \"width\": 0.1}, \"mode\": \"lines\", \"type\": \"scatter\", \"x\": [0.7724412096658002, 0.3812535581236627, null], \"y\": [0.056429640119353815, 0.6970370422703416, null]}, {\"line\": {\"color\": \"cornflowerblue\", \"width\": 0.1}, \"mode\": \"lines\", \"type\": \"scatter\", \"x\": [0.7724412096658002, 0.7179928516099849, null], \"y\": [0.056429640119353815, 0.4719228285088163, null]}, {\"line\": {\"color\": \"cornflowerblue\", \"width\": 0.1}, \"mode\": \"lines\", \"type\": \"scatter\", \"x\": [0.7724412096658002, -0.2756508862337576, null], \"y\": [0.056429640119353815, 0.1445382844125225, null]}, {\"line\": {\"color\": \"cornflowerblue\", \"width\": 0.1}, \"mode\": \"lines\", \"type\": \"scatter\", \"x\": [0.7724412096658002, -0.08831814137873804, null], \"y\": [0.056429640119353815, 0.4736060180626573, null]}, {\"line\": {\"color\": \"cornflowerblue\", \"width\": 0.33635856610148585}, \"mode\": \"lines\", \"type\": \"scatter\", \"x\": [-0.5264134145664416, 0.12962776697794517, null], \"y\": [0.6586399267697444, -0.2202079719511623, null]}, {\"line\": {\"color\": \"cornflowerblue\", \"width\": 0.33635856610148585}, \"mode\": \"lines\", \"type\": \"scatter\", \"x\": [-0.5264134145664416, -0.08831814137873804, null], \"y\": [0.6586399267697444, 0.4736060180626573, null]}, {\"line\": {\"color\": \"cornflowerblue\", \"width\": 0.1}, \"mode\": \"lines\", \"type\": \"scatter\", \"x\": [-0.5264134145664416, -0.15789430097199458, null], \"y\": [0.6586399267697444, -0.49229196710917805, null]}, {\"line\": {\"color\": \"cornflowerblue\", \"width\": 0.1}, \"mode\": \"lines\", \"type\": \"scatter\", \"x\": [-0.5264134145664416, -0.8259621809897474, null], \"y\": [0.6586399267697444, -0.615791266454315, null]}, {\"line\": {\"color\": \"cornflowerblue\", \"width\": 0.1}, \"mode\": \"lines\", \"type\": \"scatter\", \"x\": [-0.5264134145664416, -1.0, null], \"y\": [0.6586399267697444, -0.09727526898035725, null]}, {\"line\": {\"color\": \"cornflowerblue\", \"width\": 0.1}, \"mode\": \"lines\", \"type\": \"scatter\", \"x\": [-0.5264134145664416, -0.3751653402635965, null], \"y\": [0.6586399267697444, -0.1799438820629479, null]}, {\"line\": {\"color\": \"cornflowerblue\", \"width\": 0.1}, \"mode\": \"lines\", \"type\": \"scatter\", \"x\": [-0.5264134145664416, 0.7179928516099849, null], \"y\": [0.6586399267697444, 0.4719228285088163, null]}, {\"line\": {\"color\": \"cornflowerblue\", \"width\": 0.1}, \"mode\": \"lines\", \"type\": \"scatter\", \"x\": [-0.5264134145664416, 0.3812535581236627, null], \"y\": [0.6586399267697444, 0.6970370422703416, null]}, {\"line\": {\"color\": \"cornflowerblue\", \"width\": 0.6838521170864333}, \"mode\": \"lines\", \"type\": \"scatter\", \"x\": [0.12962776697794517, 0.2630848967001795, null], \"y\": [-0.2202079719511623, -0.675517178516147, null]}, {\"line\": {\"color\": \"cornflowerblue\", \"width\": 0.6838521170864333}, \"mode\": \"lines\", \"type\": \"scatter\", \"x\": [0.12962776697794517, -0.15789430097199458, null], \"y\": [-0.2202079719511623, -0.49229196710917805, null]}, {\"line\": {\"color\": \"cornflowerblue\", \"width\": 0.33635856610148585}, \"mode\": \"lines\", \"type\": \"scatter\", \"x\": [0.12962776697794517, -0.2756508862337576, null], \"y\": [-0.2202079719511623, 0.1445382844125225, null]}, {\"line\": {\"color\": \"cornflowerblue\", \"width\": 0.33635856610148585}, \"mode\": \"lines\", \"type\": \"scatter\", \"x\": [0.12962776697794517, -0.8259621809897474, null], \"y\": [-0.2202079719511623, -0.615791266454315, null]}, {\"line\": {\"color\": \"cornflowerblue\", \"width\": 0.33635856610148585}, \"mode\": \"lines\", \"type\": \"scatter\", \"x\": [0.12962776697794517, -1.0, null], \"y\": [-0.2202079719511623, -0.09727526898035725, null]}, {\"line\": {\"color\": \"cornflowerblue\", \"width\": 0.6838521170864333}, \"mode\": \"lines\", \"type\": \"scatter\", \"x\": [0.12962776697794517, -0.3751653402635965, null], \"y\": [-0.2202079719511623, -0.1799438820629479, null]}, {\"line\": {\"color\": \"cornflowerblue\", \"width\": 0.33635856610148585}, \"mode\": \"lines\", \"type\": \"scatter\", \"x\": [0.12962776697794517, -0.08831814137873804, null], \"y\": [-0.2202079719511623, 0.4736060180626573, null]}, {\"line\": {\"color\": \"cornflowerblue\", \"width\": 0.33635856610148585}, \"mode\": \"lines\", \"type\": \"scatter\", \"x\": [0.12962776697794517, 0.8103245290362157, null], \"y\": [-0.2202079719511623, -0.36545067520959107, null]}, {\"line\": {\"color\": \"cornflowerblue\", \"width\": 0.1}, \"mode\": \"lines\", \"type\": \"scatter\", \"x\": [0.12962776697794517, 0.3812535581236627, null], \"y\": [-0.2202079719511623, 0.6970370422703416, null]}, {\"line\": {\"color\": \"cornflowerblue\", \"width\": 0.1}, \"mode\": \"lines\", \"type\": \"scatter\", \"x\": [0.12962776697794517, 0.7179928516099849, null], \"y\": [-0.2202079719511623, 0.4719228285088163, null]}, {\"line\": {\"color\": \"cornflowerblue\", \"width\": 0.33635856610148585}, \"mode\": \"lines\", \"type\": \"scatter\", \"x\": [0.8103245290362157, -0.2756508862337576, null], \"y\": [-0.36545067520959107, 0.1445382844125225, null]}, {\"line\": {\"color\": \"cornflowerblue\", \"width\": 0.33635856610148585}, \"mode\": \"lines\", \"type\": \"scatter\", \"x\": [0.8103245290362157, 0.3812535581236627, null], \"y\": [-0.36545067520959107, 0.6970370422703416, null]}, {\"line\": {\"color\": \"cornflowerblue\", \"width\": 0.33635856610148585}, \"mode\": \"lines\", \"type\": \"scatter\", \"x\": [0.8103245290362157, 0.2630848967001795, null], \"y\": [-0.36545067520959107, -0.675517178516147, null]}, {\"line\": {\"color\": \"cornflowerblue\", \"width\": 0.1}, \"mode\": \"lines\", \"type\": \"scatter\", \"x\": [0.8103245290362157, -0.15789430097199458, null], \"y\": [-0.36545067520959107, -0.49229196710917805, null]}, {\"line\": {\"color\": \"cornflowerblue\", \"width\": 0.1}, \"mode\": \"lines\", \"type\": \"scatter\", \"x\": [0.8103245290362157, -0.3751653402635965, null], \"y\": [-0.36545067520959107, -0.1799438820629479, null]}, {\"line\": {\"color\": \"cornflowerblue\", \"width\": 0.1}, \"mode\": \"lines\", \"type\": \"scatter\", \"x\": [0.8103245290362157, 0.7179928516099849, null], \"y\": [-0.36545067520959107, 0.4719228285088163, null]}, {\"line\": {\"color\": \"cornflowerblue\", \"width\": 0.1}, \"mode\": \"lines\", \"type\": \"scatter\", \"x\": [0.8103245290362157, -0.08831814137873804, null], \"y\": [-0.36545067520959107, 0.4736060180626573, null]}, {\"line\": {\"color\": \"cornflowerblue\", \"width\": 0.33635856610148585}, \"mode\": \"lines\", \"type\": \"scatter\", \"x\": [-0.2756508862337576, 0.3812535581236627, null], \"y\": [0.1445382844125225, 0.6970370422703416, null]}, {\"line\": {\"color\": \"cornflowerblue\", \"width\": 0.33635856610148585}, \"mode\": \"lines\", \"type\": \"scatter\", \"x\": [-0.2756508862337576, 0.2630848967001795, null], \"y\": [0.1445382844125225, -0.675517178516147, null]}, {\"line\": {\"color\": \"cornflowerblue\", \"width\": 0.33635856610148585}, \"mode\": \"lines\", \"type\": \"scatter\", \"x\": [-0.2756508862337576, -0.15789430097199458, null], \"y\": [0.1445382844125225, -0.49229196710917805, null]}, {\"line\": {\"color\": \"cornflowerblue\", \"width\": 0.1}, \"mode\": \"lines\", \"type\": \"scatter\", \"x\": [-0.2756508862337576, -0.8259621809897474, null], \"y\": [0.1445382844125225, -0.615791266454315, null]}, {\"line\": {\"color\": \"cornflowerblue\", \"width\": 0.1}, \"mode\": \"lines\", \"type\": \"scatter\", \"x\": [-0.2756508862337576, -1.0, null], \"y\": [0.1445382844125225, -0.09727526898035725, null]}, {\"line\": {\"color\": \"cornflowerblue\", \"width\": 0.33635856610148585}, \"mode\": \"lines\", \"type\": \"scatter\", \"x\": [-0.2756508862337576, -0.3751653402635965, null], \"y\": [0.1445382844125225, -0.1799438820629479, null]}, {\"line\": {\"color\": \"cornflowerblue\", \"width\": 0.1}, \"mode\": \"lines\", \"type\": \"scatter\", \"x\": [-0.2756508862337576, 0.7179928516099849, null], \"y\": [0.1445382844125225, 0.4719228285088163, null]}, {\"line\": {\"color\": \"cornflowerblue\", \"width\": 0.1}, \"mode\": \"lines\", \"type\": \"scatter\", \"x\": [-0.2756508862337576, -0.08831814137873804, null], \"y\": [0.1445382844125225, 0.4736060180626573, null]}, {\"line\": {\"color\": \"cornflowerblue\", \"width\": 0.33635856610148585}, \"mode\": \"lines\", \"type\": \"scatter\", \"x\": [0.3812535581236627, -0.08831814137873804, null], \"y\": [0.6970370422703416, 0.4736060180626573, null]}, {\"line\": {\"color\": \"cornflowerblue\", \"width\": 0.33635856610148585}, \"mode\": \"lines\", \"type\": \"scatter\", \"x\": [0.3812535581236627, 0.7179928516099849, null], \"y\": [0.6970370422703416, 0.4719228285088163, null]}, {\"line\": {\"color\": \"cornflowerblue\", \"width\": 0.1}, \"mode\": \"lines\", \"type\": \"scatter\", \"x\": [0.3812535581236627, -0.15789430097199458, null], \"y\": [0.6970370422703416, -0.49229196710917805, null]}, {\"line\": {\"color\": \"cornflowerblue\", \"width\": 0.1}, \"mode\": \"lines\", \"type\": \"scatter\", \"x\": [0.3812535581236627, -0.3751653402635965, null], \"y\": [0.6970370422703416, -0.1799438820629479, null]}, {\"line\": {\"color\": \"cornflowerblue\", \"width\": 0.1}, \"mode\": \"lines\", \"type\": \"scatter\", \"x\": [0.3812535581236627, 0.2630848967001795, null], \"y\": [0.6970370422703416, -0.675517178516147, null]}, {\"line\": {\"color\": \"cornflowerblue\", \"width\": 0.33635856610148585}, \"mode\": \"lines\", \"type\": \"scatter\", \"x\": [0.2630848967001795, -0.15789430097199458, null], \"y\": [-0.675517178516147, -0.49229196710917805, null]}, {\"line\": {\"color\": \"cornflowerblue\", \"width\": 0.1}, \"mode\": \"lines\", \"type\": \"scatter\", \"x\": [0.2630848967001795, -0.8259621809897474, null], \"y\": [-0.675517178516147, -0.615791266454315, null]}, {\"line\": {\"color\": \"cornflowerblue\", \"width\": 0.1}, \"mode\": \"lines\", \"type\": \"scatter\", \"x\": [0.2630848967001795, -1.0, null], \"y\": [-0.675517178516147, -0.09727526898035725, null]}, {\"line\": {\"color\": \"cornflowerblue\", \"width\": 0.33635856610148585}, \"mode\": \"lines\", \"type\": \"scatter\", \"x\": [0.2630848967001795, -0.3751653402635965, null], \"y\": [-0.675517178516147, -0.1799438820629479, null]}, {\"line\": {\"color\": \"cornflowerblue\", \"width\": 0.1}, \"mode\": \"lines\", \"type\": \"scatter\", \"x\": [0.2630848967001795, 0.7179928516099849, null], \"y\": [-0.675517178516147, 0.4719228285088163, null]}, {\"line\": {\"color\": \"cornflowerblue\", \"width\": 0.1}, \"mode\": \"lines\", \"type\": \"scatter\", \"x\": [0.2630848967001795, -0.08831814137873804, null], \"y\": [-0.675517178516147, 0.4736060180626573, null]}, {\"line\": {\"color\": \"cornflowerblue\", \"width\": 0.33635856610148585}, \"mode\": \"lines\", \"type\": \"scatter\", \"x\": [-0.15789430097199458, -0.8259621809897474, null], \"y\": [-0.49229196710917805, -0.615791266454315, null]}, {\"line\": {\"color\": \"cornflowerblue\", \"width\": 0.33635856610148585}, \"mode\": \"lines\", \"type\": \"scatter\", \"x\": [-0.15789430097199458, -1.0, null], \"y\": [-0.49229196710917805, -0.09727526898035725, null]}, {\"line\": {\"color\": \"cornflowerblue\", \"width\": 0.6838521170864333}, \"mode\": \"lines\", \"type\": \"scatter\", \"x\": [-0.15789430097199458, -0.3751653402635965, null], \"y\": [-0.49229196710917805, -0.1799438820629479, null]}, {\"line\": {\"color\": \"cornflowerblue\", \"width\": 0.33635856610148585}, \"mode\": \"lines\", \"type\": \"scatter\", \"x\": [-0.15789430097199458, -0.08831814137873804, null], \"y\": [-0.49229196710917805, 0.4736060180626573, null]}, {\"line\": {\"color\": \"cornflowerblue\", \"width\": 0.1}, \"mode\": \"lines\", \"type\": \"scatter\", \"x\": [-0.15789430097199458, 0.7179928516099849, null], \"y\": [-0.49229196710917805, 0.4719228285088163, null]}, {\"line\": {\"color\": \"cornflowerblue\", \"width\": 0.6838521170864333}, \"mode\": \"lines\", \"type\": \"scatter\", \"x\": [-0.8259621809897474, -1.0, null], \"y\": [-0.615791266454315, -0.09727526898035725, null]}, {\"line\": {\"color\": \"cornflowerblue\", \"width\": 0.33635856610148585}, \"mode\": \"lines\", \"type\": \"scatter\", \"x\": [-0.8259621809897474, -0.3751653402635965, null], \"y\": [-0.615791266454315, -0.1799438820629479, null]}, {\"line\": {\"color\": \"cornflowerblue\", \"width\": 0.1}, \"mode\": \"lines\", \"type\": \"scatter\", \"x\": [-0.8259621809897474, -0.08831814137873804, null], \"y\": [-0.615791266454315, 0.4736060180626573, null]}, {\"line\": {\"color\": \"cornflowerblue\", \"width\": 0.33635856610148585}, \"mode\": \"lines\", \"type\": \"scatter\", \"x\": [-1.0, -0.3751653402635965, null], \"y\": [-0.09727526898035725, -0.1799438820629479, null]}, {\"line\": {\"color\": \"cornflowerblue\", \"width\": 0.1}, \"mode\": \"lines\", \"type\": \"scatter\", \"x\": [-1.0, -0.08831814137873804, null], \"y\": [-0.09727526898035725, 0.4736060180626573, null]}, {\"line\": {\"color\": \"cornflowerblue\", \"width\": 0.33635856610148585}, \"mode\": \"lines\", \"type\": \"scatter\", \"x\": [-0.3751653402635965, -0.08831814137873804, null], \"y\": [-0.1799438820629479, 0.4736060180626573, null]}, {\"line\": {\"color\": \"cornflowerblue\", \"width\": 0.1}, \"mode\": \"lines\", \"type\": \"scatter\", \"x\": [-0.3751653402635965, 0.7179928516099849, null], \"y\": [-0.1799438820629479, 0.4719228285088163, null]}, {\"line\": {\"color\": \"cornflowerblue\", \"width\": 0.33635856610148585}, \"mode\": \"lines\", \"type\": \"scatter\", \"x\": [-0.08831814137873804, 0.7179928516099849, null], \"y\": [0.4736060180626573, 0.4719228285088163, null]}, {\"hoverinfo\": \"none\", \"marker\": {\"color\": [\"cornflowerblue\", \"cornflowerblue\", \"cornflowerblue\", \"cornflowerblue\", \"cornflowerblue\", \"cornflowerblue\", \"cornflowerblue\", \"cornflowerblue\", \"cornflowerblue\", \"cornflowerblue\", \"cornflowerblue\", \"cornflowerblue\", \"cornflowerblue\", \"cornflowerblue\"], \"size\": [7.800000000000001, 3.0, 3.0, 7.800000000000001, 4.6, 7.800000000000001, 7.0, 5.4, 6.2, 3.0, 3.0, 4.6, 6.2, 7.800000000000001]}, \"mode\": \"markers+text\", \"text\": [\"<b>Deutschland</b>\", \"<b>Stra\\u00dfe</b>\", \"<b>Hongkong</b>\", \"<b>USA</b>\", \"<b>B\\u00fcrger</b>\", \"<b>Europa</b>\", \"<b>Coronavirus-Pandemie</b>\", \"<b>Corona</b>\", \"<b>den USA</b>\", \"<b>Pfizer</b>\", \"<b>Moderna</b>\", \"<b>EU</b>\", \"<b>Staaten</b>\", \"<b>Coronavirus</b>\"], \"textfont\": {\"size\": 9}, \"textposition\": \"top center\", \"type\": \"scatter\", \"x\": [0.17467945229048606, 0.7724412096658002, -0.5264134145664416, 0.12962776697794517, 0.8103245290362157, -0.2756508862337576, 0.3812535581236627, 0.2630848967001795, -0.15789430097199458, -0.8259621809897474, -1.0, -0.3751653402635965, -0.08831814137873804, 0.7179928516099849], \"y\": [0.14430447014026024, 0.056429640119353815, 0.6586399267697444, -0.2202079719511623, -0.36545067520959107, 0.1445382844125225, 0.6970370422703416, -0.675517178516147, -0.49229196710917805, -0.615791266454315, -0.09727526898035725, -0.1799438820629479, 0.4736060180626573, 0.4719228285088163]}],                        {\"paper_bgcolor\": \"rgba(0,0,0,0)\", \"plot_bgcolor\": \"rgba(0,0,0,0)\", \"showlegend\": false, \"template\": {\"data\": {\"bar\": [{\"error_x\": {\"color\": \"#2a3f5f\"}, \"error_y\": {\"color\": \"#2a3f5f\"}, \"marker\": {\"line\": {\"color\": \"#E5ECF6\", \"width\": 0.5}}, \"type\": \"bar\"}], \"barpolar\": [{\"marker\": {\"line\": {\"color\": \"#E5ECF6\", \"width\": 0.5}}, \"type\": \"barpolar\"}], \"carpet\": [{\"aaxis\": {\"endlinecolor\": \"#2a3f5f\", \"gridcolor\": \"white\", \"linecolor\": \"white\", \"minorgridcolor\": \"white\", \"startlinecolor\": \"#2a3f5f\"}, \"baxis\": {\"endlinecolor\": \"#2a3f5f\", \"gridcolor\": \"white\", \"linecolor\": \"white\", \"minorgridcolor\": \"white\", \"startlinecolor\": \"#2a3f5f\"}, \"type\": \"carpet\"}], \"choropleth\": [{\"colorbar\": {\"outlinewidth\": 0, \"ticks\": \"\"}, \"type\": \"choropleth\"}], \"contour\": [{\"colorbar\": {\"outlinewidth\": 0, \"ticks\": \"\"}, \"colorscale\": [[0.0, \"#0d0887\"], [0.1111111111111111, \"#46039f\"], [0.2222222222222222, \"#7201a8\"], [0.3333333333333333, \"#9c179e\"], [0.4444444444444444, \"#bd3786\"], [0.5555555555555556, \"#d8576b\"], [0.6666666666666666, \"#ed7953\"], [0.7777777777777778, \"#fb9f3a\"], [0.8888888888888888, \"#fdca26\"], [1.0, \"#f0f921\"]], \"type\": \"contour\"}], \"contourcarpet\": [{\"colorbar\": {\"outlinewidth\": 0, \"ticks\": \"\"}, \"type\": \"contourcarpet\"}], \"heatmap\": [{\"colorbar\": {\"outlinewidth\": 0, \"ticks\": \"\"}, \"colorscale\": [[0.0, \"#0d0887\"], [0.1111111111111111, \"#46039f\"], [0.2222222222222222, \"#7201a8\"], [0.3333333333333333, \"#9c179e\"], [0.4444444444444444, \"#bd3786\"], [0.5555555555555556, \"#d8576b\"], [0.6666666666666666, \"#ed7953\"], [0.7777777777777778, \"#fb9f3a\"], [0.8888888888888888, \"#fdca26\"], [1.0, \"#f0f921\"]], \"type\": \"heatmap\"}], \"heatmapgl\": [{\"colorbar\": {\"outlinewidth\": 0, \"ticks\": \"\"}, \"colorscale\": [[0.0, \"#0d0887\"], [0.1111111111111111, \"#46039f\"], [0.2222222222222222, \"#7201a8\"], [0.3333333333333333, \"#9c179e\"], [0.4444444444444444, \"#bd3786\"], [0.5555555555555556, \"#d8576b\"], [0.6666666666666666, \"#ed7953\"], [0.7777777777777778, \"#fb9f3a\"], [0.8888888888888888, \"#fdca26\"], [1.0, \"#f0f921\"]], \"type\": \"heatmapgl\"}], \"histogram\": [{\"marker\": {\"colorbar\": {\"outlinewidth\": 0, \"ticks\": \"\"}}, \"type\": \"histogram\"}], \"histogram2d\": [{\"colorbar\": {\"outlinewidth\": 0, \"ticks\": \"\"}, \"colorscale\": [[0.0, \"#0d0887\"], [0.1111111111111111, \"#46039f\"], [0.2222222222222222, \"#7201a8\"], [0.3333333333333333, \"#9c179e\"], [0.4444444444444444, \"#bd3786\"], [0.5555555555555556, \"#d8576b\"], [0.6666666666666666, \"#ed7953\"], [0.7777777777777778, \"#fb9f3a\"], [0.8888888888888888, \"#fdca26\"], [1.0, \"#f0f921\"]], \"type\": \"histogram2d\"}], \"histogram2dcontour\": [{\"colorbar\": {\"outlinewidth\": 0, \"ticks\": \"\"}, \"colorscale\": [[0.0, \"#0d0887\"], [0.1111111111111111, \"#46039f\"], [0.2222222222222222, \"#7201a8\"], [0.3333333333333333, \"#9c179e\"], [0.4444444444444444, \"#bd3786\"], [0.5555555555555556, \"#d8576b\"], [0.6666666666666666, \"#ed7953\"], [0.7777777777777778, \"#fb9f3a\"], [0.8888888888888888, \"#fdca26\"], [1.0, \"#f0f921\"]], \"type\": \"histogram2dcontour\"}], \"mesh3d\": [{\"colorbar\": {\"outlinewidth\": 0, \"ticks\": \"\"}, \"type\": \"mesh3d\"}], \"parcoords\": [{\"line\": {\"colorbar\": {\"outlinewidth\": 0, \"ticks\": \"\"}}, \"type\": \"parcoords\"}], \"pie\": [{\"automargin\": true, \"type\": \"pie\"}], \"scatter\": [{\"marker\": {\"colorbar\": {\"outlinewidth\": 0, \"ticks\": \"\"}}, \"type\": \"scatter\"}], \"scatter3d\": [{\"line\": {\"colorbar\": {\"outlinewidth\": 0, \"ticks\": \"\"}}, \"marker\": {\"colorbar\": {\"outlinewidth\": 0, \"ticks\": \"\"}}, \"type\": \"scatter3d\"}], \"scattercarpet\": [{\"marker\": {\"colorbar\": {\"outlinewidth\": 0, \"ticks\": \"\"}}, \"type\": \"scattercarpet\"}], \"scattergeo\": [{\"marker\": {\"colorbar\": {\"outlinewidth\": 0, \"ticks\": \"\"}}, \"type\": \"scattergeo\"}], \"scattergl\": [{\"marker\": {\"colorbar\": {\"outlinewidth\": 0, \"ticks\": \"\"}}, \"type\": \"scattergl\"}], \"scattermapbox\": [{\"marker\": {\"colorbar\": {\"outlinewidth\": 0, \"ticks\": \"\"}}, \"type\": \"scattermapbox\"}], \"scatterpolar\": [{\"marker\": {\"colorbar\": {\"outlinewidth\": 0, \"ticks\": \"\"}}, \"type\": \"scatterpolar\"}], \"scatterpolargl\": [{\"marker\": {\"colorbar\": {\"outlinewidth\": 0, \"ticks\": \"\"}}, \"type\": \"scatterpolargl\"}], \"scatterternary\": [{\"marker\": {\"colorbar\": {\"outlinewidth\": 0, \"ticks\": \"\"}}, \"type\": \"scatterternary\"}], \"surface\": [{\"colorbar\": {\"outlinewidth\": 0, \"ticks\": \"\"}, \"colorscale\": [[0.0, \"#0d0887\"], [0.1111111111111111, \"#46039f\"], [0.2222222222222222, \"#7201a8\"], [0.3333333333333333, \"#9c179e\"], [0.4444444444444444, \"#bd3786\"], [0.5555555555555556, \"#d8576b\"], [0.6666666666666666, \"#ed7953\"], [0.7777777777777778, \"#fb9f3a\"], [0.8888888888888888, \"#fdca26\"], [1.0, \"#f0f921\"]], \"type\": \"surface\"}], \"table\": [{\"cells\": {\"fill\": {\"color\": \"#EBF0F8\"}, \"line\": {\"color\": \"white\"}}, \"header\": {\"fill\": {\"color\": \"#C8D4E3\"}, \"line\": {\"color\": \"white\"}}, \"type\": \"table\"}]}, \"layout\": {\"annotationdefaults\": {\"arrowcolor\": \"#2a3f5f\", \"arrowhead\": 0, \"arrowwidth\": 1}, \"coloraxis\": {\"colorbar\": {\"outlinewidth\": 0, \"ticks\": \"\"}}, \"colorscale\": {\"diverging\": [[0, \"#8e0152\"], [0.1, \"#c51b7d\"], [0.2, \"#de77ae\"], [0.3, \"#f1b6da\"], [0.4, \"#fde0ef\"], [0.5, \"#f7f7f7\"], [0.6, \"#e6f5d0\"], [0.7, \"#b8e186\"], [0.8, \"#7fbc41\"], [0.9, \"#4d9221\"], [1, \"#276419\"]], \"sequential\": [[0.0, \"#0d0887\"], [0.1111111111111111, \"#46039f\"], [0.2222222222222222, \"#7201a8\"], [0.3333333333333333, \"#9c179e\"], [0.4444444444444444, \"#bd3786\"], [0.5555555555555556, \"#d8576b\"], [0.6666666666666666, \"#ed7953\"], [0.7777777777777778, \"#fb9f3a\"], [0.8888888888888888, \"#fdca26\"], [1.0, \"#f0f921\"]], \"sequentialminus\": [[0.0, \"#0d0887\"], [0.1111111111111111, \"#46039f\"], [0.2222222222222222, \"#7201a8\"], [0.3333333333333333, \"#9c179e\"], [0.4444444444444444, \"#bd3786\"], [0.5555555555555556, \"#d8576b\"], [0.6666666666666666, \"#ed7953\"], [0.7777777777777778, \"#fb9f3a\"], [0.8888888888888888, \"#fdca26\"], [1.0, \"#f0f921\"]]}, \"colorway\": [\"#636efa\", \"#EF553B\", \"#00cc96\", \"#ab63fa\", \"#FFA15A\", \"#19d3f3\", \"#FF6692\", \"#B6E880\", \"#FF97FF\", \"#FECB52\"], \"font\": {\"color\": \"#2a3f5f\"}, \"geo\": {\"bgcolor\": \"white\", \"lakecolor\": \"white\", \"landcolor\": \"#E5ECF6\", \"showlakes\": true, \"showland\": true, \"subunitcolor\": \"white\"}, \"hoverlabel\": {\"align\": \"left\"}, \"hovermode\": \"closest\", \"mapbox\": {\"style\": \"light\"}, \"paper_bgcolor\": \"white\", \"plot_bgcolor\": \"#E5ECF6\", \"polar\": {\"angularaxis\": {\"gridcolor\": \"white\", \"linecolor\": \"white\", \"ticks\": \"\"}, \"bgcolor\": \"#E5ECF6\", \"radialaxis\": {\"gridcolor\": \"white\", \"linecolor\": \"white\", \"ticks\": \"\"}}, \"scene\": {\"xaxis\": {\"backgroundcolor\": \"#E5ECF6\", \"gridcolor\": \"white\", \"gridwidth\": 2, \"linecolor\": \"white\", \"showbackground\": true, \"ticks\": \"\", \"zerolinecolor\": \"white\"}, \"yaxis\": {\"backgroundcolor\": \"#E5ECF6\", \"gridcolor\": \"white\", \"gridwidth\": 2, \"linecolor\": \"white\", \"showbackground\": true, \"ticks\": \"\", \"zerolinecolor\": \"white\"}, \"zaxis\": {\"backgroundcolor\": \"#E5ECF6\", \"gridcolor\": \"white\", \"gridwidth\": 2, \"linecolor\": \"white\", \"showbackground\": true, \"ticks\": \"\", \"zerolinecolor\": \"white\"}}, \"shapedefaults\": {\"line\": {\"color\": \"#2a3f5f\"}}, \"ternary\": {\"aaxis\": {\"gridcolor\": \"white\", \"linecolor\": \"white\", \"ticks\": \"\"}, \"baxis\": {\"gridcolor\": \"white\", \"linecolor\": \"white\", \"ticks\": \"\"}, \"bgcolor\": \"#E5ECF6\", \"caxis\": {\"gridcolor\": \"white\", \"linecolor\": \"white\", \"ticks\": \"\"}}, \"title\": {\"x\": 0.05}, \"xaxis\": {\"automargin\": true, \"gridcolor\": \"white\", \"linecolor\": \"white\", \"ticks\": \"\", \"title\": {\"standoff\": 15}, \"zerolinecolor\": \"white\", \"zerolinewidth\": 2}, \"yaxis\": {\"automargin\": true, \"gridcolor\": \"white\", \"linecolor\": \"white\", \"ticks\": \"\", \"title\": {\"standoff\": 15}, \"zerolinecolor\": \"white\", \"zerolinewidth\": 2}}}, \"xaxis\": {\"showgrid\": false, \"showticklabels\": false, \"zeroline\": false}, \"yaxis\": {\"showgrid\": false, \"showticklabels\": false, \"zeroline\": false}},                        {\"responsive\": true}                    ).then(function(){\n",
       "                            \n",
       "var gd = document.getElementById('a7e7f3f2-eeb8-4883-9875-0cd7670289c2');\n",
       "var x = new MutationObserver(function (mutations, observer) {{\n",
       "        var display = window.getComputedStyle(gd).display;\n",
       "        if (!display || display === 'none') {{\n",
       "            console.log([gd, 'removed!']);\n",
       "            Plotly.purge(gd);\n",
       "            observer.disconnect();\n",
       "        }}\n",
       "}});\n",
       "\n",
       "// Listen for the removal of the full notebook cells\n",
       "var notebookContainer = gd.closest('#notebook-container');\n",
       "if (notebookContainer) {{\n",
       "    x.observe(notebookContainer, {childList: true});\n",
       "}}\n",
       "\n",
       "// Listen for the clearing of the current output cell\n",
       "var outputEl = gd.closest('.output');\n",
       "if (outputEl) {{\n",
       "    x.observe(outputEl, {childList: true});\n",
       "}}\n",
       "\n",
       "                        })                };                });            </script>        </div>"
      ]
     },
     "metadata": {},
     "output_type": "display_data"
    }
   ],
   "source": [
    "# Make a node trace\n",
    "node_trace = go.Scatter(x         = [],\n",
    "                        y         = [],\n",
    "                        text      = [],\n",
    "                        textposition = \"top center\",\n",
    "                        textfont_size = 9,\n",
    "                        mode      = 'markers+text',\n",
    "                        hoverinfo = 'none',\n",
    "                        marker    = dict(color = [],\n",
    "                                         size  = [],\n",
    "                                         line  = None))\n",
    "# For each node, get the position and size and add to the node_trace\n",
    "for node in companies2.nodes():\n",
    "    x, y = nodepositions2[node]\n",
    "    node_trace['x'] += (x,) \n",
    "    node_trace['y'] += (y,) \n",
    "    node_trace['marker']['color'] += ('cornflowerblue',)\n",
    "    node_trace['marker']['size'] += (3+0.8*orgs[node],) \n",
    "    node_trace['text'] += ('<b>' + node + '</b>',)\n",
    "    \n",
    "    \n",
    "# Custom function to create an edge between node x and node y, with a given text and width\n",
    "def make_edge(x, y, width):\n",
    "    return  go.Scatter(x     = x,\n",
    "                       y     = y,\n",
    "                       line  = dict(width = width, color = 'cornflowerblue'),\n",
    "                       mode  = 'lines')\n",
    "\n",
    "\n",
    "# For each edge, make an edge_trace, append to list\n",
    "edge_trace = []\n",
    "for edge in companies2.edges():\n",
    "    org1 = edge[0]\n",
    "    org2 = edge[1]\n",
    "    x0, y0 = nodepositions2[org1]\n",
    "    x1, y1 = nodepositions2[org2]\n",
    "    linewidth = 0.1*Relations2[org1][org2]**1.75\n",
    "    trace  = make_edge([x0, x1, None], [y0, y1, None],  width = linewidth)\n",
    "    edge_trace.append(trace)\n",
    "    \n",
    "    \n",
    "# Customize layout\n",
    "layout = go.Layout(\n",
    "    paper_bgcolor='rgba(0,0,0,0)', # transparent background\n",
    "    plot_bgcolor='rgba(0,0,0,0)', # transparent 2nd background\n",
    "    xaxis =  {'showgrid': False, 'zeroline': False}, # no gridlines\n",
    "    yaxis = {'showgrid': False, 'zeroline': False}, # no gridlines\n",
    ")\n",
    "# Create figure\n",
    "fig = go.Figure(layout = layout)\n",
    "# Add all edge traces\n",
    "for trace in edge_trace:\n",
    "    fig.add_trace(trace)\n",
    "# Add node trace\n",
    "fig.add_trace(node_trace)\n",
    "# Remove legend\n",
    "fig.update_layout(showlegend = False)\n",
    "# Remove tick labels\n",
    "fig.update_xaxes(showticklabels = False)\n",
    "fig.update_yaxes(showticklabels = False)\n",
    "# Show figure\n",
    "fig.show()    "
   ]
  },
  {
   "cell_type": "code",
   "execution_count": null,
   "metadata": {},
   "outputs": [],
   "source": []
  }
 ],
 "metadata": {
  "kernelspec": {
   "display_name": "Python 3",
   "language": "python",
   "name": "python3"
  },
  "language_info": {
   "codemirror_mode": {
    "name": "ipython",
    "version": 3
   },
   "file_extension": ".py",
   "mimetype": "text/x-python",
   "name": "python",
   "nbconvert_exporter": "python",
   "pygments_lexer": "ipython3",
   "version": "3.8.3"
  }
 },
 "nbformat": 4,
 "nbformat_minor": 4
}
